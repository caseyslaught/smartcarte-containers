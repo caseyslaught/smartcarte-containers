{
 "cells": [
  {
   "cell_type": "code",
   "execution_count": null,
   "id": "438f01be-459b-4bee-8977-f6a4f5357ae8",
   "metadata": {},
   "outputs": [],
   "source": [
    "\n",
    "DAYS_BUFFER = 64\n",
    "\n",
    "NODATA_BYTE = 255\n",
    "NODATA_FLOAT32 = 3141592 # this is just made up...\n",
    "NODATA_INT8 = 127\n",
    "NODATA_UINT16 = 65535\n",
    "\n",
    "S2_BANDS = ['SCL', 'B02', 'B03', 'B04', 'B08'] # make sure SCL first\n",
    "\n",
    "S3_TASKS_BUCKET = 'smartcarte-tasks'\n"
   ]
  }
 ],
 "metadata": {
  "kernelspec": {
   "display_name": "Python 3 (ipykernel)",
   "language": "python",
   "name": "python3"
  },
  "language_info": {
   "codemirror_mode": {
    "name": "ipython",
    "version": 3
   },
   "file_extension": ".py",
   "mimetype": "text/x-python",
   "name": "python",
   "nbconvert_exporter": "python",
   "pygments_lexer": "ipython3",
   "version": "3.8.16"
  }
 },
 "nbformat": 4,
 "nbformat_minor": 5
}
