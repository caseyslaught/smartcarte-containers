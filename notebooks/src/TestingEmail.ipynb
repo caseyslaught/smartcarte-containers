{
 "cells": [
  {
   "cell_type": "code",
   "execution_count": 8,
   "id": "717cfddc-cda4-402a-b44f-2e3b2b6910cb",
   "metadata": {},
   "outputs": [],
   "source": [
    "%reload_ext autoreload\n",
    "%autoreload 2\n",
    "\n",
    "\n",
    "import common.aws.ses as ses\n",
    "\n",
    "from_address = \"tasks@smartcarte.earth\"\n",
    "from_name = \"Smart Carte\"\n",
    "to_addresses = [\"caseyslaught@gmail.com\"]\n",
    "subject = \"Your task is complete!\"\n",
    "body = \"\"\"\n",
    "Click the following link to access your results:\n",
    "https://smartcarte.earth/demo/449a48df-edef-45f8-82c7-c539c3f86c20\n",
    "\n",
    "Region: 2,249 ha\n",
    "Percent clouds: 10%\n",
    "\n",
    "You can create a new task here: \n",
    "https://smartcarte.earth/demo\n",
    "\"\"\"\n",
    "\n",
    "ses.send_email(from_address, from_name, to_addresses, subject, body)\n"
   ]
  }
 ],
 "metadata": {
  "kernelspec": {
   "display_name": "Python 3 (ipykernel)",
   "language": "python",
   "name": "python3"
  },
  "language_info": {
   "codemirror_mode": {
    "name": "ipython",
    "version": 3
   },
   "file_extension": ".py",
   "mimetype": "text/x-python",
   "name": "python",
   "nbconvert_exporter": "python",
   "pygments_lexer": "ipython3",
   "version": "3.8.16"
  }
 },
 "nbformat": 4,
 "nbformat_minor": 5
}
