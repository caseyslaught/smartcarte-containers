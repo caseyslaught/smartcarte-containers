{
 "cells": [
  {
   "cell_type": "code",
   "execution_count": null,
   "metadata": {},
   "outputs": [],
   "source": [
    "# pull training data and link it to analysis-ready data\n",
    "# todo: either access locally or use Window to access on S3 (might need to use bbox instead though)"
   ]
  },
  {
   "cell_type": "code",
   "execution_count": 2,
   "metadata": {},
   "outputs": [],
   "source": [
    "import os\n",
    "\n",
    "try:\n",
    "    from common.sagemaker_env import LABELBOX_API_KEY\n",
    "except: \n",
    "    LABELBOX_API_KEY = os.environ['LABELBOX_API_KEY']"
   ]
  },
  {
   "cell_type": "code",
   "execution_count": 24,
   "metadata": {},
   "outputs": [],
   "source": [
    "from datetime import datetime, timedelta\n",
    "from labelbox import Client\n",
    "\n",
    "\n",
    "client = Client(api_key=LABELBOX_API_KEY)\n",
    "project = client.get_project(\"clcrkcvn9281j07xybmww69pn\")\n",
    "\n",
    "now = datetime.today()\n",
    "then = now - timedelta(days=60)\n",
    "\n",
    "data_rows = project.export_labels(download=True, start=then.strftime('%Y-%m-%d'), end=now.strftime('%Y-%m-%d'))"
   ]
  },
  {
   "cell_type": "code",
   "execution_count": null,
   "metadata": {},
   "outputs": [],
   "source": []
  },
  {
   "cell_type": "code",
   "execution_count": 63,
   "metadata": {},
   "outputs": [
    {
     "name": "stdout",
     "output_type": "stream",
     "text": [
      "81\n",
      "download: https://data.smartcarte.earth/training/20210101_20210301_south/20210101_20210301_south_all_uint16_cog.tif\n",
      "(4, 26, 41)\n"
     ]
    },
    {
     "data": {
      "image/png": "[encoded data removed]",
      "text/plain": [
       "<Figure size 640x480 with 1 Axes>"
      ]
     },
     "metadata": {},
     "output_type": "display_data"
    }
   ],
   "source": [
    "%reload_ext autoreload\n",
    "%autoreload 2\n",
    "\n",
    "import json\n",
    "import matplotlib.pyplot as plt\n",
    "\n",
    "import common.utilities.download as download\n",
    "import common.utilities.visualization as visualization\n",
    "\n",
    "\n",
    "for row in data_rows:\n",
    "    row_id = row['ID']\n",
    "    metadata = json.loads(row['Labeled Data'])\n",
    "    rgb_cog_url = metadata['tileLayerUrl']\n",
    "    all_cog_url = rgb_cog_url.replace('rgb_byte_cog', 'all_uint16_cog')\n",
    "    \n",
    "    labels = row['Label']['objects']\n",
    "    print(len(labels))\n",
    "    for label in labels:\n",
    "        class_title = label['title']\n",
    "        class_value = label['value']\n",
    "        geometry = label['geometry']\n",
    "        coordinates = geometry['coordinates'][0][:-1]\n",
    "            \n",
    "        longitudes = [coord[0] for coord in coordinates]\n",
    "        latitudes = [coord[1] for coord in coordinates]\n",
    "        \n",
    "        x_min, y_min = min(longitudes), min(latitudes)\n",
    "        x_max, y_max = max(longitudes), max(latitudes)\n",
    "         \n",
    "        bbox = [x_min, y_min, x_max, y_max]      \n",
    "        \n",
    "        data = download.download_bbox(bbox, all_cog_url, read_all=True)\n",
    "        print(data.shape)\n",
    "\n",
    "        visualization.plot_bands(data, bands=[2, 1, 0])\n",
    "        \n",
    "        # TODO: not really sure how to save this info?\n",
    "        # TODO: probably need to come up with ML strategry first.\n",
    "        \n",
    "        break\n",
    "    "
   ]
  },
  {
   "cell_type": "code",
   "execution_count": null,
   "metadata": {},
   "outputs": [],
   "source": []
  },
  {
   "cell_type": "code",
   "execution_count": null,
   "metadata": {},
   "outputs": [],
   "source": []
  },
  {
   "cell_type": "code",
   "execution_count": null,
   "metadata": {},
   "outputs": [],
   "source": []
  }
 ],
 "metadata": {
  "kernelspec": {
   "display_name": "Python 3 (ipykernel)",
   "language": "python",
   "name": "python3"
  },
  "language_info": {
   "codemirror_mode": {
    "name": "ipython",
    "version": 3
   },
   "file_extension": ".py",
   "mimetype": "text/x-python",
   "name": "python",
   "nbconvert_exporter": "python",
   "pygments_lexer": "ipython3",
   "version": "3.8.16"
  }
 },
 "nbformat": 4,
 "nbformat_minor": 4
}
