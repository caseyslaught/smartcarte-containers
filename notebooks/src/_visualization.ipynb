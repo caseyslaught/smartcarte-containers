{
 "cells": [
  {
   "cell_type": "code",
   "execution_count": null,
   "metadata": {},
   "outputs": [],
   "source": [
    "import geopandas as gpd\n",
    "import matplotlib.pyplot as plt\n",
    "import pandas as pd\n",
    "\n",
    "\n",
    "def test():\n",
    "    print(\"hello world\")\n",
    "    \n",
    "\n",
    "def plot_collection(items polygon):\n",
    "    \n",
    "    s2_list = [[i['id'], shape(i['geometry'])] for i in items]\n",
    "    s2_list.append(['bounds', box(*polygon.bounds)])\n",
    "    s2_df = pd.DataFrame(s2_list, columns=[\"id\", \"polygon\"])\n",
    "\n",
    "    s2_gdf = gpd.GeoDataFrame(s2_df, geometry=s2_df.polygon)\n",
    "    world = gpd.read_file(gpd.datasets.get_path('naturalearth_lowres'))\n",
    "    base = world.plot(color='white', edgecolor='black', figsize=(10, 10)) # AxesSubplot\n",
    "\n",
    "    ax = s2_gdf[-1:].plot(ax=base, color='white', edgecolor='red', alpha=1.0)\n",
    "    ax = s2_gdf[:-1].plot(ax=base, color='green', edgecolor='green', alpha=0.3)\n",
    "\n",
    "    minx, miny, maxx, maxy = s2_gdf[-1:].geometry.total_bounds\n",
    "    ax.set_xlim(minx-1, maxx+1)\n",
    "    ax.set_ylim(miny-1, maxy+1)"
   ]
  }
 ],
 "metadata": {
  "kernelspec": {
   "display_name": "Python 3 (ipykernel)",
   "language": "python",
   "name": "python3"
  },
  "language_info": {
   "codemirror_mode": {
    "name": "ipython",
    "version": 3
   },
   "file_extension": ".py",
   "mimetype": "text/x-python",
   "name": "python",
   "nbconvert_exporter": "python",
   "pygments_lexer": "ipython3",
   "version": "3.8.16"
  }
 },
 "nbformat": 4,
 "nbformat_minor": 4
}
