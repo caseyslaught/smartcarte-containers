{
 "cells": [
  {
   "cell_type": "code",
   "execution_count": 3,
   "id": "e854745e-d6e0-407d-b1b6-f369d52a6556",
   "metadata": {},
   "outputs": [],
   "source": [
    "from datetime import datetime as dt\n",
    "\n",
    "bbox = [29.044284, -1.629421, 29.398673, -1.299455]\n",
    "start_date_begin = dt(2021, 11, 1)\n",
    "start_date_end = dt(2022, 1, 20)\n",
    "end_date_begin = dt(2022, 11, 1)\n",
    "end_date_end = dt(2023, 1, 20)\n",
    "\n",
    "sub_dir = 'testingForest'\n"
   ]
  },
  {
   "cell_type": "code",
   "execution_count": 7,
   "id": "ec6f8141-1eee-4389-a0b4-12756a139113",
   "metadata": {},
   "outputs": [
    {
     "name": "stdout",
     "output_type": "stream",
     "text": [
      "\t./data/testingForest/before/s2_collection.json: 2 items found\n",
      "\t{'QU': 2}\n",
      "\t./data/testingForest/after/s2_collection.json: 3 items found\n",
      "\t{'QU': 3}\n"
     ]
    }
   ],
   "source": [
    "%run _downloads.ipynb\n",
    "\n",
    "before_col = get_collection(start_date_begin, start_date_end, bbox, f'./data/{sub_dir}/before/s2_collection.json', max_cloud_cover=5)\n",
    "after_col = get_collection(end_date_begin, end_date_end, bbox, f'./data/{sub_dir}/after/s2_collection.json', max_cloud_cover=30)\n"
   ]
  },
  {
   "cell_type": "code",
   "execution_count": 3,
   "id": "890160c6-bcb4-4325-b2a1-f3832bf45faa",
   "metadata": {},
   "outputs": [
    {
     "name": "stdout",
     "output_type": "stream",
     "text": [
      "\tdownloading... S2A_35MQU_20220112_0_L2A\n",
      "\tdownloading... S2A_35MQU_20211123_0_L2A\n",
      "\tmasking... S2A_35MQU_20220112_0_L2A\n",
      "\t\tx_shift: -19 , y_shift: -16\n",
      "\t\tx_shift: -28 , y_shift: -25\n",
      "\t\tx_shift: -37 , y_shift: -33\n",
      "\t\tx_shift: -46 , y_shift: -41\n",
      "\tmasking... S2A_35MQU_20211123_0_L2A\n",
      "\t\tx_shift: -14 , y_shift: -15\n",
      "\t\tx_shift: -21 , y_shift: -22\n",
      "\t\tx_shift: -28 , y_shift: -29\n",
      "\t\tx_shift: -35 , y_shift: -37\n",
      "\tstacking... B02\n",
      "\tcompositing... B02\n",
      "\tstacking... B03\n",
      "\tcompositing... B03\n",
      "\tstacking... B04\n",
      "\tcompositing... B04\n",
      "\tstacking... B08\n",
      "\tcompositing... B08\n"
     ]
    }
   ],
   "source": [
    "\n",
    "before_comps = get_processed_composites(before_col, bbox, f'./data/{sub_dir}/before', overwriteDownload=False, overwriteProcessing=True)\n"
   ]
  },
  {
   "cell_type": "code",
   "execution_count": 8,
   "id": "cb7abbf0-24c1-491f-9a39-354a7cb3da10",
   "metadata": {},
   "outputs": [
    {
     "name": "stdout",
     "output_type": "stream",
     "text": [
      "\tdownloading... S2A_35MQU_20230117_0_L2A\n",
      "\tdownloading... S2A_35MQU_20230107_0_L2A\n",
      "\tdownloading... S2B_35MQU_20230102_0_L2A\n",
      "\tmasking... S2A_35MQU_20230117_0_L2A\n",
      "\tmasking... S2A_35MQU_20230107_0_L2A\n",
      "\tmasking... S2B_35MQU_20230102_0_L2A\n",
      "\tstacking... B02\n",
      "\tcompositing... B02\n",
      "\tstacking... B03\n",
      "\tcompositing... B03\n",
      "\tstacking... B04\n",
      "\tcompositing... B04\n",
      "\tstacking... B08\n",
      "\tcompositing... B08\n"
     ]
    }
   ],
   "source": [
    "\n",
    "after_comps = get_processed_composites(after_col, bbox, f'./data/{sub_dir}/after', overwriteDownload=False, overwriteProcessing=True)\n"
   ]
  },
  {
   "cell_type": "code",
   "execution_count": 6,
   "id": "647ae229-0fd4-44ae-92be-36a2bdee5bea",
   "metadata": {},
   "outputs": [],
   "source": [
    "\n",
    "rgb_band_paths = [before_comps['B04'], before_comps['B03'], before_comps['B02']]\n",
    "\n",
    "rgb_uint16_vrt_path = f'./data/{sub_dir}/before/rgb_uint16.vrt'\n",
    "create_vrt(rgb_band_paths, rgb_uint16_vrt_path)\n",
    "\n",
    "rgb_byte_vrt_path = f'./data/{sub_dir}/before/rgb_byte.vrt'\n",
    "create_byte_vrt(rgb_uint16_vrt_path, rgb_byte_vrt_path)\n",
    "\n",
    "rgb_byte_tif_path = f'./data/{sub_dir}/before/rgb_byte_cog.tif'\n",
    "create_tif(rgb_byte_vrt_path, rgb_byte_tif_path, isCog=True)\n"
   ]
  },
  {
   "cell_type": "code",
   "execution_count": 6,
   "id": "4a101fd5-0a08-44f3-ad12-050ae9b07222",
   "metadata": {},
   "outputs": [],
   "source": [
    "\n",
    "rgb_band_paths = [after_comps['B04'], after_comps['B03'], after_comps['B02']]\n",
    "\n",
    "rgb_uint16_vrt_path = f'./data/{sub_dir}/after/rgb_uint16.vrt'\n",
    "create_vrt(rgb_band_paths, rgb_uint16_vrt_path)\n",
    "\n",
    "rgb_byte_vrt_path = f'./data/{sub_dir}/after/rgb_byte.vrt'\n",
    "create_byte_vrt(rgb_uint16_vrt_path, rgb_byte_vrt_path)\n",
    "\n",
    "rgb_byte_tif_path = f'./data/{sub_dir}/after/rgb_byte_cog.tif'\n",
    "create_tif(rgb_byte_vrt_path, rgb_byte_tif_path, isCog=True)\n"
   ]
  }
 ],
 "metadata": {
  "kernelspec": {
   "display_name": "Python 3 (ipykernel)",
   "language": "python",
   "name": "python3"
  },
  "language_info": {
   "codemirror_mode": {
    "name": "ipython",
    "version": 3
   },
   "file_extension": ".py",
   "mimetype": "text/x-python",
   "name": "python",
   "nbconvert_exporter": "python",
   "pygments_lexer": "ipython3",
   "version": "3.8.16"
  }
 },
 "nbformat": 4,
 "nbformat_minor": 5
}
