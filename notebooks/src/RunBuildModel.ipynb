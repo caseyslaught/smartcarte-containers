{
 "cells": [
  {
   "cell_type": "markdown",
   "id": "5ccefd33-447b-4290-8b26-af608cc346bf",
   "metadata": {},
   "source": [
    "## Build U-NET++ semantic segmentation model using PyTorch 🔥"
   ]
  },
  {
   "cell_type": "code",
   "execution_count": null,
   "id": "841da7f0-583e-4769-8fb2-89c6296c792a",
   "metadata": {},
   "outputs": [],
   "source": []
  }
 ],
 "metadata": {
  "kernelspec": {
   "display_name": "Python 3 (ipykernel)",
   "language": "python",
   "name": "python3"
  },
  "language_info": {
   "codemirror_mode": {
    "name": "ipython",
    "version": 3
   },
   "file_extension": ".py",
   "mimetype": "text/x-python",
   "name": "python",
   "nbconvert_exporter": "python",
   "pygments_lexer": "ipython3",
   "version": "3.8.16"
  }
 },
 "nbformat": 4,
 "nbformat_minor": 5
}
