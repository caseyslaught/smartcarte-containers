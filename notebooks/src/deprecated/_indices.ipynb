{
 "cells": [
  {
   "cell_type": "code",
   "execution_count": 1,
   "id": "7e7a50c2-0336-48da-9d9a-07a2efff9def",
   "metadata": {},
   "outputs": [],
   "source": [
    "import numpy as np\n",
    "import rasterio\n",
    "from rasterio.windows import Window\n",
    "import rioxarray\n",
    "\n",
    "%run _constants.ipynb\n",
    "\n",
    "\n",
    "\n",
    "def create_ndvi_old(red_path, nir_path, dst_path):\n",
    "\n",
    "    red_src = rasterio.open(red_path)\n",
    "    nir_src = rasterio.open(nir_path)\n",
    "\n",
    "    meta = nir_src.meta.copy()\n",
    "    meta['dtype'] = 'float32'\n",
    "    meta['nodata'] = NODATA_FLOAT32\n",
    "    width, height = nir_src.width, nir_src.height\n",
    "\n",
    "    with rasterio.open(dst_path, \"w\", **meta) as ndvi_dst:\n",
    "        for row in range(height):\n",
    "            red = red_src.read(1, masked=True, window=Window(0, row, width, 1))\n",
    "            nir = nir_src.read(1, masked=True, window=Window(0, row, width, 1))\n",
    "\n",
    "            # (NIR-Red) / (NIR+Red)\n",
    "            ndvi = (nir.astype(np.float32) - red.astype(np.float32)) / (nir + red)\n",
    "\n",
    "            ndvi[ndvi.mask] = 0 \n",
    "            ndvi_dst.write(ndvi, window=Window(0, row, width, 1), indexes=1)\n",
    "            "
   ]
  },
  {
   "cell_type": "code",
   "execution_count": 3,
   "id": "4b498b85-8c77-4855-95b6-a669ce7df18c",
   "metadata": {},
   "outputs": [],
   "source": [
    "import numpy as np\n",
    "import rasterio\n",
    "from rasterio.windows import Window\n",
    "import rioxarray\n",
    "\n",
    "%run _constants.ipynb\n",
    "\n",
    "\n",
    "def create_ndvi(red_path, nir_path, dst_path):\n",
    "    \n",
    "    # TODO: can just use masked?\n",
    "    red_da = rioxarray.open_rasterio(red_path, chunks=(1, 1000, 1000), mask_and_scale=True)\n",
    "    nir_da = rioxarray.open_rasterio(nir_path, chunks=(1, 1000, 1000), mask_and_scale=True)\n",
    "\n",
    "    ndvi_da = (nir_da.astype(np.float32) - red_da.astype(np.float32)) / (nir_da + red_da)\n",
    "    \n",
    "    ndvi_da.rio.to_raster(dst_path, dtype='float32', nodata=0)\n"
   ]
  }
 ],
 "metadata": {
  "kernelspec": {
   "display_name": "Python 3 (ipykernel)",
   "language": "python",
   "name": "python3"
  },
  "language_info": {
   "codemirror_mode": {
    "name": "ipython",
    "version": 3
   },
   "file_extension": ".py",
   "mimetype": "text/x-python",
   "name": "python",
   "nbconvert_exporter": "python",
   "pygments_lexer": "ipython3",
   "version": "3.8.16"
  }
 },
 "nbformat": 4,
 "nbformat_minor": 5
}
