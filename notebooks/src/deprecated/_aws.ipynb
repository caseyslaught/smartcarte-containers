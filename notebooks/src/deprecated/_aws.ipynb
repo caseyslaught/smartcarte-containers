{
 "cells": [
  {
   "cell_type": "code",
   "execution_count": null,
   "id": "fb60eef3-d7a2-4e75-a231-8ae2c74f673c",
   "metadata": {},
   "outputs": [],
   "source": [
    "import boto3\n",
    "\n",
    "\n",
    "def put_item(file_path, bucket, object_key):\n",
    "    s3 = boto3.resource('s3')\n",
    "    s3.meta.client.upload_file(file_path, bucket, object_key)\n"
   ]
  }
 ],
 "metadata": {
  "kernelspec": {
   "display_name": "Python 3 (ipykernel)",
   "language": "python",
   "name": "python3"
  },
  "language_info": {
   "codemirror_mode": {
    "name": "ipython",
    "version": 3
   },
   "file_extension": ".py",
   "mimetype": "text/x-python",
   "name": "python",
   "nbconvert_exporter": "python",
   "pygments_lexer": "ipython3",
   "version": "3.8.16"
  }
 },
 "nbformat": 4,
 "nbformat_minor": 5
}
