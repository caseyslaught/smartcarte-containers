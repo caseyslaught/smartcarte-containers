{
 "cells": [
  {
   "cell_type": "code",
   "execution_count": 21,
   "id": "6a943103-c7d4-44bd-b241-f7f2642cd015",
   "metadata": {},
   "outputs": [
    {
     "name": "stdout",
     "output_type": "stream",
     "text": [
      "\t./testingAlignment/test3857/s2_collection.json: 3 items found\n",
      "\t{'RU': 2, 'QU': 1}\n"
     ]
    }
   ],
   "source": [
    "from datetime import datetime as dt\n",
    "\n",
    "%run _downloads.ipynb\n",
    "%run _imagery.ipynb\n",
    "\n",
    "\n",
    "bbox = [29.296298, -1.582263, 29.769293, -1.197520]\n",
    "\n",
    "max_cloud_cover = 30\n",
    "start_date = dt(2020, 1, 1)\n",
    "end_date = dt(2020, 3, 1)\n",
    "\n"
   ]
  },
  {
   "cell_type": "code",
   "execution_count": 31,
   "id": "6b678df4-6ab0-41d5-aa57-cdb09e9af417",
   "metadata": {},
   "outputs": [
    {
     "name": "stdout",
     "output_type": "stream",
     "text": [
      "\t./testingAlignment/test3857/s2_collection.json: 3 items found\n",
      "\t{'RU': 2, 'QU': 1}\n"
     ]
    },
    {
     "ename": "KeyboardInterrupt",
     "evalue": "",
     "output_type": "error",
     "traceback": [
      "\u001b[0;31m---------------------------------------------------------------------------\u001b[0m",
      "\u001b[0;31mKeyboardInterrupt\u001b[0m                         Traceback (most recent call last)",
      "Cell \u001b[0;32mIn[31], line 6\u001b[0m\n\u001b[1;32m      2\u001b[0m get_ipython()\u001b[38;5;241m.\u001b[39mrun_line_magic(\u001b[38;5;124m'\u001b[39m\u001b[38;5;124mrun\u001b[39m\u001b[38;5;124m'\u001b[39m, \u001b[38;5;124m'\u001b[39m\u001b[38;5;124m_imagery.ipynb\u001b[39m\u001b[38;5;124m'\u001b[39m)\n\u001b[1;32m      4\u001b[0m sub_dir \u001b[38;5;241m=\u001b[39m \u001b[38;5;124m'\u001b[39m\u001b[38;5;124mtestingAlignment/test3857\u001b[39m\u001b[38;5;124m'\u001b[39m\n\u001b[0;32m----> 6\u001b[0m collection \u001b[38;5;241m=\u001b[39m \u001b[43mget_collection\u001b[49m\u001b[43m(\u001b[49m\u001b[43mstart_date\u001b[49m\u001b[43m,\u001b[49m\u001b[43m \u001b[49m\u001b[43mend_date\u001b[49m\u001b[43m,\u001b[49m\u001b[43m \u001b[49m\u001b[43mbbox\u001b[49m\u001b[43m,\u001b[49m\u001b[43m \u001b[49m\u001b[38;5;124;43mf\u001b[39;49m\u001b[38;5;124;43m'\u001b[39;49m\u001b[38;5;124;43m./\u001b[39;49m\u001b[38;5;132;43;01m{\u001b[39;49;00m\u001b[43msub_dir\u001b[49m\u001b[38;5;132;43;01m}\u001b[39;49;00m\u001b[38;5;124;43m/s2_collection.json\u001b[39;49m\u001b[38;5;124;43m'\u001b[39;49m\u001b[43m,\u001b[49m\u001b[43m \u001b[49m\u001b[43mmax_cloud_cover\u001b[49m\u001b[38;5;241;43m=\u001b[39;49m\u001b[38;5;241;43m30\u001b[39;49m\u001b[43m)\u001b[49m\n\u001b[1;32m      8\u001b[0m composites \u001b[38;5;241m=\u001b[39m get_processed_composites(collection, bbox, \u001b[38;5;124mf\u001b[39m\u001b[38;5;124m'\u001b[39m\u001b[38;5;124m./\u001b[39m\u001b[38;5;132;01m{\u001b[39;00msub_dir\u001b[38;5;132;01m}\u001b[39;00m\u001b[38;5;124m'\u001b[39m, overwriteDownload\u001b[38;5;241m=\u001b[39m\u001b[38;5;28;01mTrue\u001b[39;00m, overwriteProcessing\u001b[38;5;241m=\u001b[39m\u001b[38;5;28;01mTrue\u001b[39;00m, targetEPSG\u001b[38;5;241m=\u001b[39m\u001b[38;5;124m\"\u001b[39m\u001b[38;5;124mEPSG:3857\u001b[39m\u001b[38;5;124m\"\u001b[39m)\n",
      "File \u001b[0;32m/tmp/ipykernel_8910/1174701521.py:60\u001b[0m, in \u001b[0;36mget_collection\u001b[0;34m(start_date, end_date, bbox, dst_path, max_cloud_cover)\u001b[0m\n\u001b[1;32m     57\u001b[0m \u001b[38;5;28;01mif\u001b[39;00m \u001b[38;5;28mlen\u001b[39m(items) \u001b[38;5;241m==\u001b[39m \u001b[38;5;241m0\u001b[39m:\n\u001b[1;32m     58\u001b[0m     \u001b[38;5;28;01mraise\u001b[39;00m \u001b[38;5;167;01mValueError\u001b[39;00m(\u001b[38;5;124m\"\u001b[39m\u001b[38;5;124mcollection is empty\u001b[39m\u001b[38;5;124m\"\u001b[39m)\n\u001b[0;32m---> 60\u001b[0m bbox_coverage \u001b[38;5;241m=\u001b[39m \u001b[43mget_collection_bbox_coverage\u001b[49m\u001b[43m(\u001b[49m\u001b[43mcollection\u001b[49m\u001b[43m,\u001b[49m\u001b[43m \u001b[49m\u001b[43mbbox\u001b[49m\u001b[43m)\u001b[49m\n\u001b[1;32m     61\u001b[0m \u001b[38;5;28;01mif\u001b[39;00m bbox_coverage \u001b[38;5;241m<\u001b[39m \u001b[38;5;241m100\u001b[39m:\n\u001b[1;32m     62\u001b[0m     \u001b[38;5;28;01mraise\u001b[39;00m \u001b[38;5;167;01mValueError\u001b[39;00m(\u001b[38;5;124mf\u001b[39m\u001b[38;5;124m'\u001b[39m\u001b[38;5;124mcoverage is \u001b[39m\u001b[38;5;132;01m{\u001b[39;00mbbox_coverage\u001b[38;5;132;01m}\u001b[39;00m\u001b[38;5;124m% of bbox\u001b[39m\u001b[38;5;124m'\u001b[39m)\n",
      "File \u001b[0;32m/tmp/ipykernel_8910/566657321.py:25\u001b[0m, in \u001b[0;36mget_collection_bbox_coverage\u001b[0;34m(collection, bbox)\u001b[0m\n\u001b[1;32m     23\u001b[0m \u001b[38;5;28;01mfor\u001b[39;00m item \u001b[38;5;129;01min\u001b[39;00m collection:\n\u001b[1;32m     24\u001b[0m     item_ll \u001b[38;5;241m=\u001b[39m shape(item\u001b[38;5;241m.\u001b[39mgeometry)\n\u001b[0;32m---> 25\u001b[0m     item_ea \u001b[38;5;241m=\u001b[39m \u001b[43mreproject_shape\u001b[49m\u001b[43m(\u001b[49m\u001b[43mitem_ll\u001b[49m\u001b[43m,\u001b[49m\u001b[43m \u001b[49m\u001b[38;5;124;43m\"\u001b[39;49m\u001b[38;5;124;43mEPSG:4326\u001b[39;49m\u001b[38;5;124;43m\"\u001b[39;49m\u001b[43m,\u001b[49m\u001b[43m \u001b[49m\u001b[38;5;124;43m\"\u001b[39;49m\u001b[38;5;124;43mEPSG:3857\u001b[39;49m\u001b[38;5;124;43m\"\u001b[39;49m\u001b[43m)\u001b[49m\n\u001b[1;32m     27\u001b[0m     \u001b[38;5;28;01mif\u001b[39;00m collection_poly_ea \u001b[38;5;129;01mis\u001b[39;00m \u001b[38;5;28;01mNone\u001b[39;00m:\n\u001b[1;32m     28\u001b[0m         collection_poly_ea \u001b[38;5;241m=\u001b[39m item_ea\n",
      "File \u001b[0;32m/tmp/ipykernel_8910/566657321.py:13\u001b[0m, in \u001b[0;36mreproject_shape\u001b[0;34m(polygon, init_proj, target_proj)\u001b[0m\n\u001b[1;32m      7\u001b[0m \u001b[38;5;28;01mdef\u001b[39;00m \u001b[38;5;21mreproject_shape\u001b[39m(polygon, init_proj, target_proj):\n\u001b[1;32m      8\u001b[0m \u001b[38;5;250m    \u001b[39m\u001b[38;5;124;03m\"\"\"\u001b[39;00m\n\u001b[1;32m      9\u001b[0m \u001b[38;5;124;03m    EPSG: 4326, World Geodetic System 1984, degrees\u001b[39;00m\n\u001b[1;32m     10\u001b[0m \u001b[38;5;124;03m    EPSG: 3857, Pseudo-Mercator / Google Maps, meters\u001b[39;00m\n\u001b[1;32m     11\u001b[0m \u001b[38;5;124;03m    \"\"\"\u001b[39;00m\n\u001b[0;32m---> 13\u001b[0m     init_crs \u001b[38;5;241m=\u001b[39m \u001b[43mpyproj\u001b[49m\u001b[38;5;241;43m.\u001b[39;49m\u001b[43mCRS\u001b[49m\u001b[43m(\u001b[49m\u001b[43minit_proj\u001b[49m\u001b[43m)\u001b[49m\n\u001b[1;32m     14\u001b[0m     target_crs \u001b[38;5;241m=\u001b[39m pyproj\u001b[38;5;241m.\u001b[39mCRS(target_proj)\n\u001b[1;32m     15\u001b[0m     project \u001b[38;5;241m=\u001b[39m pyproj\u001b[38;5;241m.\u001b[39mTransformer\u001b[38;5;241m.\u001b[39mfrom_crs(init_crs, target_crs, always_xy\u001b[38;5;241m=\u001b[39m\u001b[38;5;28;01mTrue\u001b[39;00m)\u001b[38;5;241m.\u001b[39mtransform\n",
      "File \u001b[0;32m/var/lang/lib/python3.8/site-packages/pyproj/crs/crs.py:296\u001b[0m, in \u001b[0;36mCRS.__init__\u001b[0;34m(self, projparams, **kwargs)\u001b[0m\n\u001b[1;32m    293\u001b[0m     projkwargs \u001b[38;5;241m=\u001b[39m _prepare_from_dict(kwargs, allow_json\u001b[38;5;241m=\u001b[39m\u001b[38;5;28;01mFalse\u001b[39;00m)\n\u001b[1;32m    294\u001b[0m     projstring \u001b[38;5;241m=\u001b[39m _prepare_from_string(\u001b[38;5;124m\"\u001b[39m\u001b[38;5;124m \u001b[39m\u001b[38;5;124m\"\u001b[39m\u001b[38;5;241m.\u001b[39mjoin((projstring, projkwargs)))\n\u001b[0;32m--> 296\u001b[0m \u001b[38;5;28;43msuper\u001b[39;49m\u001b[43m(\u001b[49m\u001b[43m)\u001b[49m\u001b[38;5;241;43m.\u001b[39;49m\u001b[38;5;21;43m__init__\u001b[39;49m\u001b[43m(\u001b[49m\u001b[43mprojstring\u001b[49m\u001b[43m)\u001b[49m\n",
      "File \u001b[0;32mpyproj/_crs.pyx:2307\u001b[0m, in \u001b[0;36mpyproj._crs._CRS.__init__\u001b[0;34m()\u001b[0m\n",
      "File \u001b[0;32m/var/lang/lib/python3.8/site-packages/pyproj/compat.py:22\u001b[0m, in \u001b[0;36mpystrdecode\u001b[0;34m(cstr)\u001b[0m\n\u001b[1;32m     18\u001b[0m \u001b[38;5;28;01mdef\u001b[39;00m \u001b[38;5;21mpystrdecode\u001b[39m(cstr):\n\u001b[1;32m     19\u001b[0m \u001b[38;5;250m    \u001b[39m\u001b[38;5;124;03m\"\"\"\u001b[39;00m\n\u001b[1;32m     20\u001b[0m \u001b[38;5;124;03m    Decode a string to a python string.\u001b[39;00m\n\u001b[1;32m     21\u001b[0m \u001b[38;5;124;03m    \"\"\"\u001b[39;00m\n\u001b[0;32m---> 22\u001b[0m     \u001b[38;5;28;01mtry\u001b[39;00m:\n\u001b[1;32m     23\u001b[0m         \u001b[38;5;28;01mreturn\u001b[39;00m cstr\u001b[38;5;241m.\u001b[39mdecode(\u001b[38;5;124m\"\u001b[39m\u001b[38;5;124mutf-8\u001b[39m\u001b[38;5;124m\"\u001b[39m)\n\u001b[1;32m     24\u001b[0m     \u001b[38;5;28;01mexcept\u001b[39;00m \u001b[38;5;167;01mAttributeError\u001b[39;00m:\n",
      "\u001b[0;31mKeyboardInterrupt\u001b[0m: "
     ]
    }
   ],
   "source": [
    "%run _downloads.ipynb\n",
    "%run _imagery.ipynb\n",
    "\n",
    "sub_dir = 'testingAlignment/test3857'\n",
    "\n",
    "collection = get_collection(start_date, end_date, bbox, f'./{sub_dir}/s2_collection.json', max_cloud_cover=30)\n",
    "\n",
    "composites = get_processed_composites(collection, bbox, f'./{sub_dir}', overwriteDownload=True, overwriteProcessing=True, targetEPSG=\"EPSG:3857\")\n"
   ]
  },
  {
   "cell_type": "code",
   "execution_count": 23,
   "id": "4ee76a35-d72f-49e2-bcf7-8eef14247374",
   "metadata": {},
   "outputs": [],
   "source": [
    "\n",
    "rgb_band_paths = [composites['B04'], composites['B03'], composites['B02']]\n",
    "\n",
    "rgb_uint16_vrt_path = f'./{sub_dir}/rgb_uint16.vrt'\n",
    "create_vrt(rgb_band_paths, rgb_uint16_vrt_path)\n",
    "\n",
    "rgb_byte_vrt_path = f'./{sub_dir}/rgb_byte.vrt'\n",
    "create_byte_vrt(rgb_uint16_vrt_path, rgb_byte_vrt_path)\n",
    "\n",
    "rgb_byte_tif_path = f'./{sub_dir}/rgb_byte_cog.tif'\n",
    "create_tif(rgb_byte_vrt_path, rgb_byte_tif_path, isCog=True)"
   ]
  },
  {
   "cell_type": "code",
   "execution_count": 41,
   "id": "8435e3a5-1955-4b5b-b0fa-b04cd5159a70",
   "metadata": {},
   "outputs": [
    {
     "name": "stdout",
     "output_type": "stream",
     "text": [
      "\t./testingAlignment/test4326/s2_collection.json: 3 items found\n",
      "\t{'RU': 2, 'QU': 1}\n",
      "\tdownloading... S2A_35MRU_20200212_0_L2A\n",
      "\tdownloading... S2B_35MQU_20200207_0_L2A\n",
      "\tdownloading... S2B_35MRU_20200207_0_L2A\n",
      "\tmasking... S2A_35MRU_20200212_0_L2A\n",
      "x_shift: -19 , y_shift: -10\n",
      "x_shift: -29 , y_shift: -15\n",
      "x_shift: -38 , y_shift: -20\n",
      "x_shift: -48 , y_shift: -25\n",
      "\tmasking... S2B_35MQU_20200207_0_L2A\n",
      "x_shift: -20 , y_shift: -11\n",
      "x_shift: -30 , y_shift: -17\n",
      "x_shift: -40 , y_shift: -23\n",
      "x_shift: -50 , y_shift: -28\n",
      "\tmasking... S2B_35MRU_20200207_0_L2A\n",
      "x_shift: -19 , y_shift: -11\n",
      "x_shift: -29 , y_shift: -17\n",
      "x_shift: -38 , y_shift: -22\n",
      "x_shift: -48 , y_shift: -28\n",
      "\tcompositing... B02\n",
      "\tcompositing... B03\n",
      "\tcompositing... B04\n",
      "\tcompositing... B08\n"
     ]
    }
   ],
   "source": [
    "%run _downloads.ipynb\n",
    "%run _imagery.ipynb\n",
    "\n",
    "sub_dir = 'testingAlignment/test4326'\n",
    "\n",
    "collection = get_collection(start_date, end_date, bbox, f'./{sub_dir}/s2_collection.json', max_cloud_cover=30)\n",
    "\n",
    "composites = get_processed_composites(collection, bbox, f'./{sub_dir}', overwriteDownload=True, overwriteProcessing=True)\n"
   ]
  },
  {
   "cell_type": "code",
   "execution_count": 43,
   "id": "988342e9-7e01-479d-8686-0f9062ead508",
   "metadata": {},
   "outputs": [],
   "source": [
    "\n",
    "rgb_band_paths = [composites['B04'], composites['B03'], composites['B02']]\n",
    "\n",
    "rgb_uint16_vrt_path = f'./{sub_dir}/rgb_uint16.vrt'\n",
    "create_vrt(rgb_band_paths, rgb_uint16_vrt_path)\n",
    "\n",
    "rgb_byte_vrt_path = f'./{sub_dir}/rgb_byte.vrt'\n",
    "create_byte_vrt(rgb_uint16_vrt_path, rgb_byte_vrt_path)\n",
    "\n",
    "rgb_byte_tif_path = f'./{sub_dir}/rgb_byte_cog.tif'\n",
    "create_tif(rgb_byte_vrt_path, rgb_byte_tif_path, isCog=True)"
   ]
  },
  {
   "cell_type": "code",
   "execution_count": null,
   "id": "d99eb50c-6fc2-4f4e-a601-454b43329e93",
   "metadata": {},
   "outputs": [],
   "source": []
  },
  {
   "cell_type": "code",
   "execution_count": null,
   "id": "935dd315-ebba-4524-8486-a2461b03972c",
   "metadata": {},
   "outputs": [],
   "source": []
  },
  {
   "cell_type": "code",
   "execution_count": null,
   "id": "f8736eb0-e324-46cf-86a7-a3d48a4c9990",
   "metadata": {},
   "outputs": [],
   "source": []
  },
  {
   "cell_type": "code",
   "execution_count": null,
   "id": "dcc4902d-cae1-4dee-896d-103564644cde",
   "metadata": {},
   "outputs": [],
   "source": []
  }
 ],
 "metadata": {
  "kernelspec": {
   "display_name": "Python 3 (ipykernel)",
   "language": "python",
   "name": "python3"
  },
  "language_info": {
   "codemirror_mode": {
    "name": "ipython",
    "version": 3
   },
   "file_extension": ".py",
   "mimetype": "text/x-python",
   "name": "python",
   "nbconvert_exporter": "python",
   "pygments_lexer": "ipython3",
   "version": "3.8.16"
  }
 },
 "nbformat": 4,
 "nbformat_minor": 5
}
