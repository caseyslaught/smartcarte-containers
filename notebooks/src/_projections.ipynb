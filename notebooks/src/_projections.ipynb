{
 "cells": [
  {
   "cell_type": "markdown",
   "metadata": {},
   "source": [
    "### Functions for handling projections and cartographic stuff 🗺️"
   ]
  },
  {
   "cell_type": "code",
   "execution_count": 2,
   "metadata": {},
   "outputs": [],
   "source": [
    "import pyproj\n",
    "from shapely.geometry import box, shape\n",
    "from shapely.ops import transform as shapely_transform\n",
    "\n",
    "\n",
    "\n",
    "def reproject_shape(polygon, init_proj, target_proj):\n",
    "    \"\"\"\n",
    "    EPSG: 4326, World Geodetic System 1984, degrees\n",
    "    EPSG: 3857, Pseudo-Mercator / Google Maps, meters\n",
    "    \"\"\"\n",
    "\n",
    "    init_crs = pyproj.CRS(init_proj)\n",
    "    target_crs = pyproj.CRS(target_proj)\n",
    "    project = pyproj.Transformer.from_crs(init_crs, target_crs, always_xy=True).transform\n",
    "\n",
    "    return shapely_transform(project, polygon)\n",
    "\n",
    "\n",
    "def get_collection_bbox_coverage(collection, bbox):\n",
    "\n",
    "    collection_poly_ea = None\n",
    "    for item in collection:\n",
    "        item_ll = shape(item.geometry)\n",
    "        item_ea = reproject_shape(item_ll, \"EPSG:4326\", \"EPSG:3857\")\n",
    "\n",
    "        if collection_poly_ea is None:\n",
    "            collection_poly_ea = item_ea\n",
    "        else:\n",
    "            collection_poly_ea = collection_poly_ea.union(item_ea)\n",
    "\n",
    "    bbox_poly_ll = box(*bbox)    \n",
    "    bbox_poly_ea = reproject_shape(bbox_poly_ll, \"EPSG:4326\", \"EPSG:3857\")\n",
    "\n",
    "    intersection_poly_ea = bbox_poly_ea.intersection(collection_poly_ea)\n",
    "    intersection_pct = (intersection_poly_ea.area * 100) / bbox_poly_ea.area\n",
    "\n",
    "    return intersection_pct"
   ]
  },
  {
   "cell_type": "code",
   "execution_count": null,
   "metadata": {},
   "outputs": [],
   "source": []
  }
 ],
 "metadata": {
  "kernelspec": {
   "display_name": "Python 3 (ipykernel)",
   "language": "python",
   "name": "python3"
  },
  "language_info": {
   "codemirror_mode": {
    "name": "ipython",
    "version": 3
   },
   "file_extension": ".py",
   "mimetype": "text/x-python",
   "name": "python",
   "nbconvert_exporter": "python",
   "pygments_lexer": "ipython3",
   "version": "3.8.16"
  }
 },
 "nbformat": 4,
 "nbformat_minor": 4
}
