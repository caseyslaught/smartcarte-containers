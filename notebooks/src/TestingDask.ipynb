{
 "cells": [
  {
   "cell_type": "code",
   "execution_count": 9,
   "id": "01965433-3fa1-45c4-b73f-993d94bcef5e",
   "metadata": {},
   "outputs": [],
   "source": [
    "from datetime import datetime as dt\n",
    "\n",
    "bbox = [29.504624, -0.166193, 29.667978, -0.043299]\n",
    "\n",
    "max_cloud_cover = 15\n",
    "start_date = dt(2022, 10, 1)\n",
    "end_date = dt(2023, 1, 1)"
   ]
  },
  {
   "cell_type": "code",
   "execution_count": 104,
   "id": "47099c67-e6fc-4948-82ee-a6b660184c30",
   "metadata": {},
   "outputs": [
    {
     "name": "stdout",
     "output_type": "stream",
     "text": [
      "\t./testingDask/s2_collection.json: 5 items found\n",
      "\t{'QV': 2, 'QA': 3}\n"
     ]
    }
   ],
   "source": [
    "%run _downloads.ipynb\n",
    "%run _imagery.ipynb\n",
    "\n",
    "\n",
    "sub_dir = './testingDask'\n",
    "dst_dir = './testingDask'\n",
    "\n",
    "collection = get_collection(start_date, end_date, bbox, f'{dst_dir}/s2_collection.json', max_cloud_cover=max_cloud_cover)\n"
   ]
  },
  {
   "cell_type": "code",
   "execution_count": 105,
   "id": "52c1d25a-e8cc-47e3-a88c-d4cbd34a0094",
   "metadata": {},
   "outputs": [
    {
     "name": "stdout",
     "output_type": "stream",
     "text": [
      "\tdownloading... S2B_35MQV_20221203_0_L2A\n",
      "\tdownloading... S2B_35NQA_20221203_0_L2A\n",
      "\tdownloading... S2B_35NQA_20221103_0_L2A\n",
      "\tdownloading... S2A_35MQV_20221009_0_L2A\n",
      "\tdownloading... S2A_35NQA_20221009_0_L2A\n"
     ]
    }
   ],
   "source": [
    "%run _constants.ipynb\n",
    "\n",
    "original_scenes_dict = download_original_imagery(collection, bbox, S2_BANDS, sub_dir, overwrite=True)\n"
   ]
  },
  {
   "cell_type": "code",
   "execution_count": 106,
   "id": "2ed84112-4793-4f54-8e54-b37e0e50620e",
   "metadata": {},
   "outputs": [
    {
     "name": "stdout",
     "output_type": "stream",
     "text": [
      "\tmasking... S2B_35MQV_20221203_0_L2A\n",
      "\tmasking... S2B_35NQA_20221203_0_L2A\n",
      "\tmasking... S2B_35NQA_20221103_0_L2A\n",
      "\tmasking... S2A_35MQV_20221009_0_L2A\n",
      "\tmasking... S2A_35NQA_20221009_0_L2A\n",
      "CPU times: user 84.3 ms, sys: 10.1 ms, total: 94.4 ms\n",
      "Wall time: 158 ms\n"
     ]
    }
   ],
   "source": [
    "%%time\n",
    "\n",
    "%run _masking.ipynb\n",
    "\n",
    "masked_scenes_dict = {}\n",
    "for scene in original_scenes_dict:\n",
    "    print(f'\\tmasking... {scene}')\n",
    "    scene_dir = f'{dst_dir}/{scene}'\n",
    "    scene_dict = original_scenes_dict[scene]\n",
    "    masked_scenes_dict[scene] = save_cloud_masked_images(scene_dict, scene_dir, overwrite=True)  \n",
    "    "
   ]
  },
  {
   "cell_type": "code",
   "execution_count": 112,
   "id": "206b11d3-00f8-4bb3-921c-1711b6f914ca",
   "metadata": {},
   "outputs": [
    {
     "name": "stdout",
     "output_type": "stream",
     "text": [
      "new stack\n",
      "['-o', './testingDask/B08_stack.tif', '-separate', '-ot', 'UInt16', './testingDask/S2B_35MQV_20221203_0_L2A/B08_masked.tif', './testingDask/S2B_35NQA_20221203_0_L2A/B08_masked.tif', './testingDask/S2B_35NQA_20221103_0_L2A/B08_masked.tif', './testingDask/S2A_35MQV_20221009_0_L2A/B08_masked.tif', './testingDask/S2A_35NQA_20221009_0_L2A/B08_masked.tif']\n",
      "0...10...20...30...40...50...60...70...80...90...100 - done.\n",
      "CPU times: user 125 ms, sys: 43.4 ms, total: 168 ms\n",
      "Wall time: 3.19 s\n"
     ]
    }
   ],
   "source": [
    "%%time\n",
    "\n",
    "%run _imagery.ipynb\n",
    "\n",
    "band = \"B08\"\n",
    "masked_paths = [masked_scenes_dict[scene][band] for scene in masked_scenes_dict]\n",
    "stack_path = create_band_stack(band, masked_paths, dst_dir)\n"
   ]
  },
  {
   "cell_type": "code",
   "execution_count": 114,
   "id": "69568964-8248-4a6b-9384-3db18431e8b3",
   "metadata": {},
   "outputs": [
    {
     "name": "stdout",
     "output_type": "stream",
     "text": [
      "CPU times: user 511 ms, sys: 341 ms, total: 852 ms\n",
      "Wall time: 2.02 s\n"
     ]
    }
   ],
   "source": [
    "%%time\n",
    "\n",
    "%run _imagery.ipynb\n",
    "\n",
    "band = \"B08\"\n",
    "masked_paths = [masked_scenes_dict[scene][band] for scene in masked_scenes_dict]\n",
    "stack_path = create_band_stack2(band, masked_paths, dst_dir)\n"
   ]
  },
  {
   "cell_type": "code",
   "execution_count": 58,
   "id": "ae2890bb-da64-4381-95ad-bf5f458f6e78",
   "metadata": {},
   "outputs": [
    {
     "name": "stdout",
     "output_type": "stream",
     "text": [
      "CPU times: user 4.9 s, sys: 260 ms, total: 5.16 s\n",
      "Wall time: 6.46 s\n"
     ]
    },
    {
     "data": {
      "text/plain": [
       "'testingDask/B08_composite.tif'"
      ]
     },
     "execution_count": 58,
     "metadata": {},
     "output_type": "execute_result"
    }
   ],
   "source": [
    "%%time\n",
    "\n",
    "stack_path = f\"./testingDask/{band}_stack.tif\"\n",
    "create_composite(band, stack_path, dst_dir, method=\"median\", overwrite=True) "
   ]
  },
  {
   "cell_type": "code",
   "execution_count": 119,
   "id": "514a998a-5be6-4fc3-bb9e-6ac48ac96974",
   "metadata": {},
   "outputs": [
    {
     "name": "stdout",
     "output_type": "stream",
     "text": [
      "./testingDask/B08_composite.tif\n",
      "CPU times: user 2.76 s, sys: 371 ms, total: 3.14 s\n",
      "Wall time: 2.71 s\n"
     ]
    }
   ],
   "source": [
    "%%time\n",
    "%run _imagery.ipynb\n",
    "\n",
    "import warnings\n",
    "warnings.filterwarnings(\"ignore\", category=RuntimeWarning)\n",
    "\n",
    "stack_path = f\"./testingDask/{band}_stack.tif\"\n",
    "\n",
    "composite_path = create_composite_dask(band, stack_path, dst_dir, method=\"median\")\n",
    "\n",
    "print(composite_path)"
   ]
  },
  {
   "cell_type": "code",
   "execution_count": 53,
   "id": "f9f465be-e660-41f1-8a62-de46e0898c46",
   "metadata": {},
   "outputs": [
    {
     "data": {
      "text/plain": [
       "array([3508,    0,    0,    0,    0], dtype=uint16)"
      ]
     },
     "execution_count": 53,
     "metadata": {},
     "output_type": "execute_result"
    }
   ],
   "source": [
    "stack = rioxarray.open_rasterio(stack_path, chunks=(5, 1000, 1000))\n",
    "#centre = stack.median(axis=0)\n",
    "\n",
    "#entre = np.rint(centre).astype(np.uint16)\n",
    "#data = centre.compute()\n",
    "#data"
   ]
  },
  {
   "cell_type": "code",
   "execution_count": null,
   "id": "056c9e2b-933d-4ac8-b511-9bf75900c324",
   "metadata": {},
   "outputs": [],
   "source": []
  }
 ],
 "metadata": {
  "kernelspec": {
   "display_name": "Python 3 (ipykernel)",
   "language": "python",
   "name": "python3"
  },
  "language_info": {
   "codemirror_mode": {
    "name": "ipython",
    "version": 3
   },
   "file_extension": ".py",
   "mimetype": "text/x-python",
   "name": "python",
   "nbconvert_exporter": "python",
   "pygments_lexer": "ipython3",
   "version": "3.8.16"
  }
 },
 "nbformat": 4,
 "nbformat_minor": 5
}
