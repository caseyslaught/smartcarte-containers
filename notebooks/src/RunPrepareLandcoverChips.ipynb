{
 "cells": [
  {
   "cell_type": "markdown",
   "metadata": {},
   "source": [
    "# 0. Setup"
   ]
  },
  {
   "cell_type": "code",
   "execution_count": 1,
   "metadata": {
    "tags": []
   },
   "outputs": [],
   "source": [
    "import os\n",
    "\n",
    "labelbox_dir = \"./data/labelbox\"\n",
    "labelbox_landcover_dir = f'{labelbox_dir}/landcover'\n",
    "labelbox_landcover_rgb_dir = f'{labelbox_landcover_dir}/rgb'\n",
    "labelbox_landcover_labels_dir = f'{labelbox_landcover_dir}/labels'\n",
    "labelbox_landcover_source_dir = f'{labelbox_landcover_dir}/source'\n",
    "labelbox_landcover_temp_dir = f'{labelbox_landcover_dir}/temp'\n",
    "\n",
    "os.makedirs(labelbox_landcover_labels_dir, exist_ok=True)\n",
    "os.makedirs(labelbox_landcover_rgb_dir, exist_ok=True)\n",
    "os.makedirs(labelbox_landcover_source_dir, exist_ok=True)\n",
    "os.makedirs(labelbox_landcover_temp_dir, exist_ok=True)\n",
    "\n",
    "landcover_state_path = \"./data/labelbox/landcover/uploadState\"\n",
    "cloud_detection_model_path = os.path.join(os.getcwd(), 'cloud_detection_model_resnet18_dice_20230301.pth')\n"
   ]
  },
  {
   "cell_type": "code",
   "execution_count": 2,
   "metadata": {},
   "outputs": [],
   "source": [
    "\n",
    "try:\n",
    "    from common.sagemaker_env import LABELBOX_API_KEY\n",
    "except: \n",
    "    LABELBOX_API_KEY = os.environ['LABELBOX_API_KEY']\n",
    "    \n",
    "LANDCOVER_PROJECT_ID = \"clcrkcvn9281j07xybmww69pn\"\n"
   ]
  },
  {
   "cell_type": "markdown",
   "metadata": {},
   "source": [
    "# 1. Create chips and upload to Labelbox"
   ]
  },
  {
   "cell_type": "code",
   "execution_count": 183,
   "metadata": {
    "tags": []
   },
   "outputs": [],
   "source": [
    "%reload_ext autoreload\n",
    "%autoreload 2\n",
    "\n",
    "import numpy as np\n",
    "from patchify import patchify\n",
    "import rasterio\n",
    "import rasterio.transform\n",
    "\n",
    "from common.constants import NODATA_BYTE, NODATA_FLOAT32, RES, S2_BANDS_TIFF_ORDER\n",
    "import common.utilities.download as download\n",
    "import common.utilities.imagery as imagery\n",
    "import common.utilities.masking as masking\n",
    "\n",
    "PATCH_SIZE = 512\n",
    "\n",
    "\n",
    "def create_landcover_chips_from_bbox(bbox, start_date, end_date):\n",
    "    \n",
    "    collection_path = f'{labelbox_landcover_temp_dir}/collection.json'\n",
    "    collection = download.get_collection(start_date, end_date, bbox, collection_path, max_cloud_cover=60, max_tile_count=1, min_tile_count=1)\n",
    "    original_scenes = download.download_collection(collection, bbox, S2_BANDS_TIFF_ORDER, labelbox_landcover_temp_dir, RES)\n",
    "\n",
    "    for scene in original_scenes:\n",
    "        print(f'\\tpatchifying... {scene}')\n",
    "        \n",
    "        meta = original_scenes[scene]['meta']\n",
    "        stack_path = original_scenes[scene][\"stack_original_tif_path\"]\n",
    "        with rasterio.open(stack_path) as src:\n",
    "            if src.width < 512 or src.height < 512:\n",
    "                print(f'\\t\\tskipping... {scene}')\n",
    "                continue\n",
    "\n",
    "        bbox_str = ''.join([str(round(coord, 2)) for coord in bbox]).replace('.', '').replace('-', 'n')\n",
    "        \n",
    "        with rasterio.open(stack_path) as stack_src:\n",
    "            stack_data = stack_src.read(masked=True).transpose((1, 2, 0))\n",
    "            transform = stack_src.transform\n",
    "\n",
    "            source_patches = patchify(stack_data, (PATCH_SIZE, PATCH_SIZE, stack_data.shape[2]), step=PATCH_SIZE)\n",
    "            \n",
    "            for irow in range(source_patches.shape[0]):\n",
    "                for icol in range(source_patches.shape[1]):\n",
    "                    source_data = source_patches[irow, icol, 0, :, :, :]  \n",
    "                    source_data = np.ma.array(source_data, mask=(source_data==NODATA_FLOAT32))\n",
    "                      \n",
    "                    # save basic normalized source data, then later if can do percentile normalization if things aren't working\n",
    "                    source_data = source_data.transpose((2, 0, 1))\n",
    "                    source_data, pct_masked = masking.apply_nn_cloud_mask('', meta, '', cloud_detection_model_path, bbox=bbox, stack_data=source_data)\n",
    "                    \n",
    "                    if pct_masked > 0.60:\n",
    "                        print(f'\\t\\t{round(pct_masked*100, 2)}% masked; skipping r{irow} c{icol}')\n",
    "                        continue\n",
    "                                        \n",
    "                    rgb_data = source_data[[2, 1, 0], :, :]\n",
    "                    rgb_data = imagery.normalize_3d_array_percentiles(rgb_data, p_low=0.1, p_high=99.9)                    \n",
    "                    rgb_data_norm = (rgb_data * 254).astype(np.uint8)\n",
    "                    rgb_data_norm[rgb_data_norm > 254] = 254\n",
    "        \n",
    "                    rgb_path = f'{labelbox_landcover_rgb_dir}/{scene}_{bbox_str}_{irow}_{icol}.tif'\n",
    "                    source_path = f'{labelbox_landcover_source_dir}/{scene}_{bbox_str}_{irow}_{icol}.tif'\n",
    "                    \n",
    "                    x_min, y_min = rasterio.transform.xy(transform, PATCH_SIZE*(irow+1), PATCH_SIZE*icol)\n",
    "                    x_max, y_max = rasterio.transform.xy(transform, PATCH_SIZE*irow, PATCH_SIZE*(icol+1))             \n",
    "                    chip_bbox = [x_min, y_min, x_max, y_max]          \n",
    "\n",
    "                    source_data = source_data.transpose((1, 2, 0))\n",
    "                    rgb_data_norm = rgb_data_norm.transpose((1, 2, 0))\n",
    "                        \n",
    "                    imagery.write_array_to_tif(source_data, source_path, chip_bbox, dtype=np.float32, nodata=NODATA_FLOAT32)\n",
    "                    imagery.write_array_to_tif(rgb_data_norm, rgb_path, chip_bbox, dtype=np.uint8, nodata=NODATA_BYTE, is_cog=True)   \n",
    "                    "
   ]
  },
  {
   "cell_type": "code",
   "execution_count": 184,
   "metadata": {
    "tags": []
   },
   "outputs": [],
   "source": [
    "import common.constants as constants\n",
    "import common.aws.s3 as s3_utils\n",
    "\n",
    "\n",
    "def save_landcover_rgb_chip_to_s3(rgb_path):\n",
    "    file_name = rgb_path.split('/')[-1]    \n",
    "    object_key = f'training/landcover/rgb/{file_name}'\n",
    "    href = f'https://data.smartcarte.earth/{object_key}'\n",
    "    s3_utils.put_item(rgb_path, constants.S3_DATA_BUCKET, object_key)\n",
    "    return href\n"
   ]
  },
  {
   "cell_type": "code",
   "execution_count": 185,
   "metadata": {
    "tags": []
   },
   "outputs": [],
   "source": [
    "import datetime\n",
    "from labelbox import Client, Dataset, DataRow\n",
    "import glob\n",
    "import os\n",
    "import shelve\n",
    "\n",
    "\n",
    "client = Client(api_key=LABELBOX_API_KEY)\n",
    "project = client.get_project(LANDCOVER_PROJECT_ID)\n",
    "\n",
    "\n",
    "def create_labelbox_landcover_dataset(prefix=\"\"):\n",
    "    \n",
    "    today = datetime.datetime.today().strftime('%Y%m%d_%H%M')\n",
    "    landcover_dataset_name = f\"Landcover {prefix} {today}\"\n",
    "\n",
    "    print(f'\\tprocessing {landcover_dataset_name}')\n",
    "    \n",
    "    landcover_dataset = client.get_datasets(where=(Dataset.name==landcover_dataset_name)).get_one()\n",
    "    if landcover_dataset is not None:\n",
    "        raise ValueError(\"landcover dataset already exists; wait a minute\")        \n",
    "\n",
    "    rgb_paths = glob.glob(f'{labelbox_landcover_rgb_dir}/*[0-9].tif')\n",
    "    print(f'{len(rgb_paths)} total chips')\n",
    "        \n",
    "    with shelve.open(landcover_state_path) as upload_state:\n",
    "        \n",
    "        payload = []\n",
    "        for rgb_path in rgb_paths:\n",
    "            chip_id = rgb_path.split('/')[-1].replace('.tif', '')\n",
    "            chip_state = upload_state.get(chip_id)\n",
    "            \n",
    "            if chip_state and chip_state.get('uploaded_to_labelbox', False):\n",
    "                continue\n",
    "            \n",
    "            s3_href = save_landcover_rgb_chip_to_s3(rgb_path)\n",
    "            \n",
    "            payload.append({\n",
    "                \"chip_id\": chip_id,\n",
    "                \"min_zoom\": 12,\n",
    "                \"max_zoom\": 15,\n",
    "                \"tile_layer_url\": s3_href\n",
    "            })\n",
    "\n",
    "            upload_state[chip_id] = {\n",
    "                'rgb_cog_href': s3_href,\n",
    "                'uploaded_to_s3': True,\n",
    "                'uploaded_to_labelbox': False\n",
    "            }\n",
    "                                \n",
    "        if len(payload) > 0:\n",
    "            print(f'{len(payload)} chips to add to Labelbox')\n",
    "\n",
    "            landcover_dataset = client.create_dataset(name=landcover_dataset_name)\n",
    "            datarow_payload = [{DataRow.row_data: row} for row in payload]\n",
    "            task = landcover_dataset.create_data_rows(datarow_payload)\n",
    "            task.wait_till_done()\n",
    "\n",
    "            for row in payload:\n",
    "                chip_id = row[\"chip_id\"]\n",
    "                upload_state[chip_id] = {\n",
    "                    'rgb_cog_href': s3_href,\n",
    "                    'uploaded_to_s3': True,\n",
    "                    'uploaded_to_labelbox': True\n",
    "                }\n",
    "            "
   ]
  },
  {
   "cell_type": "code",
   "execution_count": 186,
   "metadata": {
    "tags": []
   },
   "outputs": [],
   "source": [
    "import shutil\n",
    "\n",
    "\n",
    "def create_new_chips(bbox, region_name, dates):\n",
    "    for date in dates:\n",
    "        start_date, end_date = date[0], date[1]\n",
    "        create_landcover_chips_from_bbox(bbox, start_date, end_date)\n",
    "        \n",
    "    create_labelbox_landcover_dataset(prefix=region_name)\n",
    "    \n",
    "    \n",
    "def clean_up():\n",
    "    if os.path.exists(labelbox_landcover_temp_dir):\n",
    "        shutil.rmtree(labelbox_landcover_temp_dir)\n",
    "        os.makedirs(labelbox_landcover_temp_dir, exist_ok=True)\n",
    "\n"
   ]
  },
  {
   "cell_type": "code",
   "execution_count": 187,
   "metadata": {
    "tags": []
   },
   "outputs": [],
   "source": [
    "import datetime as dt\n",
    "\n",
    "dates = [\n",
    "    (dt.datetime(2019, 1, 1), dt.datetime(2019, 2, 1)),\n",
    "    (dt.datetime(2020, 3, 1), dt.datetime(2020, 4, 1)),\n",
    "    (dt.datetime(2021, 6, 1), dt.datetime(2021, 7, 1)),\n",
    "    (dt.datetime(2022, 9, 1), dt.datetime(2022, 10, 1)),\n",
    "]\n"
   ]
  },
  {
   "cell_type": "markdown",
   "metadata": {},
   "source": [
    "## Virunga National Park (Volcano Sector) 🌋"
   ]
  },
  {
   "cell_type": "code",
   "execution_count": 189,
   "metadata": {
    "tags": []
   },
   "outputs": [
    {
     "name": "stdout",
     "output_type": "stream",
     "text": [
      "./data/labelbox/landcover/temp/collection.json: {'QU': 1}\n",
      "\tdownloading... S2B_35MQU_20190123_0_L2A\n",
      "\tpatchifying... S2B_35MQU_20190123_0_L2A\n",
      "\t\t82.63% masked; skipping r0 c3\n",
      "\t\t95.55% masked; skipping r0 c4\n",
      "\t\t66.76% masked; skipping r1 c1\n",
      "\t\t61.21% masked; skipping r1 c2\n",
      "\t\t68.06% masked; skipping r1 c5\n",
      "\t\t85.7% masked; skipping r2 c1\n",
      "\t\t61.22% masked; skipping r2 c2\n",
      "\t\t67.72% masked; skipping r2 c3\n",
      "\t\t60.97% masked; skipping r2 c4\n",
      "\t\t61.49% masked; skipping r2 c5\n",
      "./data/labelbox/landcover/temp/collection.json: {'QU': 1}\n",
      "\tdownloading... S2A_35MQU_20200323_0_L2A\n",
      "\tpatchifying... S2A_35MQU_20200323_0_L2A\n",
      "\t\t65.18% masked; skipping r1 c0\n",
      "\t\t65.59% masked; skipping r1 c1\n",
      "\t\t94.49% masked; skipping r2 c0\n",
      "\t\t96.22% masked; skipping r2 c1\n",
      "\t\t76.78% masked; skipping r2 c2\n",
      "./data/labelbox/landcover/temp/collection.json: {'QU': 1}\n",
      "\tdownloading... S2B_35MQU_20210611_0_L2A\n",
      "\tpatchifying... S2B_35MQU_20210611_0_L2A\n",
      "./data/labelbox/landcover/temp/collection.json: {'QU': 1}\n",
      "\tdownloading... S2A_35MQU_20220929_0_L2A\n",
      "\tpatchifying... S2A_35MQU_20220929_0_L2A\n",
      "\t\t100.0% masked; skipping r0 c0\n",
      "\t\t98.31% masked; skipping r0 c1\n",
      "\t\t94.93% masked; skipping r0 c2\n",
      "\t\t100.0% masked; skipping r1 c0\n",
      "\t\t99.95% masked; skipping r1 c1\n",
      "\t\t100.0% masked; skipping r1 c2\n",
      "\t\t60.53% masked; skipping r1 c3\n",
      "\t\t92.15% masked; skipping r2 c0\n",
      "\t\t96.79% masked; skipping r2 c1\n",
      "\t\t86.78% masked; skipping r2 c2\n",
      "\t\t99.19% masked; skipping r2 c3\n",
      "\tprocessing Landcover Virunga Volcano Sector 20230304_2008\n",
      "46 total chips\n",
      "46 chips to add to Labelbox\n",
      "done\n"
     ]
    }
   ],
   "source": [
    "\n",
    "bbox_volcano = [29.037475, -1.445046, 29.345781, -1.269466]\n",
    "create_new_chips(bbox_volcano, \"Virunga Volcano Sector\", dates)\n",
    "clean_up()\n",
    "\n",
    "print('done')"
   ]
  },
  {
   "cell_type": "markdown",
   "metadata": {},
   "source": [
    "## Virunga National Park (Ndwali) 🦛"
   ]
  },
  {
   "cell_type": "code",
   "execution_count": 192,
   "metadata": {
    "tags": []
   },
   "outputs": [
    {
     "name": "stdout",
     "output_type": "stream",
     "text": [
      "./data/labelbox/landcover/temp/collection.json: {'QV': 1}\n",
      "\tdownloading... S2B_35MQV_20190123_0_L2A\n",
      "\tpatchifying... S2B_35MQV_20190123_0_L2A\n",
      "./data/labelbox/landcover/temp/collection.json: {'QV': 1}\n",
      "\tdownloading... S2A_35MQV_20200303_0_L2A\n",
      "\tpatchifying... S2A_35MQV_20200303_0_L2A\n",
      "./data/labelbox/landcover/temp/collection.json: {'QV': 1}\n",
      "\tdownloading... S2B_35MQV_20210611_0_L2A\n",
      "\tpatchifying... S2B_35MQV_20210611_0_L2A\n",
      "./data/labelbox/landcover/temp/collection.json: {'QV': 1}\n",
      "\tdownloading... S2A_35MQV_20220929_0_L2A\n",
      "\tpatchifying... S2A_35MQV_20220929_0_L2A\n",
      "\tprocessing Landcover Virunga Ndwali 20230304_2011\n",
      "94 total chips\n",
      "48 chips to add to Labelbox\n",
      "done\n"
     ]
    }
   ],
   "source": [
    "\n",
    "bbox_ndwali = [29.265225, -0.728130, 29.480121, -0.584068]\n",
    "create_new_chips(bbox_ndwali, \"Virunga Ndwali\", dates)\n",
    "clean_up()\n",
    "\n",
    "print('done')"
   ]
  },
  {
   "cell_type": "markdown",
   "metadata": {},
   "source": [
    "## Virunga National Park (Gorilla Sector) 🦍"
   ]
  },
  {
   "cell_type": "code",
   "execution_count": 193,
   "metadata": {
    "tags": []
   },
   "outputs": [
    {
     "name": "stdout",
     "output_type": "stream",
     "text": [
      "./data/labelbox/landcover/temp/collection.json: {'QU': 1}\n",
      "\tdownloading... S2B_35MQU_20190123_0_L2A\n",
      "\tpatchifying... S2B_35MQU_20190123_0_L2A\n",
      "\t\t87.31% masked; skipping r2 c3\n",
      "\t\t68.92% masked; skipping r2 c4\n",
      "\t\t76.95% masked; skipping r3 c0\n",
      "\t\t98.55% masked; skipping r3 c1\n",
      "\t\t95.2% masked; skipping r3 c2\n",
      "\t\t96.77% masked; skipping r3 c3\n",
      "\t\t84.76% masked; skipping r3 c4\n",
      "\t\t94.43% masked; skipping r4 c0\n",
      "\t\t96.82% masked; skipping r4 c1\n",
      "\t\t99.94% masked; skipping r4 c2\n",
      "\t\t100.0% masked; skipping r4 c3\n",
      "\t\t81.67% masked; skipping r4 c4\n",
      "./data/labelbox/landcover/temp/collection.json: {'QU': 1}\n",
      "\tdownloading... S2A_35MQU_20200323_0_L2A\n",
      "\tpatchifying... S2A_35MQU_20200323_0_L2A\n",
      "\t\t91.79% masked; skipping r2 c0\n",
      "\t\t79.25% masked; skipping r2 c4\n",
      "\t\t99.61% masked; skipping r4 c0\n",
      "\t\t63.23% masked; skipping r4 c4\n",
      "./data/labelbox/landcover/temp/collection.json: {'QU': 1}\n",
      "\tdownloading... S2B_35MQU_20210611_0_L2A\n",
      "\tpatchifying... S2B_35MQU_20210611_0_L2A\n",
      "\t\t79.78% masked; skipping r3 c4\n",
      "\t\t84.21% masked; skipping r4 c4\n",
      "./data/labelbox/landcover/temp/collection.json: {'QU': 1}\n",
      "\tdownloading... S2A_35MQU_20220929_0_L2A\n",
      "\tpatchifying... S2A_35MQU_20220929_0_L2A\n",
      "\t\t93.01% masked; skipping r1 c4\n",
      "\t\t60.6% masked; skipping r2 c1\n",
      "\t\t99.13% masked; skipping r2 c4\n",
      "\t\t60.05% masked; skipping r3 c0\n",
      "\t\t90.48% masked; skipping r3 c1\n",
      "\t\t97.1% masked; skipping r4 c0\n",
      "\t\t93.88% masked; skipping r4 c1\n",
      "\t\t82.68% masked; skipping r4 c2\n",
      "\t\t73.83% masked; skipping r4 c3\n",
      "\tprocessing Landcover Virunga Gorilla Sector 20230304_2016\n",
      "167 total chips\n",
      "73 chips to add to Labelbox\n",
      "done\n"
     ]
    }
   ],
   "source": [
    "\n",
    "bbox_gorilla = [29.355053, -1.539090, 29.591672, -1.264626]\n",
    "create_new_chips(bbox_gorilla, \"Virunga Gorilla Sector\", dates)\n",
    "clean_up()\n",
    "\n",
    "print('done')"
   ]
  },
  {
   "cell_type": "markdown",
   "metadata": {},
   "source": [
    "## Virunga National Park (Ishango) 🐟"
   ]
  },
  {
   "cell_type": "code",
   "execution_count": 194,
   "metadata": {
    "tags": []
   },
   "outputs": [
    {
     "name": "stdout",
     "output_type": "stream",
     "text": [
      "./data/labelbox/landcover/temp/collection.json: {'QA': 1, 'QV': 1}\n",
      "\tdownloading... S2B_35NQA_20190123_0_L2A\n",
      "\tdownloading... S2B_35MQV_20190123_0_L2A\n",
      "\tpatchifying... S2B_35NQA_20190123_0_L2A\n",
      "\tpatchifying... S2B_35MQV_20190123_0_L2A\n",
      "./data/labelbox/landcover/temp/collection.json: {'QA': 1, 'QV': 1}\n",
      "\tdownloading... S2A_35NQA_20200323_0_L2A\n",
      "\tdownloading... S2A_35MQV_20200303_0_L2A\n",
      "\tpatchifying... S2A_35NQA_20200323_0_L2A\n",
      "\tpatchifying... S2A_35MQV_20200303_0_L2A\n",
      "./data/labelbox/landcover/temp/collection.json: {'QV': 1, 'QA': 1}\n",
      "\tdownloading... S2B_35MQV_20210611_0_L2A\n",
      "\tdownloading... S2B_35NQA_20210621_0_L2A\n",
      "\tpatchifying... S2B_35MQV_20210611_0_L2A\n",
      "\tpatchifying... S2B_35NQA_20210621_0_L2A\n",
      "./data/labelbox/landcover/temp/collection.json: {'QV': 1, 'QA': 1}\n",
      "\tdownloading... S2A_35MQV_20220929_0_L2A\n",
      "\tdownloading... S2A_35NQA_20220929_0_L2A\n",
      "\tpatchifying... S2A_35MQV_20220929_0_L2A\n",
      "\t\t79.09% masked; skipping r0 c0\n",
      "\tpatchifying... S2A_35NQA_20220929_0_L2A\n",
      "\t\t79.3% masked; skipping r0 c0\n",
      "\tprocessing Landcover Virunga Ishango 20230304_2020\n",
      "201 total chips\n",
      "34 chips to add to Labelbox\n",
      "done\n"
     ]
    }
   ],
   "source": [
    "\n",
    "bbox_ishango = [29.516798, -0.163506, 29.693365, -0.026481]\n",
    "create_new_chips(bbox_ishango, \"Virunga Ishango\", dates)\n",
    "clean_up()\n",
    "\n",
    "print('done')"
   ]
  },
  {
   "cell_type": "markdown",
   "metadata": {},
   "source": [
    "## Okapi Wildlife Reserve 🌳"
   ]
  },
  {
   "cell_type": "code",
   "execution_count": 195,
   "metadata": {
    "tags": []
   },
   "outputs": [
    {
     "name": "stdout",
     "output_type": "stream",
     "text": [
      "./data/labelbox/landcover/temp/collection.json: {'PB': 1}\n",
      "\tdownloading... S2A_35NPB_20190121_0_L2A\n",
      "\tpatchifying... S2A_35NPB_20190121_0_L2A\n",
      "./data/labelbox/landcover/temp/collection.json: {'PB': 1}\n",
      "\tdownloading... S2B_35NPB_20200331_0_L2A\n",
      "\tpatchifying... S2B_35NPB_20200331_0_L2A\n",
      "./data/labelbox/landcover/temp/collection.json: {'PB': 1}\n",
      "\tdownloading... S2B_35NPB_20210624_0_L2A\n",
      "\tpatchifying... S2B_35NPB_20210624_0_L2A\n",
      "\t\t99.97% masked; skipping r0 c0\n",
      "\t\t97.33% masked; skipping r0 c1\n",
      "\t\t99.88% masked; skipping r0 c2\n",
      "\t\t99.79% masked; skipping r0 c3\n",
      "\t\t98.55% masked; skipping r1 c0\n",
      "\t\t96.82% masked; skipping r1 c1\n",
      "\t\t99.69% masked; skipping r1 c2\n",
      "\t\t100.0% masked; skipping r1 c3\n",
      "\t\t99.9% masked; skipping r2 c0\n",
      "\t\t94.82% masked; skipping r2 c1\n",
      "\t\t96.27% masked; skipping r2 c2\n",
      "\t\t99.95% masked; skipping r2 c3\n",
      "./data/labelbox/landcover/temp/collection.json: {'PB': 1}\n",
      "\tdownloading... S2B_35NPB_20220917_0_L2A\n",
      "\tpatchifying... S2B_35NPB_20220917_0_L2A\n",
      "\t\t96.3% masked; skipping r0 c0\n",
      "\t\t96.7% masked; skipping r0 c1\n",
      "\t\t99.68% masked; skipping r0 c2\n",
      "\t\t100.0% masked; skipping r0 c3\n",
      "\t\t89.79% masked; skipping r1 c0\n",
      "\t\t91.52% masked; skipping r1 c1\n",
      "\t\t99.73% masked; skipping r1 c2\n",
      "\t\t99.67% masked; skipping r1 c3\n",
      "\t\t90.79% masked; skipping r2 c0\n",
      "\t\t84.27% masked; skipping r2 c1\n",
      "\t\t85.39% masked; skipping r2 c2\n",
      "\t\t95.31% masked; skipping r2 c3\n",
      "\tprocessing Landcover Okapi 20230304_2026\n",
      "225 total chips\n",
      "24 chips to add to Labelbox\n",
      "done\n"
     ]
    }
   ],
   "source": [
    "\n",
    "bbox_okapi = [28.524382, 1.376513, 28.716677, 1.515305]\n",
    "create_new_chips(bbox_okapi, \"Okapi\", dates)\n",
    "clean_up()\n",
    "\n",
    "print('done')\n"
   ]
  },
  {
   "cell_type": "markdown",
   "metadata": {},
   "source": [
    "## Reset chips"
   ]
  },
  {
   "cell_type": "code",
   "execution_count": null,
   "metadata": {},
   "outputs": [],
   "source": [
    "import re\n",
    "import shelve\n",
    "\n",
    "    \n",
    "with shelve.open(landcover_state_path) as upload_state:\n",
    "    \n",
    "    keys = list(upload_state.keys())\n",
    "    for key in keys:\n",
    "        if re.match(r'^(S2A_35MQU|S2B_35MQU)', key):\n",
    "            del upload_state[key]\n"
   ]
  },
  {
   "cell_type": "markdown",
   "metadata": {},
   "source": [
    "# 2. Pull labeled data from Labelbox"
   ]
  },
  {
   "cell_type": "code",
   "execution_count": 3,
   "metadata": {},
   "outputs": [],
   "source": [
    "from labelbox import Client\n",
    "\n",
    "\n",
    "def get_data_rows():\n",
    "    client = Client(api_key=LABELBOX_API_KEY)\n",
    "    project = client.get_project(LANDCOVER_PROJECT_ID)\n",
    "    data_rows = project.export_labels(download=True)  \n",
    "    return data_rows\n",
    "\n",
    "\n",
    "def is_island(target_polygon, polygon_list):\n",
    "    for curr_poly in polygon_list:\n",
    "        if target_polygon.within(curr_poly):\n",
    "            return True\n",
    "    return False\n"
   ]
  },
  {
   "cell_type": "code",
   "execution_count": 9,
   "metadata": {},
   "outputs": [
    {
     "name": "stdout",
     "output_type": "stream",
     "text": [
      "1 done data rows\n",
      "\t52 sorted labels\n",
      "semi_natural_vegetation 8\n",
      "semi_natural_vegetation 8\n",
      "semi_natural_vegetation 8\n",
      "semi_natural_vegetation 8\n",
      "semi_natural_vegetation 8\n",
      "semi_natural_vegetation 8\n",
      "semi_natural_vegetation 8\n",
      "semi_natural_vegetation 8\n",
      "semi_natural_vegetation 8\n",
      "semi_natural_vegetation 8\n",
      "semi_natural_vegetation 8\n",
      "semi_natural_vegetation 8\n",
      "agriculture 7\n",
      "agriculture 7\n",
      "trees 6\n",
      "trees 6\n",
      "trees 6\n",
      "trees 6\n",
      "trees 6\n",
      "trees 6\n",
      "trees 6\n",
      "trees 6\n",
      "trees 6\n",
      "trees 6\n",
      "trees 6\n",
      "trees 6\n",
      "trees 6\n",
      "trees 6\n",
      "trees 6\n",
      "trees 6\n",
      "trees 6\n",
      "built 2\n",
      "built 2\n",
      "built 2\n",
      "built 2\n",
      "built 2\n",
      "built 2\n",
      "built 2\n",
      "built 2\n",
      "built 2\n",
      "built 2\n",
      "built 2\n",
      "built 2\n",
      "built 2\n",
      "built 2\n",
      "cloud 1\n",
      "cloud 1\n",
      "cloud 1\n",
      "cloud 1\n",
      "cloud 1\n",
      "unclassified 0\n",
      "unclassified 0\n",
      "done\n"
     ]
    }
   ],
   "source": [
    "import json\n",
    "import numpy as np\n",
    "import rasterio\n",
    "from rasterio.features import geometry_mask\n",
    "from shapely.geometry import Polygon\n",
    "\n",
    "from common.constants import NODATA_BYTE\n",
    "from common.utilities.imagery import write_array_to_tif\n",
    "\n",
    "# the lower the value the higher the priority\n",
    "# higher values get overwritten by lower ones\n",
    "LANDCOVER_CLASSES = {\n",
    "    'unclassified': 0,\n",
    "    'cloud' : 1,\n",
    "    'built' : 2,\n",
    "    'water' : 3,\n",
    "    'bare_ground' : 4,\n",
    "    'burned' : 5,\n",
    "    'trees' : 6,\n",
    "    'agriculture' : 7,\n",
    "    'semi_natural_vegetation' : 8,\n",
    "}\n",
    "\n",
    "data_rows = get_data_rows()\n",
    "data_rows = [dr for dr in data_rows if dr['DataRow Workflow Info']['taskName'] == \"Done\"]\n",
    "print(f'{len(data_rows)} done data rows')\n",
    "\n",
    "\n",
    "for i, row in enumerate(data_rows):\n",
    "        \n",
    "    row_id = row['DataRow ID']    \n",
    "    labels = row['Label']['objects']\n",
    "    metadata = json.loads(row['Labeled Data'])\n",
    "    rgb_cog_url = metadata['tileLayerUrl']\n",
    "    file_name = rgb_cog_url.split('/')[-1]\n",
    "        \n",
    "    rgb_path = f'{labelbox_landcover_rgb_dir}/{file_name}'\n",
    "    label_path = f'{labelbox_landcover_labels_dir}/{file_name}'\n",
    "    source_path = f'{labelbox_landcover_source_dir}/{file_name}'\n",
    "\n",
    "    with rasterio.open(source_path) as src:\n",
    "        bbox = list(src.bounds)\n",
    "        source_shape = src.shape\n",
    "        source_transform = src.transform\n",
    "        source_mask = src.read(masked=True).mask[0, :, :]\n",
    "    \n",
    "    label_polygons = {\n",
    "        label['featureId']: Polygon(label['geometry']['coordinates'][0])\n",
    "        for label in labels\n",
    "    }\n",
    "        \n",
    "    # 0: unclassified\n",
    "    print(source_mask.shape)\n",
    "    labels_data = np.zeros(source_shape).astype(np.uint8)\n",
    "    labels_data = np.ma.array(labels_data, mask=source_mask)\n",
    "    print(labels_data.shape)\n",
    "\n",
    "    islands = []    \n",
    "    sorted_labels = sorted(labels, key=lambda lab: LANDCOVER_CLASSES[lab['value']], reverse=True)\n",
    "\n",
    "    print(f'\\t{len(sorted_labels)} sorted labels')\n",
    "\n",
    "    for label in sorted_labels:\n",
    "        class_value = label['value']\n",
    "        class_idx = LANDCOVER_CLASSES[class_value]\n",
    "                \n",
    "        label_id = label['featureId']\n",
    "        polygon = label_polygons[label_id]\n",
    "        polygon_mask = geometry_mask([polygon], source_shape, source_transform, invert=True)\n",
    "        \n",
    "        island_test_polygons = label_polygons.copy()\n",
    "        del island_test_polygons[label_id]\n",
    "        is_poly_island = is_island(polygon, list(island_test_polygons.values()))\n",
    "                \n",
    "        if is_poly_island:\n",
    "            islands.append((class_idx, polygon_mask))\n",
    "        else:\n",
    "            labels_data[polygon_mask] = class_idx\n",
    "\n",
    "    for class_idx, polygon_mask in islands:\n",
    "        labels_data[polygon_mask] = class_idx\n",
    "          \n",
    "\n",
    "    write_array_to_tif(labels_data, label_path, bbox, dtype=np.uint8, nodata=NODATA_BYTE)\n",
    "       \n",
    "\n",
    "print('done')"
   ]
  },
  {
   "cell_type": "code",
   "execution_count": null,
   "metadata": {},
   "outputs": [],
   "source": []
  }
 ],
 "metadata": {
  "instance_type": "ml.m5.4xlarge",
  "kernelspec": {
   "display_name": "Python 3 (ipykernel)",
   "language": "python",
   "name": "python3"
  },
  "language_info": {
   "codemirror_mode": {
    "name": "ipython",
    "version": 3
   },
   "file_extension": ".py",
   "mimetype": "text/x-python",
   "name": "python",
   "nbconvert_exporter": "python",
   "pygments_lexer": "ipython3",
   "version": "3.8.16"
  }
 },
 "nbformat": 4,
 "nbformat_minor": 4
}
