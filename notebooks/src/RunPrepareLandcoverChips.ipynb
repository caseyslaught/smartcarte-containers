{
 "cells": [
  {
   "cell_type": "markdown",
   "metadata": {},
   "source": [
    "# 0. Setup"
   ]
  },
  {
   "cell_type": "code",
   "execution_count": 56,
   "metadata": {
    "tags": []
   },
   "outputs": [],
   "source": [
    "import os\n",
    "\n",
    "labelbox_dir = \"./data/labelbox\"\n",
    "labelbox_landcover_dir = f'{labelbox_dir}/landcover'\n",
    "labelbox_landcover_rgb_dir = f'{labelbox_landcover_dir}/rgb'\n",
    "labelbox_landcover_labels_dir = f'{labelbox_landcover_dir}/labels'\n",
    "labelbox_landcover_source_dir = f'{labelbox_landcover_dir}/source'\n",
    "labelbox_landcover_temp_dir = f'{labelbox_landcover_dir}/temp'\n",
    "\n",
    "os.makedirs(labelbox_landcover_labels_dir, exist_ok=True)\n",
    "os.makedirs(labelbox_landcover_rgb_dir, exist_ok=True)\n",
    "os.makedirs(labelbox_landcover_source_dir, exist_ok=True)\n",
    "os.makedirs(labelbox_landcover_temp_dir, exist_ok=True)\n",
    "\n",
    "landcover_state_path = \"./data/labelbox/landcover/uploadState\"\n",
    "cloud_detection_model_path = os.path.join(os.getcwd(), 'cloud_detection_model_resnet18_dice_20230324.pth')\n"
   ]
  },
  {
   "cell_type": "code",
   "execution_count": 3,
   "metadata": {
    "tags": []
   },
   "outputs": [],
   "source": [
    "\n",
    "try:\n",
    "    from common.sagemaker_env import LABELBOX_API_KEY\n",
    "except: \n",
    "    LABELBOX_API_KEY = os.environ['LABELBOX_API_KEY']\n",
    "    \n",
    "LANDCOVER_PROJECT_ID = \"clcrkcvn9281j07xybmww69pn\"\n"
   ]
  },
  {
   "cell_type": "markdown",
   "metadata": {},
   "source": [
    "# 1. Create chips and upload to Labelbox"
   ]
  },
  {
   "cell_type": "code",
   "execution_count": 45,
   "metadata": {
    "tags": []
   },
   "outputs": [],
   "source": [
    "%reload_ext autoreload\n",
    "%autoreload 2\n",
    "\n",
    "import numpy as np\n",
    "from patchify import patchify\n",
    "import rasterio\n",
    "import rasterio.transform\n",
    "\n",
    "from common.constants import NODATA_BYTE, NODATA_FLOAT32, RES, S2_BANDS_TIFF_ORDER\n",
    "import common.utilities.download as download\n",
    "import common.utilities.imagery as imagery\n",
    "import common.utilities.masking as masking\n",
    "\n",
    "PATCH_SIZE = 512\n",
    "\n",
    "\n",
    "def create_landcover_chips_from_bbox(bbox, start_date, end_date):\n",
    "    \n",
    "    collection_path = f'{labelbox_landcover_temp_dir}/collection.json'\n",
    "    collection = download.get_collection(start_date, end_date, bbox, collection_path, max_cloud_cover=60, max_tile_count=1, min_tile_count=1)\n",
    "    original_scenes = download.download_collection(collection, bbox, S2_BANDS_TIFF_ORDER, labelbox_landcover_temp_dir, RES)\n",
    "\n",
    "    for scene in original_scenes:\n",
    "        print(f'\\tpatchifying... {scene}')\n",
    "        \n",
    "        meta = original_scenes[scene]['meta']\n",
    "        stack_path = original_scenes[scene][\"stack_original_tif_path\"]\n",
    "        with rasterio.open(stack_path) as src:\n",
    "            if src.width < 512 or src.height < 512:\n",
    "                print(f'\\t\\tskipping... {scene}')\n",
    "                continue\n",
    "\n",
    "        bbox_str = ''.join([str(round(coord, 2)) for coord in bbox]).replace('.', '').replace('-', 'n')\n",
    "        \n",
    "        with rasterio.open(stack_path) as stack_src:\n",
    "            stack_data = stack_src.read(masked=True).transpose((1, 2, 0))\n",
    "            transform = stack_src.transform\n",
    "\n",
    "            source_patches = patchify(stack_data, (PATCH_SIZE, PATCH_SIZE, stack_data.shape[2]), step=PATCH_SIZE)\n",
    "            \n",
    "            for irow in range(source_patches.shape[0]):\n",
    "                for icol in range(source_patches.shape[1]):\n",
    "                    source_data = source_patches[irow, icol, 0, :, :, :]  \n",
    "                    source_data = np.ma.array(source_data, mask=(source_data==NODATA_FLOAT32))\n",
    "                      \n",
    "                    # save basic normalized source data, then later if can do percentile normalization if things aren't working\n",
    "                    source_data = source_data.transpose((2, 0, 1))\n",
    "                    source_data, pct_masked = masking.apply_nn_cloud_mask('', meta, '', cloud_detection_model_path, bbox=bbox, stack_data=source_data)\n",
    "                    \n",
    "                    if pct_masked > 0.60:\n",
    "                        print(f'\\t\\t{round(pct_masked*100, 2)}% masked; skipping r{irow} c{icol}')\n",
    "                        continue\n",
    "                                        \n",
    "                    rgb_data = source_data[[2, 1, 0], :, :]\n",
    "                    rgb_data = imagery.normalize_3d_array_percentiles(rgb_data, p_low=0.1, p_high=99.9)                    \n",
    "                    rgb_data_norm = (rgb_data * 254).astype(np.uint8)\n",
    "                    rgb_data_norm[rgb_data_norm > 254] = 254\n",
    "        \n",
    "                    rgb_path = f'{labelbox_landcover_rgb_dir}/{scene}_{bbox_str}_{irow}_{icol}.tif'\n",
    "                    source_path = f'{labelbox_landcover_source_dir}/{scene}_{bbox_str}_{irow}_{icol}.tif'\n",
    "                    \n",
    "                    x_min, y_min = rasterio.transform.xy(transform, PATCH_SIZE*(irow+1), PATCH_SIZE*icol)\n",
    "                    x_max, y_max = rasterio.transform.xy(transform, PATCH_SIZE*irow, PATCH_SIZE*(icol+1))             \n",
    "                    chip_bbox = [x_min, y_min, x_max, y_max]          \n",
    "\n",
    "                    source_data = source_data.transpose((1, 2, 0))\n",
    "                    rgb_data_norm = rgb_data_norm.transpose((1, 2, 0))\n",
    "                        \n",
    "                    imagery.write_array_to_tif(source_data, source_path, chip_bbox, dtype=np.float32, nodata=NODATA_FLOAT32)\n",
    "                    imagery.write_array_to_tif(rgb_data_norm, rgb_path, chip_bbox, dtype=np.uint8, nodata=NODATA_BYTE, is_cog=True)   \n",
    "                    "
   ]
  },
  {
   "cell_type": "code",
   "execution_count": 46,
   "metadata": {
    "tags": []
   },
   "outputs": [],
   "source": [
    "import common.constants as constants\n",
    "import common.aws.s3 as s3_utils\n",
    "\n",
    "\n",
    "def save_landcover_rgb_chip_to_s3(rgb_path):\n",
    "    file_name = rgb_path.split('/')[-1]    \n",
    "    object_key = f'training/landcover/rgb/{file_name}'\n",
    "    href = f'https://data.smartcarte.earth/{object_key}'\n",
    "    s3_utils.put_item(rgb_path, constants.S3_DATA_BUCKET, object_key)\n",
    "    return href\n"
   ]
  },
  {
   "cell_type": "code",
   "execution_count": 47,
   "metadata": {
    "tags": []
   },
   "outputs": [],
   "source": [
    "import datetime\n",
    "from labelbox import Client, Dataset, DataRow\n",
    "import glob\n",
    "import os\n",
    "import shelve\n",
    "\n",
    "\n",
    "client = Client(api_key=LABELBOX_API_KEY)\n",
    "project = client.get_project(LANDCOVER_PROJECT_ID)\n",
    "\n",
    "\n",
    "def create_labelbox_landcover_dataset(prefix=\"\"):\n",
    "    \n",
    "    today = datetime.datetime.today().strftime('%Y%m%d_%H%M')\n",
    "    landcover_dataset_name = f\"Landcover {prefix} {today}\"\n",
    "\n",
    "    print(f'processing {landcover_dataset_name}')\n",
    "    \n",
    "    landcover_dataset = client.get_datasets(where=(Dataset.name==landcover_dataset_name)).get_one()\n",
    "    if landcover_dataset is not None:\n",
    "        raise ValueError(\"landcover dataset already exists; wait a minute\")        \n",
    "\n",
    "    rgb_paths = glob.glob(f'{labelbox_landcover_rgb_dir}/*[0-9].tif')\n",
    "    print(f'\\t{len(rgb_paths)} total chips')\n",
    "        \n",
    "    with shelve.open(landcover_state_path) as upload_state:\n",
    "        \n",
    "        payload = []\n",
    "        for rgb_path in rgb_paths:\n",
    "            chip_id = rgb_path.split('/')[-1].replace('.tif', '')\n",
    "            chip_state = upload_state.get(chip_id)\n",
    "            \n",
    "            if chip_state and chip_state.get('uploaded_to_labelbox', False):\n",
    "                continue\n",
    "            \n",
    "            s3_href = save_landcover_rgb_chip_to_s3(rgb_path)\n",
    "            \n",
    "            payload.append({\n",
    "                \"chip_id\": chip_id,\n",
    "                \"min_zoom\": 12,\n",
    "                \"max_zoom\": 15,\n",
    "                \"tile_layer_url\": s3_href\n",
    "            })\n",
    "\n",
    "            upload_state[chip_id] = {\n",
    "                'rgb_cog_href': s3_href,\n",
    "                'uploaded_to_s3': True,\n",
    "                'uploaded_to_labelbox': False\n",
    "            }\n",
    " \n",
    "        print(f'\\t{len(payload)} chips to add to Labelbox')\n",
    "        \n",
    "        if len(payload) > 0:\n",
    "\n",
    "            landcover_dataset = client.create_dataset(name=landcover_dataset_name)\n",
    "            datarow_payload = [{DataRow.row_data: row} for row in payload]\n",
    "            task = landcover_dataset.create_data_rows(datarow_payload)\n",
    "            task.wait_till_done()\n",
    "\n",
    "            for row in payload:\n",
    "                chip_id = row[\"chip_id\"]\n",
    "                upload_state[chip_id] = {\n",
    "                    'rgb_cog_href': s3_href,\n",
    "                    'uploaded_to_s3': True,\n",
    "                    'uploaded_to_labelbox': True\n",
    "                }\n",
    "            "
   ]
  },
  {
   "cell_type": "code",
   "execution_count": 48,
   "metadata": {
    "tags": []
   },
   "outputs": [],
   "source": [
    "import shutil\n",
    "\n",
    "\n",
    "def create_new_chips(bbox, region_name, dates):\n",
    "    for date in dates:\n",
    "        start_date, end_date = date[0], date[1]\n",
    "        create_landcover_chips_from_bbox(bbox, start_date, end_date)\n",
    "        \n",
    "    create_labelbox_landcover_dataset(prefix=region_name)\n",
    "    \n",
    "    \n",
    "def clean_up():\n",
    "    if os.path.exists(labelbox_landcover_temp_dir):\n",
    "        shutil.rmtree(labelbox_landcover_temp_dir)\n",
    "        os.makedirs(labelbox_landcover_temp_dir, exist_ok=True)\n",
    "\n"
   ]
  },
  {
   "cell_type": "code",
   "execution_count": 49,
   "metadata": {
    "tags": []
   },
   "outputs": [],
   "source": [
    "import datetime as dt\n",
    "\n",
    "dates = [\n",
    "    (dt.datetime(2019, 1, 1), dt.datetime(2019, 2, 1)),\n",
    "    (dt.datetime(2020, 3, 1), dt.datetime(2020, 4, 1)),\n",
    "    (dt.datetime(2021, 6, 1), dt.datetime(2021, 7, 1)),\n",
    "    (dt.datetime(2022, 9, 1), dt.datetime(2022, 10, 1)),\n",
    "]\n"
   ]
  },
  {
   "cell_type": "markdown",
   "metadata": {},
   "source": [
    "## Virunga National Park (Volcano Sector) 🌋"
   ]
  },
  {
   "cell_type": "code",
   "execution_count": 51,
   "metadata": {
    "tags": []
   },
   "outputs": [
    {
     "name": "stdout",
     "output_type": "stream",
     "text": [
      "done\n"
     ]
    }
   ],
   "source": [
    "\n",
    "bbox_volcano = [29.037475, -1.445046, 29.345781, -1.269466]\n",
    "create_new_chips(bbox_volcano, \"Virunga Volcano Sector\", dates)\n",
    "clean_up()\n",
    "\n",
    "print('done')"
   ]
  },
  {
   "cell_type": "markdown",
   "metadata": {},
   "source": [
    "## Virunga National Park (Ndwali) 🦛"
   ]
  },
  {
   "cell_type": "code",
   "execution_count": 37,
   "metadata": {
    "tags": []
   },
   "outputs": [
    {
     "name": "stdout",
     "output_type": "stream",
     "text": [
      "./data/labelbox/landcover/temp/collection.json: {'QV': 1}\n",
      "\tdownloading... S2B_35MQV_20190123_0_L2A\n",
      "\tpatchifying... S2B_35MQV_20190123_0_L2A\n",
      "./data/labelbox/landcover/temp/collection.json: {'QV': 1}\n",
      "\tdownloading... S2A_35MQV_20200303_0_L2A\n",
      "\tpatchifying... S2A_35MQV_20200303_0_L2A\n",
      "./data/labelbox/landcover/temp/collection.json: {'QV': 1}\n",
      "\tdownloading... S2B_35MQV_20210611_0_L2A\n",
      "\tpatchifying... S2B_35MQV_20210611_0_L2A\n",
      "./data/labelbox/landcover/temp/collection.json: {'QV': 1}\n",
      "\tdownloading... S2A_35MQV_20220929_0_L2A\n",
      "\tpatchifying... S2A_35MQV_20220929_0_L2A\n",
      "processing Landcover Virunga Ndwali 20230326_2212\n",
      "\t94 total chips\n",
      "\t0 chips to add to Labelbox\n",
      "done\n"
     ]
    }
   ],
   "source": [
    "\n",
    "bbox_ndwali = [29.265225, -0.728130, 29.480121, -0.584068]\n",
    "create_new_chips(bbox_ndwali, \"Virunga Ndwali\", dates)\n",
    "clean_up()\n",
    "\n",
    "print('done')"
   ]
  },
  {
   "cell_type": "markdown",
   "metadata": {},
   "source": [
    "## Virunga National Park (Gorilla Sector) 🦍"
   ]
  },
  {
   "cell_type": "code",
   "execution_count": 39,
   "metadata": {
    "tags": []
   },
   "outputs": [
    {
     "name": "stdout",
     "output_type": "stream",
     "text": [
      "./data/labelbox/landcover/temp/collection.json: {'QU': 1}\n",
      "\tdownloading... S2B_35MQU_20190123_0_L2A\n",
      "\tpatchifying... S2B_35MQU_20190123_0_L2A\n",
      "\t\t87.31% masked; skipping r2 c3\n",
      "\t\t68.92% masked; skipping r2 c4\n",
      "\t\t76.95% masked; skipping r3 c0\n",
      "\t\t98.55% masked; skipping r3 c1\n",
      "\t\t95.2% masked; skipping r3 c2\n",
      "\t\t96.77% masked; skipping r3 c3\n",
      "\t\t84.76% masked; skipping r3 c4\n",
      "\t\t94.43% masked; skipping r4 c0\n",
      "\t\t96.82% masked; skipping r4 c1\n",
      "\t\t99.94% masked; skipping r4 c2\n",
      "\t\t100.0% masked; skipping r4 c3\n",
      "\t\t81.67% masked; skipping r4 c4\n",
      "./data/labelbox/landcover/temp/collection.json: {'QU': 1}\n",
      "\tdownloading... S2A_35MQU_20200323_0_L2A\n",
      "\tpatchifying... S2A_35MQU_20200323_0_L2A\n",
      "\t\t91.79% masked; skipping r2 c0\n",
      "\t\t79.25% masked; skipping r2 c4\n",
      "\t\t99.61% masked; skipping r4 c0\n",
      "\t\t63.23% masked; skipping r4 c4\n",
      "./data/labelbox/landcover/temp/collection.json: {'QU': 1}\n",
      "\tdownloading... S2B_35MQU_20210611_0_L2A\n",
      "\tpatchifying... S2B_35MQU_20210611_0_L2A\n",
      "\t\t79.78% masked; skipping r3 c4\n",
      "\t\t84.21% masked; skipping r4 c4\n",
      "./data/labelbox/landcover/temp/collection.json: {'QU': 1}\n",
      "\tdownloading... S2A_35MQU_20220929_0_L2A\n",
      "\tpatchifying... S2A_35MQU_20220929_0_L2A\n",
      "\t\t93.01% masked; skipping r1 c4\n",
      "\t\t60.6% masked; skipping r2 c1\n",
      "\t\t99.13% masked; skipping r2 c4\n",
      "\t\t60.05% masked; skipping r3 c0\n",
      "\t\t90.48% masked; skipping r3 c1\n",
      "\t\t97.1% masked; skipping r4 c0\n",
      "\t\t93.88% masked; skipping r4 c1\n",
      "\t\t82.68% masked; skipping r4 c2\n",
      "\t\t73.83% masked; skipping r4 c3\n",
      "processing Landcover Virunga Gorilla Sector 20230326_2216\n",
      "\t167 total chips\n",
      "\t0 chips to add to Labelbox\n",
      "done\n"
     ]
    }
   ],
   "source": [
    "\n",
    "bbox_gorilla = [29.355053, -1.539090, 29.591672, -1.264626]\n",
    "create_new_chips(bbox_gorilla, \"Virunga Gorilla Sector\", dates)\n",
    "clean_up()\n",
    "\n",
    "print('done')"
   ]
  },
  {
   "cell_type": "markdown",
   "metadata": {},
   "source": [
    "## Virunga National Park (Ishango) 🐟"
   ]
  },
  {
   "cell_type": "code",
   "execution_count": 40,
   "metadata": {
    "tags": []
   },
   "outputs": [
    {
     "name": "stdout",
     "output_type": "stream",
     "text": [
      "./data/labelbox/landcover/temp/collection.json: {'QA': 1, 'QV': 1}\n",
      "\tdownloading... S2B_35NQA_20190123_0_L2A\n",
      "\tdownloading... S2B_35MQV_20190123_0_L2A\n",
      "\tpatchifying... S2B_35NQA_20190123_0_L2A\n",
      "\tpatchifying... S2B_35MQV_20190123_0_L2A\n",
      "./data/labelbox/landcover/temp/collection.json: {'QA': 1, 'QV': 1}\n",
      "\tdownloading... S2A_35NQA_20200323_0_L2A\n",
      "\tdownloading... S2A_35MQV_20200303_0_L2A\n",
      "\tpatchifying... S2A_35NQA_20200323_0_L2A\n",
      "\tpatchifying... S2A_35MQV_20200303_0_L2A\n",
      "./data/labelbox/landcover/temp/collection.json: {'QV': 1, 'QA': 1}\n",
      "\tdownloading... S2B_35MQV_20210611_0_L2A\n",
      "\tdownloading... S2B_35NQA_20210621_0_L2A\n",
      "\tpatchifying... S2B_35MQV_20210611_0_L2A\n",
      "\tpatchifying... S2B_35NQA_20210621_0_L2A\n",
      "./data/labelbox/landcover/temp/collection.json: {'QV': 1, 'QA': 1}\n",
      "\tdownloading... S2A_35MQV_20220929_0_L2A\n",
      "\tdownloading... S2A_35NQA_20220929_0_L2A\n",
      "\tpatchifying... S2A_35MQV_20220929_0_L2A\n",
      "\t\t79.09% masked; skipping r0 c0\n",
      "\tpatchifying... S2A_35NQA_20220929_0_L2A\n",
      "\t\t79.3% masked; skipping r0 c0\n",
      "processing Landcover Virunga Ishango 20230326_2218\n",
      "\t201 total chips\n",
      "\t0 chips to add to Labelbox\n",
      "done\n"
     ]
    }
   ],
   "source": [
    "\n",
    "bbox_ishango = [29.516798, -0.163506, 29.693365, -0.026481]\n",
    "create_new_chips(bbox_ishango, \"Virunga Ishango\", dates)\n",
    "clean_up()\n",
    "\n",
    "print('done')"
   ]
  },
  {
   "cell_type": "markdown",
   "metadata": {},
   "source": [
    "## Okapi Wildlife Reserve 🌳"
   ]
  },
  {
   "cell_type": "code",
   "execution_count": 41,
   "metadata": {
    "tags": []
   },
   "outputs": [
    {
     "name": "stdout",
     "output_type": "stream",
     "text": [
      "./data/labelbox/landcover/temp/collection.json: {'PB': 1}\n",
      "\tdownloading... S2A_35NPB_20190121_0_L2A\n",
      "\tpatchifying... S2A_35NPB_20190121_0_L2A\n",
      "./data/labelbox/landcover/temp/collection.json: {'PB': 1}\n",
      "\tdownloading... S2B_35NPB_20200331_0_L2A\n",
      "\tpatchifying... S2B_35NPB_20200331_0_L2A\n",
      "./data/labelbox/landcover/temp/collection.json: {'PB': 1}\n",
      "\tdownloading... S2B_35NPB_20210624_0_L2A\n",
      "\tpatchifying... S2B_35NPB_20210624_0_L2A\n",
      "\t\t99.97% masked; skipping r0 c0\n",
      "\t\t97.33% masked; skipping r0 c1\n",
      "\t\t99.88% masked; skipping r0 c2\n",
      "\t\t99.79% masked; skipping r0 c3\n",
      "\t\t98.55% masked; skipping r1 c0\n",
      "\t\t96.82% masked; skipping r1 c1\n",
      "\t\t99.69% masked; skipping r1 c2\n",
      "\t\t100.0% masked; skipping r1 c3\n",
      "\t\t99.9% masked; skipping r2 c0\n",
      "\t\t94.82% masked; skipping r2 c1\n",
      "\t\t96.27% masked; skipping r2 c2\n",
      "\t\t99.95% masked; skipping r2 c3\n",
      "./data/labelbox/landcover/temp/collection.json: {'PB': 1}\n",
      "\tdownloading... S2B_35NPB_20220917_0_L2A\n",
      "\tpatchifying... S2B_35NPB_20220917_0_L2A\n",
      "\t\t96.3% masked; skipping r0 c0\n",
      "\t\t96.7% masked; skipping r0 c1\n",
      "\t\t99.68% masked; skipping r0 c2\n",
      "\t\t100.0% masked; skipping r0 c3\n",
      "\t\t89.79% masked; skipping r1 c0\n",
      "\t\t91.52% masked; skipping r1 c1\n",
      "\t\t99.73% masked; skipping r1 c2\n",
      "\t\t99.67% masked; skipping r1 c3\n",
      "\t\t90.79% masked; skipping r2 c0\n",
      "\t\t84.27% masked; skipping r2 c1\n",
      "\t\t85.39% masked; skipping r2 c2\n",
      "\t\t95.31% masked; skipping r2 c3\n",
      "processing Landcover Okapi 20230326_2219\n",
      "\t225 total chips\n",
      "\t0 chips to add to Labelbox\n",
      "done\n"
     ]
    }
   ],
   "source": [
    "\n",
    "bbox_okapi = [28.524382, 1.376513, 28.716677, 1.515305]\n",
    "create_new_chips(bbox_okapi, \"Okapi\", dates)\n",
    "clean_up()\n",
    "\n",
    "print('done')\n"
   ]
  },
  {
   "cell_type": "markdown",
   "metadata": {},
   "source": [
    "## Maldives 🌴"
   ]
  },
  {
   "cell_type": "code",
   "execution_count": 59,
   "metadata": {},
   "outputs": [
    {
     "name": "stdout",
     "output_type": "stream",
     "text": [
      "./data/labelbox/landcover/temp/collection.json: {'CA': 1}\n",
      "\tdownloading... S2A_43NCA_20190127_0_L2A\n",
      "\tpatchifying... S2A_43NCA_20190127_0_L2A\n",
      "\t\t81.61% masked; skipping r0 c2\n",
      "./data/labelbox/landcover/temp/collection.json: {'CA': 1}\n",
      "\tdownloading... S2A_43NCA_20200302_0_L2A\n",
      "\tpatchifying... S2A_43NCA_20200302_0_L2A\n",
      "./data/labelbox/landcover/temp/collection.json: {'CA': 1}\n",
      "\tdownloading... S2A_43NCA_20210615_0_L2A\n",
      "\tpatchifying... S2A_43NCA_20210615_0_L2A\n",
      "./data/labelbox/landcover/temp/collection.json: {'CA': 1}\n",
      "\tdownloading... S2B_43NCA_20220913_0_L2A\n",
      "\tpatchifying... S2B_43NCA_20220913_0_L2A\n",
      "processing Landcover Maldives 20230326_2230\n",
      "\t240 total chips\n",
      "\t0 chips to add to Labelbox\n",
      "done\n"
     ]
    }
   ],
   "source": [
    "\n",
    "bbox_maldives = [73.400155, 0.234209, 73.587664, 0.320649]\n",
    "create_new_chips(bbox_maldives, \"Maldives\", dates)\n",
    "clean_up()\n",
    "\n",
    "print('done')"
   ]
  },
  {
   "cell_type": "markdown",
   "metadata": {},
   "source": [
    "## Reset chips"
   ]
  },
  {
   "cell_type": "code",
   "execution_count": 55,
   "metadata": {},
   "outputs": [],
   "source": [
    "import re\n",
    "import shelve\n",
    "\n",
    "    \n",
    "with shelve.open(landcover_state_path) as upload_state:\n",
    "    \n",
    "    keys = list(upload_state.keys())\n",
    "    for key in keys:\n",
    "        if re.match(r'^(S2A_43NCA|S2B_43NCA)', key):\n",
    "            del upload_state[key]\n"
   ]
  },
  {
   "cell_type": "markdown",
   "metadata": {},
   "source": [
    "# 2. Pull labeled data from Labelbox"
   ]
  },
  {
   "cell_type": "code",
   "execution_count": 61,
   "metadata": {
    "tags": []
   },
   "outputs": [],
   "source": [
    "from labelbox import Client\n",
    "\n",
    "\n",
    "def get_data_rows():\n",
    "    client = Client(api_key=LABELBOX_API_KEY)\n",
    "    project = client.get_project(LANDCOVER_PROJECT_ID)\n",
    "    data_rows = project.export_labels(download=True)  \n",
    "    return data_rows\n",
    "\n",
    "\n",
    "def is_island(target_polygon, polygon_list):\n",
    "    for curr_poly in polygon_list:\n",
    "        if target_polygon.within(curr_poly):\n",
    "            return True\n",
    "    return False\n"
   ]
  },
  {
   "cell_type": "code",
   "execution_count": 62,
   "metadata": {
    "tags": []
   },
   "outputs": [
    {
     "name": "stdout",
     "output_type": "stream",
     "text": [
      "93 done data rows\n",
      "S2A_35MQU_20220929_0_L2A_2936n1542959n126_3_3.tif\n",
      "S2B_35MQU_20210611_0_L2A_2936n1542959n126_4_3.tif\n",
      "S2A_35MQU_20220929_0_L2A_2936n1542959n126_3_4.tif\n",
      "S2B_35MQU_20210611_0_L2A_2936n1542959n126_4_2.tif\n",
      "S2B_35MQU_20190123_0_L2A_2936n1542959n126_1_4.tif\n",
      "S2A_35MQU_20200323_0_L2A_2936n1542959n126_2_2.tif\n",
      "S2A_35MQU_20200323_0_L2A_2936n1542959n126_1_2.tif\n",
      "S2A_35MQU_20220929_0_L2A_2936n1542959n126_0_2.tif\n",
      "S2A_35MQU_20220929_0_L2A_2936n1542959n126_0_3.tif\n",
      "S2A_35MQU_20200323_0_L2A_2936n1542959n126_0_0.tif\n",
      "S2B_35MQU_20210611_0_L2A_2936n1542959n126_1_1.tif\n",
      "S2A_35MQU_20200323_0_L2A_2936n1542959n126_4_2.tif\n",
      "S2B_35MQU_20190123_0_L2A_2936n1542959n126_1_1.tif\n",
      "S2B_35MQU_20190123_0_L2A_2936n1542959n126_2_1.tif\n",
      "S2A_35MQU_20200323_0_L2A_2936n1542959n126_3_1.tif\n",
      "S2A_35MQU_20220929_0_L2A_2936n1542959n126_1_2.tif\n",
      "S2A_35MQU_20220929_0_L2A_2936n1542959n126_1_3.tif\n",
      "S2B_35MQU_20190123_0_L2A_2936n1542959n126_0_1.tif\n",
      "S2A_35MQU_20200323_0_L2A_2936n1542959n126_0_1.tif\n",
      "S2A_35MQU_20200323_0_L2A_2936n1542959n126_2_1.tif\n",
      "S2B_35MQU_20210611_0_L2A_2936n1542959n126_3_1.tif\n",
      "S2A_35MQU_20200323_0_L2A_2936n1542959n126_3_4.tif\n",
      "S2B_35MQU_20190123_0_L2A_2936n1542959n126_1_2.tif\n",
      "S2B_35MQU_20210611_0_L2A_2936n1542959n126_2_4.tif\n",
      "S2A_35MQU_20200323_0_L2A_2936n1542959n126_3_2.tif\n",
      "S2A_35MQU_20200323_0_L2A_2936n1542959n126_4_3.tif\n",
      "S2A_35MQU_20220929_0_L2A_2936n1542959n126_0_1.tif\n",
      "S2B_35MQU_20190123_0_L2A_2936n1542959n126_0_4.tif\n",
      "S2A_35MQU_20220929_0_L2A_2936n1542959n126_0_4.tif\n",
      "S2B_35MQU_20210611_0_L2A_2936n1542959n126_0_0.tif\n",
      "S2A_35MQU_20200323_0_L2A_2936n1542959n126_3_0.tif\n",
      "S2B_35MQU_20210611_0_L2A_2936n1542959n126_1_3.tif\n",
      "S2A_35MQU_20220929_0_L2A_2936n1542959n126_1_1.tif\n",
      "S2A_35MQU_20200323_0_L2A_2936n1542959n126_0_3.tif\n",
      "S2B_35MQU_20210611_0_L2A_2936n1542959n126_3_2.tif\n",
      "S2B_35MQU_20210611_0_L2A_2936n1542959n126_1_2.tif\n",
      "S2A_35MQU_20200323_0_L2A_2936n1542959n126_4_1.tif\n",
      "S2A_35MQV_20200303_0_L2A_2927n0732948n058_0_2.tif\n",
      "S2B_35MQU_20210611_0_L2A_2936n1542959n126_3_0.tif\n",
      "S2A_35MQV_20200303_0_L2A_2927n0732948n058_1_1.tif\n",
      "S2B_35MQV_20190123_0_L2A_2927n0732948n058_1_0.tif\n",
      "S2B_35MQV_20210611_0_L2A_2927n0732948n058_0_0.tif\n",
      "S2B_35MQV_20190123_0_L2A_2927n0732948n058_2_0.tif\n",
      "S2B_35MQV_20210611_0_L2A_2927n0732948n058_0_2.tif\n",
      "S2A_35MQV_20200303_0_L2A_2927n0732948n058_1_3.tif\n",
      "S2B_35MQV_20190123_0_L2A_2927n0732948n058_0_2.tif\n",
      "S2A_35MQV_20200303_0_L2A_2927n0732948n058_0_3.tif\n",
      "S2B_35MQV_20210611_0_L2A_2927n0732948n058_1_2.tif\n",
      "S2A_35MQV_20220929_0_L2A_2927n0732948n058_2_3.tif\n",
      "S2B_35MQV_20190123_0_L2A_2927n0732948n058_0_3.tif\n",
      "S2B_35MQV_20190123_0_L2A_2927n0732948n058_1_2.tif\n",
      "S2B_35MQU_20210611_0_L2A_2904n1452935n127_1_4.tif\n",
      "S2B_35MQV_20210611_0_L2A_2927n0732948n058_1_3.tif\n",
      "S2A_35MQV_20220929_0_L2A_2927n0732948n058_1_3.tif\n",
      "S2A_35MQV_20200303_0_L2A_2927n0732948n058_1_0.tif\n",
      "S2A_35MQV_20220929_0_L2A_2927n0732948n058_0_2.tif\n",
      "S2A_35MQV_20200303_0_L2A_2927n0732948n058_0_0.tif\n",
      "S2A_35MQV_20200303_0_L2A_2927n0732948n058_1_2.tif\n",
      "S2B_35MQU_20210611_0_L2A_2904n1452935n127_2_3.tif\n",
      "S2A_35MQU_20200323_0_L2A_2904n1452935n127_0_5.tif\n",
      "S2B_35MQU_20210611_0_L2A_2904n1452935n127_0_5.tif\n",
      "S2B_35MQU_20210611_0_L2A_2904n1452935n127_2_4.tif\n",
      "S2A_35MQU_20220929_0_L2A_2904n1452935n127_0_5.tif\n",
      "S2B_35MQU_20210611_0_L2A_2904n1452935n127_0_2.tif\n",
      "S2A_35MQU_20200323_0_L2A_2904n1452935n127_1_2.tif\n",
      "S2A_35MQU_20220929_0_L2A_2904n1452935n127_1_4.tif\n",
      "S2B_35MQU_20190123_0_L2A_2904n1452935n127_1_4.tif\n",
      "S2B_35MQV_20190123_0_L2A_2952n0162969n003_1_0.tif\n",
      "S2B_35MQV_20190123_0_L2A_2952n0162969n003_0_2.tif\n",
      "S2A_35MQV_20220929_0_L2A_2952n0162969n003_1_0.tif\n",
      "S2B_35MQV_20210611_0_L2A_2952n0162969n003_0_1.tif\n",
      "S2B_35MQV_20210611_0_L2A_2952n0162969n003_1_0.tif\n",
      "S2B_35MQV_20210611_0_L2A_2952n0162969n003_1_2.tif\n",
      "S2B_35NQA_20190123_0_L2A_2952n0162969n003_0_2.tif\n",
      "S2A_35MQV_20220929_0_L2A_2952n0162969n003_1_1.tif\n",
      "S2A_35NQA_20220929_0_L2A_2952n0162969n003_0_1.tif\n",
      "S2B_35NQA_20210621_0_L2A_2952n0162969n003_0_2.tif\n",
      "S2B_35NQA_20190123_0_L2A_2952n0162969n003_0_1.tif\n",
      "S2A_35NPB_20190121_0_L2A_28521382872152_1_0.tif\n",
      "S2B_35NPB_20200331_0_L2A_28521382872152_0_2.tif\n",
      "S2B_35NPB_20200331_0_L2A_28521382872152_0_3.tif\n",
      "S2A_35NPB_20190121_0_L2A_28521382872152_1_2.tif\n",
      "S2A_35NPB_20190121_0_L2A_28521382872152_1_3.tif\n",
      "S2A_35NPB_20190121_0_L2A_28521382872152_2_0.tif\n",
      "S2A_35NPB_20190121_0_L2A_28521382872152_2_2.tif\n",
      "S2A_35NPB_20190121_0_L2A_28521382872152_0_3.tif\n",
      "S2B_35NPB_20200331_0_L2A_28521382872152_0_1.tif\n",
      "S2B_35NPB_20200331_0_L2A_28521382872152_2_0.tif\n",
      "S2A_35NPB_20190121_0_L2A_28521382872152_0_2.tif\n",
      "S2B_35NPB_20200331_0_L2A_28521382872152_1_2.tif\n",
      "S2A_35NPB_20190121_0_L2A_28521382872152_2_1.tif\n",
      "S2B_35NPB_20200331_0_L2A_28521382872152_1_0.tif\n",
      "S2B_35MQV_20210611_0_L2A_2952n0162969n003_0_0.tif\n",
      "done\n"
     ]
    }
   ],
   "source": [
    "import json\n",
    "import matplotlib.pyplot as plt\n",
    "import numpy as np\n",
    "import rasterio\n",
    "from rasterio.features import geometry_mask\n",
    "from shapely.geometry import Polygon\n",
    "\n",
    "from common.constants import NODATA_BYTE\n",
    "from common.utilities.imagery import write_array_to_tif\n",
    "from common.utilities.visualization import plot_bands\n",
    "\n",
    "# the lower the value the higher the priority\n",
    "# higher values get overwritten by lower ones\n",
    "LANDCOVER_CLASSES = {\n",
    "    'unclassified': 0,\n",
    "    'cloud' : 1,\n",
    "    'built' : 2,\n",
    "    'water' : 3,\n",
    "    'bare_ground' : 4,\n",
    "    'burned' : 5,\n",
    "    'trees' : 6,\n",
    "    'agriculture' : 7,\n",
    "    'semi_natural_vegetation' : 8,\n",
    "}\n",
    "\n",
    "data_rows = get_data_rows()\n",
    "data_rows = [dr for dr in data_rows if dr['DataRow Workflow Info']['taskName'] == \"Done\"]\n",
    "print(f'{len(data_rows)} done data rows')\n",
    "\n",
    "for i, row in enumerate(data_rows):\n",
    "        \n",
    "    row_id = row['DataRow ID']    \n",
    "    labels = row['Label']['objects']\n",
    "    metadata = json.loads(row['Labeled Data'])\n",
    "    rgb_cog_url = metadata['tileLayerUrl']\n",
    "    file_name = rgb_cog_url.split('/')[-1]\n",
    "        \n",
    "    rgb_path = f'{labelbox_landcover_rgb_dir}/{file_name}'\n",
    "    label_path = f'{labelbox_landcover_labels_dir}/{file_name}'\n",
    "    source_path = f'{labelbox_landcover_source_dir}/{file_name}'\n",
    "\n",
    "    with rasterio.open(source_path) as src:\n",
    "        bbox = list(src.bounds)\n",
    "        source_shape = src.shape\n",
    "        source_transform = src.transform\n",
    "        source_data = src.read(masked=True)\n",
    "        source_mask = source_data.mask[0, :, :]\n",
    "            \n",
    "    label_polygons = {\n",
    "        label['featureId']: Polygon(label['geometry']['coordinates'][0])\n",
    "        for label in labels\n",
    "    }\n",
    "        \n",
    "    # 0: unclassified\n",
    "    labels_data = np.zeros(source_shape).astype(np.uint8)\n",
    "\n",
    "    islands = []    \n",
    "    sorted_labels = sorted(labels, key=lambda lab: LANDCOVER_CLASSES[lab['value']], reverse=True)\n",
    "\n",
    "    print(f'\\t{len(sorted_labels)} sorted labels')\n",
    "\n",
    "    for label in sorted_labels:\n",
    "        class_value = label['value']\n",
    "        class_idx = LANDCOVER_CLASSES[class_value]\n",
    "                \n",
    "        label_id = label['featureId']\n",
    "        polygon = label_polygons[label_id]\n",
    "        polygon_mask = geometry_mask([polygon], source_shape, source_transform, invert=True)\n",
    "        \n",
    "        island_test_polygons = label_polygons.copy()\n",
    "        del island_test_polygons[label_id]\n",
    "        is_poly_island = is_island(polygon, list(island_test_polygons.values()))\n",
    "                \n",
    "        if is_poly_island:\n",
    "            islands.append((class_idx, polygon_mask))\n",
    "        else:\n",
    "            labels_data[polygon_mask] = class_idx\n",
    "\n",
    "    for class_idx, polygon_mask in islands:\n",
    "        labels_data[polygon_mask] = class_idx\n",
    "    \n",
    "    labels_mask = source_mask.copy()\n",
    "    labels_mask |= labels_data == 0\n",
    "    labels_data = np.ma.array(labels_data, mask=labels_mask)    \n",
    "    \n",
    "    if i == 0:\n",
    "        fig, (ax1, ax2) = plt.subplots(1, 2, figsize=(12, 12))\n",
    "        plot_bands(source_data, ax=ax1, bands=[2, 1, 0], transpose=True)\n",
    "        ax2.imshow(labels_data, vmin=0, vmax=8)\n",
    "\n",
    "    write_array_to_tif(labels_data, label_path, bbox, dtype=np.uint8, nodata=NODATA_BYTE)\n",
    "\n",
    "print('done')"
   ]
  },
  {
   "cell_type": "markdown",
   "metadata": {
    "tags": []
   },
   "source": [
    "# 3. Data augmentation ⚒️"
   ]
  },
  {
   "cell_type": "markdown",
   "metadata": {
    "tags": []
   },
   "source": [
    "## a. rotate images"
   ]
  },
  {
   "cell_type": "code",
   "execution_count": 26,
   "metadata": {
    "tags": []
   },
   "outputs": [
    {
     "name": "stdout",
     "output_type": "stream",
     "text": [
      "done\n"
     ]
    }
   ],
   "source": [
    "%reload_ext autoreload\n",
    "%autoreload 2\n",
    "\n",
    "import glob\n",
    "import numpy as np\n",
    "import rasterio\n",
    "import shutil\n",
    "\n",
    "from common.constants import NODATA_BYTE, NODATA_FLOAT32\n",
    "import common.utilities.imagery as imagery\n",
    "\n",
    "\n",
    "label_paths = glob.glob(f'{labelbox_landcover_labels_dir}/S2*[0-9].tif')\n",
    "\n",
    "for label_path in label_paths:\n",
    "    \n",
    "    source_path = label_path.replace(labelbox_landcover_labels_dir, labelbox_landcover_source_dir)\n",
    "                        \n",
    "    with rasterio.open(source_path) as source_src:\n",
    "        source_data = source_src.read()\n",
    "        bbox = list(source_src.bounds)\n",
    "        \n",
    "    with rasterio.open(label_path) as label_src:\n",
    "        label_data = label_src.read(1)\n",
    "        \n",
    "    for i in range(1, 3):       \n",
    "                  \n",
    "        source_rotated = np.rot90(source_data, k=i, axes=(1, 2))\n",
    "        source_rotated = source_rotated.transpose((1, 2, 0))\n",
    "\n",
    "        label_rotated = np.rot90(label_data, k=i, axes=(0, 1))\n",
    "\n",
    "        source_rotated_path = source_path.replace('.tif', f'_{90*i}deg.tif')\n",
    "        label_rotated_path = label_path.replace('.tif', f'_{90*i}deg.tif')\n",
    "\n",
    "        imagery.write_array_to_tif(source_rotated, source_rotated_path, bbox, dtype=np.float32, nodata=NODATA_FLOAT32)\n",
    "        imagery.write_array_to_tif(label_rotated, label_rotated_path, bbox, dtype=np.uint8, nodata=NODATA_BYTE)     \n",
    "\n",
    "print('done')"
   ]
  },
  {
   "cell_type": "markdown",
   "metadata": {},
   "source": [
    "## b. add nodata"
   ]
  },
  {
   "cell_type": "code",
   "execution_count": null,
   "metadata": {},
   "outputs": [],
   "source": [
    "import glob\n",
    "import matplotlib.pyplot as plt\n",
    "import numpy as np\n",
    "import random\n",
    "import rasterio\n",
    "\n",
    "from common.constants import NODATA_BYTE, NODATA_FLOAT32\n",
    "import common.utilities.imagery as imagery\n",
    "\n",
    "\n",
    "random.seed(666)\n",
    "\n",
    "# get non-augmented labeled chips\n",
    "label_paths = glob.glob(f'{labelbox_landcover_labels_dir}/S2*[0-9].tif')\n",
    "\n",
    "for i, label_path in enumerate(label_paths):\n",
    "    \n",
    "    if i % 20 == 0:\n",
    "        print(f'{i} done')\n",
    "\n",
    "    source_path = label_path.replace(labelbox_landcover_labels_dir, labelbox_landcover_source_dir)\n",
    "                \n",
    "    with rasterio.open(source_path) as source_src:\n",
    "        source_data = source_src.read()\n",
    "        bbox = list(source_src.bounds)\n",
    "        mask_shape = source_src.shape\n",
    "        \n",
    "    with rasterio.open(label_path) as label_src:\n",
    "        label_data = label_src.read(1)\n",
    "        \n",
    "    source_nodata_path = source_path.replace('.tif', f'_nodata.tif')\n",
    "    label_nodata_path = label_path.replace('.tif', f'_nodata.tif')\n",
    "\n",
    "    mask = np.zeros(mask_shape, dtype=bool)\n",
    "    \n",
    "    # simulate cut off scene\n",
    "    if i % 20 == 0:\n",
    "        minp, maxp = 200, 300 \n",
    "        padding = random.randint(minp, maxp)\n",
    "        mask[:, -padding:] = True\n",
    "    else:\n",
    "        minp, maxp = 4, 24\n",
    "        pb = random.randint(minp, maxp)\n",
    "        pl = random.randint(minp, maxp)\n",
    "        pt = random.randint(minp, maxp)\n",
    "        pr = random.randint(minp, maxp)\n",
    "        mask[-pb:, :] = True\n",
    "        mask[:, :pl] = True\n",
    "        mask[:pt, :] = True\n",
    "        mask[:, -pr:] = True\n",
    "        \n",
    "    source_data[:, mask] = NODATA_FLOAT32\n",
    "    source_data = source_data.transpose((1, 2, 0))\n",
    "    label_data[mask] = 0 # no clouds\n",
    "    \n",
    "    imagery.write_array_to_tif(source_data, source_nodata_path, bbox, dtype=np.float32, nodata=NODATA_FLOAT32)\n",
    "    imagery.write_array_to_tif(label_data, label_nodata_path, bbox, dtype=np.uint8, nodata=NODATA_BYTE)     \n",
    "    \n",
    "print('done')"
   ]
  },
  {
   "cell_type": "code",
   "execution_count": null,
   "metadata": {},
   "outputs": [],
   "source": []
  },
  {
   "cell_type": "markdown",
   "metadata": {},
   "source": [
    "## Plot results 🖼️"
   ]
  },
  {
   "cell_type": "code",
   "execution_count": 30,
   "metadata": {
    "tags": []
   },
   "outputs": [
    {
     "data": {
      "image/png": "[encoded data removed]",
      "text/plain": [
       "<Figure size 1200x1200 with 2 Axes>"
      ]
     },
     "metadata": {},
     "output_type": "display_data"
    }
   ],
   "source": [
    "import matplotlib.pyplot as plt\n",
    "from common.utilities.visualization import plot_bands\n",
    "\n",
    "\n",
    "label_path = './data/labelbox/landcover/labels/S2A_35MQU_20220929_0_L2A_2936n1542959n126_3_3_90deg.tif'\n",
    "source_path = './data/labelbox/landcover/source/S2A_35MQU_20220929_0_L2A_2936n1542959n126_3_3_90deg.tif'\n",
    "\n",
    "fig, (ax1, ax2) = plt.subplots(1, 2, figsize=(12, 12))\n",
    "\n",
    "with rasterio.open(source_path) as src:\n",
    "    source_data = src.read(masked=True)\n",
    "    \n",
    "with rasterio.open(label_path) as src:\n",
    "    label_data = src.read(1, masked=True)\n",
    "    \n",
    "plot_bands(source_data, ax=ax1, bands=[2, 1, 0], transpose=True)\n",
    "ax2.imshow(label_data, vmin=0, vmax=8)\n",
    "plt.show()\n"
   ]
  },
  {
   "cell_type": "markdown",
   "metadata": {},
   "source": [
    "## merge everything together\n",
    "### right now there is only one source (Labelbox) so not super useful, but maybe in the future"
   ]
  },
  {
   "cell_type": "code",
   "execution_count": 4,
   "metadata": {},
   "outputs": [],
   "source": [
    "\n",
    "merged_original_dir = \"./data/mergedLandcoverTrainingData/original\" # not using this right now...\n",
    "merged_split_dir = \"./data/mergedLandcoverTrainingData/split\"\n"
   ]
  },
  {
   "cell_type": "code",
   "execution_count": 5,
   "metadata": {},
   "outputs": [
    {
     "ename": "NameError",
     "evalue": "name 'labelbox_landcover_dir' is not defined",
     "output_type": "error",
     "traceback": [
      "\u001b[0;31m---------------------------------------------------------------------------\u001b[0m",
      "\u001b[0;31mNameError\u001b[0m                                 Traceback (most recent call last)",
      "Cell \u001b[0;32mIn[5], line 26\u001b[0m\n\u001b[1;32m     22\u001b[0m     dst_path \u001b[38;5;241m=\u001b[39m \u001b[38;5;124mf\u001b[39m\u001b[38;5;124m'\u001b[39m\u001b[38;5;132;01m{\u001b[39;00mmerged_original_dir\u001b[38;5;132;01m}\u001b[39;00m\u001b[38;5;124m/source/\u001b[39m\u001b[38;5;132;01m{\u001b[39;00mfile_name\u001b[38;5;132;01m}\u001b[39;00m\u001b[38;5;124m'\u001b[39m\n\u001b[1;32m     23\u001b[0m     shutil\u001b[38;5;241m.\u001b[39mcopy2(path, dst_path)\n\u001b[0;32m---> 26\u001b[0m all_landcover_dirs \u001b[38;5;241m=\u001b[39m [\u001b[43mlabelbox_landcover_dir\u001b[49m]    \n\u001b[1;32m     27\u001b[0m \u001b[38;5;28;01mfor\u001b[39;00m _dir \u001b[38;5;129;01min\u001b[39;00m all_cloud_dirs:\n\u001b[1;32m     29\u001b[0m     label_paths \u001b[38;5;241m=\u001b[39m glob\u001b[38;5;241m.\u001b[39mglob(\u001b[38;5;124mf\u001b[39m\u001b[38;5;124m'\u001b[39m\u001b[38;5;132;01m{\u001b[39;00m_dir\u001b[38;5;132;01m}\u001b[39;00m\u001b[38;5;124m/labels/*.tif\u001b[39m\u001b[38;5;124m'\u001b[39m)\n",
      "\u001b[0;31mNameError\u001b[0m: name 'labelbox_landcover_dir' is not defined"
     ]
    }
   ],
   "source": [
    "import glob\n",
    "import multiprocessing\n",
    "import os\n",
    "import shutil\n",
    "\n",
    "\n",
    "if os.path.exists(merged_original_dir):\n",
    "    shutil.rmtree(merged_original_dir)\n",
    "\n",
    "os.makedirs(f'{merged_original_dir}/source', exist_ok=True)\n",
    "os.makedirs(f'{merged_original_dir}/labels', exist_ok=True)\n",
    "os.makedirs(merged_split_dir, exist_ok=True)\n",
    "\n",
    "\n",
    "def process_label_path(path):\n",
    "    file_name = path.split('/')[-1]\n",
    "    dst_path = f'{merged_original_dir}/labels/{file_name}'\n",
    "    shutil.copy2(path, dst_path)\n",
    "\n",
    "def process_source_path(path):\n",
    "    file_name = path.split('/')[-1]\n",
    "    dst_path = f'{merged_original_dir}/source/{file_name}'\n",
    "    shutil.copy2(path, dst_path)\n",
    "\n",
    "    \n",
    "all_landcover_dirs = [labelbox_landcover_dir]    \n",
    "for _dir in all_cloud_dirs:\n",
    "    \n",
    "    label_paths = glob.glob(f'{_dir}/labels/*.tif')\n",
    "    print(f'{_dir}: {len(label_paths)} label paths')\n",
    "    \n",
    "    with multiprocessing.Pool(processes=multiprocessing.cpu_count()) as pool:\n",
    "        pool.map(process_label_path, label_paths)\n",
    "\n",
    "    # ensure that every label has source, otherwise throws exception\n",
    "    source_paths = [p.replace('/labels/', '/source/') for p in label_paths]\n",
    "    with multiprocessing.Pool(processes=multiprocessing.cpu_count()) as pool:\n",
    "        pool.map(process_source_path, source_paths)\n",
    "\n",
    "print('done')"
   ]
  },
  {
   "cell_type": "markdown",
   "metadata": {},
   "source": [
    "## split data into train / test / val"
   ]
  },
  {
   "cell_type": "code",
   "execution_count": null,
   "metadata": {},
   "outputs": [],
   "source": [
    "import os\n",
    "import shutil\n",
    "import splitfolders\n",
    "\n",
    "\n",
    "if os.path.exists(merged_split_dir):\n",
    "    shutil.rmtree(merged_split_dir)\n",
    "\n",
    "splitfolders.ratio(merged_original_dir, output=merged_split_dir, seed=666, ratio=(0.80, 0.10, 0.10), group_prefix=None);\n",
    "\n",
    "print('done')"
   ]
  },
  {
   "cell_type": "code",
   "execution_count": null,
   "metadata": {},
   "outputs": [],
   "source": []
  }
 ],
 "metadata": {
  "availableInstances": [
   {
    "_defaultOrder": 0,
    "_isFastLaunch": true,
    "category": "General purpose",
    "gpuNum": 0,
    "hideHardwareSpecs": false,
    "memoryGiB": 4,
    "name": "ml.t3.medium",
    "vcpuNum": 2
   },
   {
    "_defaultOrder": 1,
    "_isFastLaunch": false,
    "category": "General purpose",
    "gpuNum": 0,
    "hideHardwareSpecs": false,
    "memoryGiB": 8,
    "name": "ml.t3.large",
    "vcpuNum": 2
   },
   {
    "_defaultOrder": 2,
    "_isFastLaunch": false,
    "category": "General purpose",
    "gpuNum": 0,
    "hideHardwareSpecs": false,
    "memoryGiB": 16,
    "name": "ml.t3.xlarge",
    "vcpuNum": 4
   },
   {
    "_defaultOrder": 3,
    "_isFastLaunch": false,
    "category": "General purpose",
    "gpuNum": 0,
    "hideHardwareSpecs": false,
    "memoryGiB": 32,
    "name": "ml.t3.2xlarge",
    "vcpuNum": 8
   },
   {
    "_defaultOrder": 4,
    "_isFastLaunch": true,
    "category": "General purpose",
    "gpuNum": 0,
    "hideHardwareSpecs": false,
    "memoryGiB": 8,
    "name": "ml.m5.large",
    "vcpuNum": 2
   },
   {
    "_defaultOrder": 5,
    "_isFastLaunch": false,
    "category": "General purpose",
    "gpuNum": 0,
    "hideHardwareSpecs": false,
    "memoryGiB": 16,
    "name": "ml.m5.xlarge",
    "vcpuNum": 4
   },
   {
    "_defaultOrder": 6,
    "_isFastLaunch": false,
    "category": "General purpose",
    "gpuNum": 0,
    "hideHardwareSpecs": false,
    "memoryGiB": 32,
    "name": "ml.m5.2xlarge",
    "vcpuNum": 8
   },
   {
    "_defaultOrder": 7,
    "_isFastLaunch": false,
    "category": "General purpose",
    "gpuNum": 0,
    "hideHardwareSpecs": false,
    "memoryGiB": 64,
    "name": "ml.m5.4xlarge",
    "vcpuNum": 16
   },
   {
    "_defaultOrder": 8,
    "_isFastLaunch": false,
    "category": "General purpose",
    "gpuNum": 0,
    "hideHardwareSpecs": false,
    "memoryGiB": 128,
    "name": "ml.m5.8xlarge",
    "vcpuNum": 32
   },
   {
    "_defaultOrder": 9,
    "_isFastLaunch": false,
    "category": "General purpose",
    "gpuNum": 0,
    "hideHardwareSpecs": false,
    "memoryGiB": 192,
    "name": "ml.m5.12xlarge",
    "vcpuNum": 48
   },
   {
    "_defaultOrder": 10,
    "_isFastLaunch": false,
    "category": "General purpose",
    "gpuNum": 0,
    "hideHardwareSpecs": false,
    "memoryGiB": 256,
    "name": "ml.m5.16xlarge",
    "vcpuNum": 64
   },
   {
    "_defaultOrder": 11,
    "_isFastLaunch": false,
    "category": "General purpose",
    "gpuNum": 0,
    "hideHardwareSpecs": false,
    "memoryGiB": 384,
    "name": "ml.m5.24xlarge",
    "vcpuNum": 96
   },
   {
    "_defaultOrder": 12,
    "_isFastLaunch": false,
    "category": "General purpose",
    "gpuNum": 0,
    "hideHardwareSpecs": false,
    "memoryGiB": 8,
    "name": "ml.m5d.large",
    "vcpuNum": 2
   },
   {
    "_defaultOrder": 13,
    "_isFastLaunch": false,
    "category": "General purpose",
    "gpuNum": 0,
    "hideHardwareSpecs": false,
    "memoryGiB": 16,
    "name": "ml.m5d.xlarge",
    "vcpuNum": 4
   },
   {
    "_defaultOrder": 14,
    "_isFastLaunch": false,
    "category": "General purpose",
    "gpuNum": 0,
    "hideHardwareSpecs": false,
    "memoryGiB": 32,
    "name": "ml.m5d.2xlarge",
    "vcpuNum": 8
   },
   {
    "_defaultOrder": 15,
    "_isFastLaunch": false,
    "category": "General purpose",
    "gpuNum": 0,
    "hideHardwareSpecs": false,
    "memoryGiB": 64,
    "name": "ml.m5d.4xlarge",
    "vcpuNum": 16
   },
   {
    "_defaultOrder": 16,
    "_isFastLaunch": false,
    "category": "General purpose",
    "gpuNum": 0,
    "hideHardwareSpecs": false,
    "memoryGiB": 128,
    "name": "ml.m5d.8xlarge",
    "vcpuNum": 32
   },
   {
    "_defaultOrder": 17,
    "_isFastLaunch": false,
    "category": "General purpose",
    "gpuNum": 0,
    "hideHardwareSpecs": false,
    "memoryGiB": 192,
    "name": "ml.m5d.12xlarge",
    "vcpuNum": 48
   },
   {
    "_defaultOrder": 18,
    "_isFastLaunch": false,
    "category": "General purpose",
    "gpuNum": 0,
    "hideHardwareSpecs": false,
    "memoryGiB": 256,
    "name": "ml.m5d.16xlarge",
    "vcpuNum": 64
   },
   {
    "_defaultOrder": 19,
    "_isFastLaunch": false,
    "category": "General purpose",
    "gpuNum": 0,
    "hideHardwareSpecs": false,
    "memoryGiB": 384,
    "name": "ml.m5d.24xlarge",
    "vcpuNum": 96
   },
   {
    "_defaultOrder": 20,
    "_isFastLaunch": false,
    "category": "General purpose",
    "gpuNum": 0,
    "hideHardwareSpecs": true,
    "memoryGiB": 0,
    "name": "ml.geospatial.interactive",
    "supportedImageNames": [
     "sagemaker-geospatial-v1-0"
    ],
    "vcpuNum": 0
   },
   {
    "_defaultOrder": 21,
    "_isFastLaunch": true,
    "category": "Compute optimized",
    "gpuNum": 0,
    "hideHardwareSpecs": false,
    "memoryGiB": 4,
    "name": "ml.c5.large",
    "vcpuNum": 2
   },
   {
    "_defaultOrder": 22,
    "_isFastLaunch": false,
    "category": "Compute optimized",
    "gpuNum": 0,
    "hideHardwareSpecs": false,
    "memoryGiB": 8,
    "name": "ml.c5.xlarge",
    "vcpuNum": 4
   },
   {
    "_defaultOrder": 23,
    "_isFastLaunch": false,
    "category": "Compute optimized",
    "gpuNum": 0,
    "hideHardwareSpecs": false,
    "memoryGiB": 16,
    "name": "ml.c5.2xlarge",
    "vcpuNum": 8
   },
   {
    "_defaultOrder": 24,
    "_isFastLaunch": false,
    "category": "Compute optimized",
    "gpuNum": 0,
    "hideHardwareSpecs": false,
    "memoryGiB": 32,
    "name": "ml.c5.4xlarge",
    "vcpuNum": 16
   },
   {
    "_defaultOrder": 25,
    "_isFastLaunch": false,
    "category": "Compute optimized",
    "gpuNum": 0,
    "hideHardwareSpecs": false,
    "memoryGiB": 72,
    "name": "ml.c5.9xlarge",
    "vcpuNum": 36
   },
   {
    "_defaultOrder": 26,
    "_isFastLaunch": false,
    "category": "Compute optimized",
    "gpuNum": 0,
    "hideHardwareSpecs": false,
    "memoryGiB": 96,
    "name": "ml.c5.12xlarge",
    "vcpuNum": 48
   },
   {
    "_defaultOrder": 27,
    "_isFastLaunch": false,
    "category": "Compute optimized",
    "gpuNum": 0,
    "hideHardwareSpecs": false,
    "memoryGiB": 144,
    "name": "ml.c5.18xlarge",
    "vcpuNum": 72
   },
   {
    "_defaultOrder": 28,
    "_isFastLaunch": false,
    "category": "Compute optimized",
    "gpuNum": 0,
    "hideHardwareSpecs": false,
    "memoryGiB": 192,
    "name": "ml.c5.24xlarge",
    "vcpuNum": 96
   },
   {
    "_defaultOrder": 29,
    "_isFastLaunch": true,
    "category": "Accelerated computing",
    "gpuNum": 1,
    "hideHardwareSpecs": false,
    "memoryGiB": 16,
    "name": "ml.g4dn.xlarge",
    "vcpuNum": 4
   },
   {
    "_defaultOrder": 30,
    "_isFastLaunch": false,
    "category": "Accelerated computing",
    "gpuNum": 1,
    "hideHardwareSpecs": false,
    "memoryGiB": 32,
    "name": "ml.g4dn.2xlarge",
    "vcpuNum": 8
   },
   {
    "_defaultOrder": 31,
    "_isFastLaunch": false,
    "category": "Accelerated computing",
    "gpuNum": 1,
    "hideHardwareSpecs": false,
    "memoryGiB": 64,
    "name": "ml.g4dn.4xlarge",
    "vcpuNum": 16
   },
   {
    "_defaultOrder": 32,
    "_isFastLaunch": false,
    "category": "Accelerated computing",
    "gpuNum": 1,
    "hideHardwareSpecs": false,
    "memoryGiB": 128,
    "name": "ml.g4dn.8xlarge",
    "vcpuNum": 32
   },
   {
    "_defaultOrder": 33,
    "_isFastLaunch": false,
    "category": "Accelerated computing",
    "gpuNum": 4,
    "hideHardwareSpecs": false,
    "memoryGiB": 192,
    "name": "ml.g4dn.12xlarge",
    "vcpuNum": 48
   },
   {
    "_defaultOrder": 34,
    "_isFastLaunch": false,
    "category": "Accelerated computing",
    "gpuNum": 1,
    "hideHardwareSpecs": false,
    "memoryGiB": 256,
    "name": "ml.g4dn.16xlarge",
    "vcpuNum": 64
   },
   {
    "_defaultOrder": 35,
    "_isFastLaunch": false,
    "category": "Accelerated computing",
    "gpuNum": 1,
    "hideHardwareSpecs": false,
    "memoryGiB": 61,
    "name": "ml.p3.2xlarge",
    "vcpuNum": 8
   },
   {
    "_defaultOrder": 36,
    "_isFastLaunch": false,
    "category": "Accelerated computing",
    "gpuNum": 4,
    "hideHardwareSpecs": false,
    "memoryGiB": 244,
    "name": "ml.p3.8xlarge",
    "vcpuNum": 32
   },
   {
    "_defaultOrder": 37,
    "_isFastLaunch": false,
    "category": "Accelerated computing",
    "gpuNum": 8,
    "hideHardwareSpecs": false,
    "memoryGiB": 488,
    "name": "ml.p3.16xlarge",
    "vcpuNum": 64
   },
   {
    "_defaultOrder": 38,
    "_isFastLaunch": false,
    "category": "Accelerated computing",
    "gpuNum": 8,
    "hideHardwareSpecs": false,
    "memoryGiB": 768,
    "name": "ml.p3dn.24xlarge",
    "vcpuNum": 96
   },
   {
    "_defaultOrder": 39,
    "_isFastLaunch": false,
    "category": "Memory Optimized",
    "gpuNum": 0,
    "hideHardwareSpecs": false,
    "memoryGiB": 16,
    "name": "ml.r5.large",
    "vcpuNum": 2
   },
   {
    "_defaultOrder": 40,
    "_isFastLaunch": false,
    "category": "Memory Optimized",
    "gpuNum": 0,
    "hideHardwareSpecs": false,
    "memoryGiB": 32,
    "name": "ml.r5.xlarge",
    "vcpuNum": 4
   },
   {
    "_defaultOrder": 41,
    "_isFastLaunch": false,
    "category": "Memory Optimized",
    "gpuNum": 0,
    "hideHardwareSpecs": false,
    "memoryGiB": 64,
    "name": "ml.r5.2xlarge",
    "vcpuNum": 8
   },
   {
    "_defaultOrder": 42,
    "_isFastLaunch": false,
    "category": "Memory Optimized",
    "gpuNum": 0,
    "hideHardwareSpecs": false,
    "memoryGiB": 128,
    "name": "ml.r5.4xlarge",
    "vcpuNum": 16
   },
   {
    "_defaultOrder": 43,
    "_isFastLaunch": false,
    "category": "Memory Optimized",
    "gpuNum": 0,
    "hideHardwareSpecs": false,
    "memoryGiB": 256,
    "name": "ml.r5.8xlarge",
    "vcpuNum": 32
   },
   {
    "_defaultOrder": 44,
    "_isFastLaunch": false,
    "category": "Memory Optimized",
    "gpuNum": 0,
    "hideHardwareSpecs": false,
    "memoryGiB": 384,
    "name": "ml.r5.12xlarge",
    "vcpuNum": 48
   },
   {
    "_defaultOrder": 45,
    "_isFastLaunch": false,
    "category": "Memory Optimized",
    "gpuNum": 0,
    "hideHardwareSpecs": false,
    "memoryGiB": 512,
    "name": "ml.r5.16xlarge",
    "vcpuNum": 64
   },
   {
    "_defaultOrder": 46,
    "_isFastLaunch": false,
    "category": "Memory Optimized",
    "gpuNum": 0,
    "hideHardwareSpecs": false,
    "memoryGiB": 768,
    "name": "ml.r5.24xlarge",
    "vcpuNum": 96
   },
   {
    "_defaultOrder": 47,
    "_isFastLaunch": false,
    "category": "Accelerated computing",
    "gpuNum": 1,
    "hideHardwareSpecs": false,
    "memoryGiB": 16,
    "name": "ml.g5.xlarge",
    "vcpuNum": 4
   },
   {
    "_defaultOrder": 48,
    "_isFastLaunch": false,
    "category": "Accelerated computing",
    "gpuNum": 1,
    "hideHardwareSpecs": false,
    "memoryGiB": 32,
    "name": "ml.g5.2xlarge",
    "vcpuNum": 8
   },
   {
    "_defaultOrder": 49,
    "_isFastLaunch": false,
    "category": "Accelerated computing",
    "gpuNum": 1,
    "hideHardwareSpecs": false,
    "memoryGiB": 64,
    "name": "ml.g5.4xlarge",
    "vcpuNum": 16
   },
   {
    "_defaultOrder": 50,
    "_isFastLaunch": false,
    "category": "Accelerated computing",
    "gpuNum": 1,
    "hideHardwareSpecs": false,
    "memoryGiB": 128,
    "name": "ml.g5.8xlarge",
    "vcpuNum": 32
   },
   {
    "_defaultOrder": 51,
    "_isFastLaunch": false,
    "category": "Accelerated computing",
    "gpuNum": 1,
    "hideHardwareSpecs": false,
    "memoryGiB": 256,
    "name": "ml.g5.16xlarge",
    "vcpuNum": 64
   },
   {
    "_defaultOrder": 52,
    "_isFastLaunch": false,
    "category": "Accelerated computing",
    "gpuNum": 4,
    "hideHardwareSpecs": false,
    "memoryGiB": 192,
    "name": "ml.g5.12xlarge",
    "vcpuNum": 48
   },
   {
    "_defaultOrder": 53,
    "_isFastLaunch": false,
    "category": "Accelerated computing",
    "gpuNum": 4,
    "hideHardwareSpecs": false,
    "memoryGiB": 384,
    "name": "ml.g5.24xlarge",
    "vcpuNum": 96
   },
   {
    "_defaultOrder": 54,
    "_isFastLaunch": false,
    "category": "Accelerated computing",
    "gpuNum": 8,
    "hideHardwareSpecs": false,
    "memoryGiB": 768,
    "name": "ml.g5.48xlarge",
    "vcpuNum": 192
   }
  ],
  "instance_type": "ml.geospatial.interactive",
  "kernelspec": {
   "display_name": "Python 3 (Geospatial 1.0)",
   "language": "python",
   "name": "python3__SAGEMAKER_INTERNAL__arn:aws:sagemaker:us-west-2:081189585635:image/sagemaker-geospatial-v1-0"
  },
  "language_info": {
   "codemirror_mode": {
    "name": "ipython",
    "version": 3
   },
   "file_extension": ".py",
   "mimetype": "text/x-python",
   "name": "python",
   "nbconvert_exporter": "python",
   "pygments_lexer": "ipython3",
   "version": "3.10.4"
  }
 },
 "nbformat": 4,
 "nbformat_minor": 4
}
