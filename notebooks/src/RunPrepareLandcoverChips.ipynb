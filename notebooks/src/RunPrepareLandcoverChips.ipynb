{
 "cells": [
  {
   "attachments": {},
   "cell_type": "markdown",
   "metadata": {},
   "source": [
    "# Prepare landcover chips\n",
    "\n",
    "## 1. Pull labeled cloud chips and upload again to Labelbox\n",
    "- need to train on cloud masked chips\n",
    "- limit to classes in LandcoverNetAfrica\n",
    "\n",
    "## 2. Create custom datasets like clouds, and use 1024 x 1024 chips\n",
    "\n",
    "# 3. Make sure using satellite background"
   ]
  }
 ],
 "metadata": {
  "language_info": {
   "name": "python"
  },
  "orig_nbformat": 4
 },
 "nbformat": 4,
 "nbformat_minor": 2
}
