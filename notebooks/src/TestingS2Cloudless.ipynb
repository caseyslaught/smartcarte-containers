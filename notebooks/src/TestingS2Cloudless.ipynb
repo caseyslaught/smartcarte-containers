{
 "cells": [
  {
   "cell_type": "code",
   "execution_count": 1,
   "id": "3a7ef3e9-013f-4bb2-9b72-7db1aa465569",
   "metadata": {},
   "outputs": [],
   "source": [
    "from datetime import datetime as dt\n",
    "\n",
    "BBOXES = {\n",
    "    'south':  [29.296298, -1.582263, 29.769293, -1.197520],\n",
    "    'central': [29.242740, -0.807347, 29.629208, -0.591585],\n",
    "    'testing': [29.479746, -0.724323, 29.624479, -0.559775]\n",
    "}\n",
    "\n",
    "DATES = [\n",
    "    (dt(2020, 1, 1),  dt(2020, 3, 1),  10),\n",
    "    (dt(2020, 4, 1),  dt(2020, 6, 1),  10),\n",
    "    (dt(2020, 7, 1),  dt(2020, 9, 1),  10),\n",
    "    (dt(2020, 10, 1), dt(2020, 12, 1), 10),\n",
    "\n",
    "    (dt(2021, 1, 1),  dt(2021, 3, 1),  10),\n",
    "    (dt(2021, 4, 1),  dt(2021, 6, 1),  10),\n",
    "    (dt(2021, 7, 1),  dt(2021, 9, 1),  10),\n",
    "    (dt(2021, 10, 1), dt(2021, 12, 1), 10),\n",
    "\n",
    "    (dt(2022, 1, 1),  dt(2022, 3, 1),  10),\n",
    "    (dt(2022, 4, 1),  dt(2022, 6, 1),  10),\n",
    "    (dt(2022, 7, 1),  dt(2022, 9, 1),  10),\n",
    "    (dt(2022, 10, 1), dt(2022, 12, 1), 10),\n",
    "]"
   ]
  },
  {
   "cell_type": "code",
   "execution_count": 2,
   "id": "af903c2e-f235-4160-9e86-d77ed0adf209",
   "metadata": {},
   "outputs": [
    {
     "name": "stdout",
     "output_type": "stream",
     "text": [
      "./data/testingS2Cloudless/s2_collection.json: 3 items found\n",
      "./data/testingS2Cloudless/s2_collection.json: 3 filtered items\n"
     ]
    }
   ],
   "source": [
    "%run _downloads.ipynb\n",
    "\n",
    "bbox = BBOXES['testing']\n",
    "collection = get_collection(DATES[0][0], DATES[0][1], bbox, './data/testingS2Cloudless/s2_collection.json', max_cloud_cover=30)"
   ]
  },
  {
   "cell_type": "code",
   "execution_count": 3,
   "id": "fa447d86-52e4-4b11-b7fd-a8738de97ac8",
   "metadata": {},
   "outputs": [
    {
     "name": "stdout",
     "output_type": "stream",
     "text": [
      "\tS2A_35MQV_20200212_0_L2A\n"
     ]
    },
    {
     "ename": "KeyError",
     "evalue": "'B10'",
     "output_type": "error",
     "traceback": [
      "\u001b[0;31m---------------------------------------------------------------------------\u001b[0m",
      "\u001b[0;31mKeyError\u001b[0m                                  Traceback (most recent call last)",
      "Cell \u001b[0;32mIn[3], line 1\u001b[0m\n\u001b[0;32m----> 1\u001b[0m original_scenes_dict \u001b[38;5;241m=\u001b[39m \u001b[43mdownload_original_imagery\u001b[49m\u001b[43m(\u001b[49m\u001b[43mcollection\u001b[49m\u001b[43m,\u001b[49m\u001b[43m \u001b[49m\u001b[43mbbox\u001b[49m\u001b[43m,\u001b[49m\u001b[43m \u001b[49m\u001b[38;5;124;43m'\u001b[39;49m\u001b[38;5;124;43m./data/testingS2Cloudless\u001b[39;49m\u001b[38;5;124;43m'\u001b[39;49m\u001b[43m,\u001b[49m\u001b[43m \u001b[49m\u001b[43moverwrite\u001b[49m\u001b[38;5;241;43m=\u001b[39;49m\u001b[38;5;28;43;01mTrue\u001b[39;49;00m\u001b[43m)\u001b[49m\n",
      "File \u001b[0;32m/tmp/ipykernel_455/1495781474.py:28\u001b[0m, in \u001b[0;36mdownload_original_imagery\u001b[0;34m(collection, bbox, dst_dir, overwrite)\u001b[0m\n\u001b[1;32m     25\u001b[0m \u001b[38;5;28mprint\u001b[39m(\u001b[38;5;124mf\u001b[39m\u001b[38;5;124m'\u001b[39m\u001b[38;5;130;01m\\t\u001b[39;00m\u001b[38;5;132;01m{\u001b[39;00mitem\u001b[38;5;241m.\u001b[39mid\u001b[38;5;132;01m}\u001b[39;00m\u001b[38;5;124m'\u001b[39m)\n\u001b[1;32m     26\u001b[0m scenes_dict[item\u001b[38;5;241m.\u001b[39mid] \u001b[38;5;241m=\u001b[39m {}\n\u001b[0;32m---> 28\u001b[0m band_hrefs \u001b[38;5;241m=\u001b[39m [item\u001b[38;5;241m.\u001b[39massets[band]\u001b[38;5;241m.\u001b[39mhref \u001b[38;5;28;01mfor\u001b[39;00m band \u001b[38;5;129;01min\u001b[39;00m S2_BANDS]\n\u001b[1;32m     30\u001b[0m \u001b[38;5;66;03m# reproject bbox into projection of S2 item \u001b[39;00m\n\u001b[1;32m     31\u001b[0m item_epsg \u001b[38;5;241m=\u001b[39m \u001b[38;5;124mf\u001b[39m\u001b[38;5;124m'\u001b[39m\u001b[38;5;124mEPSG:\u001b[39m\u001b[38;5;132;01m{\u001b[39;00mitem\u001b[38;5;241m.\u001b[39mproperties[\u001b[38;5;124m\"\u001b[39m\u001b[38;5;124mproj:epsg\u001b[39m\u001b[38;5;124m\"\u001b[39m]\u001b[38;5;132;01m}\u001b[39;00m\u001b[38;5;124m'\u001b[39m\n",
      "File \u001b[0;32m/tmp/ipykernel_455/1495781474.py:28\u001b[0m, in \u001b[0;36m<listcomp>\u001b[0;34m(.0)\u001b[0m\n\u001b[1;32m     25\u001b[0m \u001b[38;5;28mprint\u001b[39m(\u001b[38;5;124mf\u001b[39m\u001b[38;5;124m'\u001b[39m\u001b[38;5;130;01m\\t\u001b[39;00m\u001b[38;5;132;01m{\u001b[39;00mitem\u001b[38;5;241m.\u001b[39mid\u001b[38;5;132;01m}\u001b[39;00m\u001b[38;5;124m'\u001b[39m)\n\u001b[1;32m     26\u001b[0m scenes_dict[item\u001b[38;5;241m.\u001b[39mid] \u001b[38;5;241m=\u001b[39m {}\n\u001b[0;32m---> 28\u001b[0m band_hrefs \u001b[38;5;241m=\u001b[39m [\u001b[43mitem\u001b[49m\u001b[38;5;241;43m.\u001b[39;49m\u001b[43massets\u001b[49m\u001b[43m[\u001b[49m\u001b[43mband\u001b[49m\u001b[43m]\u001b[49m\u001b[38;5;241m.\u001b[39mhref \u001b[38;5;28;01mfor\u001b[39;00m band \u001b[38;5;129;01min\u001b[39;00m S2_BANDS]\n\u001b[1;32m     30\u001b[0m \u001b[38;5;66;03m# reproject bbox into projection of S2 item \u001b[39;00m\n\u001b[1;32m     31\u001b[0m item_epsg \u001b[38;5;241m=\u001b[39m \u001b[38;5;124mf\u001b[39m\u001b[38;5;124m'\u001b[39m\u001b[38;5;124mEPSG:\u001b[39m\u001b[38;5;132;01m{\u001b[39;00mitem\u001b[38;5;241m.\u001b[39mproperties[\u001b[38;5;124m\"\u001b[39m\u001b[38;5;124mproj:epsg\u001b[39m\u001b[38;5;124m\"\u001b[39m]\u001b[38;5;132;01m}\u001b[39;00m\u001b[38;5;124m'\u001b[39m\n",
      "\u001b[0;31mKeyError\u001b[0m: 'B10'"
     ]
    }
   ],
   "source": [
    "original_scenes_dict = download_original_imagery(collection, bbox, './data/testingS2Cloudless', overwrite=True)"
   ]
  },
  {
   "cell_type": "code",
   "execution_count": null,
   "id": "cd4fff7a-778a-4ba0-87ea-971658e2c7be",
   "metadata": {},
   "outputs": [],
   "source": []
  }
 ],
 "metadata": {
  "kernelspec": {
   "display_name": "Python 3 (ipykernel)",
   "language": "python",
   "name": "python3"
  },
  "language_info": {
   "codemirror_mode": {
    "name": "ipython",
    "version": 3
   },
   "file_extension": ".py",
   "mimetype": "text/x-python",
   "name": "python",
   "nbconvert_exporter": "python",
   "pygments_lexer": "ipython3",
   "version": "3.8.16"
  }
 },
 "nbformat": 4,
 "nbformat_minor": 5
}
