{
 "cells": [
  {
   "cell_type": "code",
   "execution_count": 8,
   "metadata": {},
   "outputs": [
    {
     "name": "stdout",
     "output_type": "stream",
     "text": [
      "[<Collection id=ref_landcovernet_af_v1_source_sentinel_2>, <Collection id=ref_landcovernet_af_v1_source_sentinel_1>, <Collection id=ref_landcovernet_af_v1_source_landsat_8>, <Collection id=ref_landcovernet_af_v1_labels>]\n",
      "[<Collection id=ref_landcovernet_af_v1_source_sentinel_2>, <Collection id=ref_landcovernet_af_v1_source_sentinel_1>, <Collection id=ref_landcovernet_af_v1_source_landsat_8>]\n",
      "[<Collection id=ref_landcovernet_af_v1_labels>]\n"
     ]
    }
   ],
   "source": [
    "\n",
    "from radiant_mlhub import Dataset\n",
    "\n",
    "bbox = [28.529402, -1.753992, 30.328979, 1.359627]\n",
    "\n",
    "dataset = Dataset.fetch('ref_landcovernet_af_v1')\n",
    "print(dataset.collections)\n",
    "print(dataset.collections.source_imagery)\n",
    "print(dataset.collections.labels)\n",
    "\n",
    "collection_filter = dict(\n",
    "    ref_landcovernet_af_v1_source_sentinel_2=['B02', 'B03', 'B04', 'B08', 'CLD'],\n",
    "    ref_landcovernet_af_v1_labels=[]\n",
    ")\n",
    "\n",
    "\n"
   ]
  },
  {
   "cell_type": "code",
   "execution_count": 9,
   "metadata": {},
   "outputs": [
    {
     "name": "stdout",
     "output_type": "stream",
     "text": [
      "Catalog Size:  104896359\n",
      "Estimated Dataset Size:  678690171091\n"
     ]
    }
   ],
   "source": [
    "catalog_size = dataset.stac_catalog_size\n",
    "estimated_dataset_size = dataset.estimated_dataset_size\n",
    "print(\"Catalog Size: \", catalog_size) \n",
    "print(\"Estimated Dataset Size: \", estimated_dataset_size) "
   ]
  },
  {
   "cell_type": "code",
   "execution_count": null,
   "metadata": {},
   "outputs": [],
   "source": [
    "from datetime import datetime as dt\n",
    "\n",
    "filters = dict(\n",
    "    sen12floods_s2_source=['B02', 'B03', 'B04', 'B08'],   # Red, Green, Blue, NIR\n",
    "    sen12floods_s2_labels=['labels', 'documentation'],\n",
    ")\n",
    "\n",
    "dataset.download(bbox=bbox, output_dir=\"./data/RadiantEarth/\")\n"
   ]
  }
 ],
 "metadata": {
  "kernelspec": {
   "display_name": "venvnn",
   "language": "python",
   "name": "python3"
  },
  "language_info": {
   "codemirror_mode": {
    "name": "ipython",
    "version": 3
   },
   "file_extension": ".py",
   "mimetype": "text/x-python",
   "name": "python",
   "nbconvert_exporter": "python",
   "pygments_lexer": "ipython3",
   "version": "3.9.13"
  },
  "orig_nbformat": 4,
  "vscode": {
   "interpreter": {
    "hash": "8202375682d73a89481dfa5a8a17ecb8611f14e3b3346f4ac74d3d09f0e43363"
   }
  }
 },
 "nbformat": 4,
 "nbformat_minor": 2
}
