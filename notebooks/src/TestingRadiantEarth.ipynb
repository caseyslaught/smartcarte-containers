{
 "cells": [
  {
   "cell_type": "code",
   "execution_count": 4,
   "metadata": {
    "tags": []
   },
   "outputs": [
    {
     "name": "stdout",
     "output_type": "stream",
     "text": [
      "[<Collection id=ref_landcovernet_af_v1_source_sentinel_2>, <Collection id=ref_landcovernet_af_v1_source_sentinel_1>, <Collection id=ref_landcovernet_af_v1_source_landsat_8>, <Collection id=ref_landcovernet_af_v1_labels>]\n",
      "[<Collection id=ref_landcovernet_af_v1_source_sentinel_2>, <Collection id=ref_landcovernet_af_v1_source_sentinel_1>, <Collection id=ref_landcovernet_af_v1_source_landsat_8>]\n",
      "[<Collection id=ref_landcovernet_af_v1_labels>]\n"
     ]
    }
   ],
   "source": [
    "\n",
    "from radiant_mlhub import Collection, Dataset\n",
    "\n",
    "bbox = [28.529402, -1.753992, 30.328979, 1.359627]\n",
    "\n",
    "re_dir = \"./data/radiantEarth\"\n",
    "\n",
    "dataset = Dataset.fetch('ref_landcovernet_af_v1')\n",
    "print(dataset.collections)\n",
    "print(dataset.collections.source_imagery)\n",
    "print(dataset.collections.labels)\n",
    "\n",
    "collection_filter = dict(\n",
    "    ref_landcovernet_af_v1_source_sentinel_2=['B02', 'B03', 'B04', 'B08'],\n",
    "    ref_landcovernet_af_v1_labels=['labels', 'documentation']\n",
    ")\n",
    "\n",
    "# collection_filter still downloads catalogs for other collections - dumb\n",
    "# dataset.download(collection_filter=collection_filter, output_dir=\"./data/radiantEarth/\")"
   ]
  },
  {
   "cell_type": "code",
   "execution_count": null,
   "metadata": {
    "tags": []
   },
   "outputs": [
    {
     "data": {
      "application/vnd.jupyter.widget-view+json": {
       "model_id": "a6c8a427c778400db3d1237088873276",
       "version_major": 2,
       "version_minor": 0
      },
      "text/plain": [
       "  0%|          | 0/87989.0 [00:00<?, ?M/s]"
      ]
     },
     "metadata": {},
     "output_type": "display_data"
    }
   ],
   "source": [
    "from radiant_mlhub import Collection\n",
    "import tarfile\n",
    "\n",
    "\n",
    "re_dir = \"./data/radiantEarth\"\n",
    "\n",
    "labels_collection = Collection.fetch('ref_landcovernet_af_v1_labels')\n",
    "sentinel_collection = Collection.fetch('ref_landcovernet_af_v1_source_sentinel_2')\n",
    "\n",
    "labels_archive = labels_collection.download(f'{re_dir}/labels')\n",
    "sentinel_archive = sentinel_collection.download(f'{re_dir}/images')\n"
   ]
  },
  {
   "cell_type": "code",
   "execution_count": null,
   "metadata": {},
   "outputs": [],
   "source": [
    "labels_tar = tarfile.open(labels_archive, \"r:gz\")\n",
    "labels_tar.extractall()\n",
    "labels_tar.close()"
   ]
  },
  {
   "cell_type": "code",
   "execution_count": null,
   "metadata": {},
   "outputs": [],
   "source": [
    "sentinel_tar = tarfile.open(sentinel_archive, \"r:gz\")\n",
    "sentinel_tar.extractall()\n",
    "sentinel_tar.close()"
   ]
  },
  {
   "cell_type": "code",
   "execution_count": null,
   "metadata": {},
   "outputs": [],
   "source": [
    "# would be cool to build a cloud cover model!\n",
    "# https://mlhub.earth/data/ref_cloud_cover_detection_challenge_v1\n",
    "# https://drivendata.co/blog/cloud-cover-benchmark/\n",
    "\n",
    "# or https://www.azavea.com/blog/2021/08/02/the-azavea-cloud-dataset/"
   ]
  }
 ],
 "metadata": {
  "instance_type": "ml.m5.4xlarge",
  "kernelspec": {
   "display_name": "Python 3 (Geospatial 1.0)",
   "language": "python",
   "name": "python3__SAGEMAKER_INTERNAL__arn:aws:sagemaker:us-west-2:081189585635:image/sagemaker-geospatial-v1-0"
  },
  "language_info": {
   "codemirror_mode": {
    "name": "ipython",
    "version": 3
   },
   "file_extension": ".py",
   "mimetype": "text/x-python",
   "name": "python",
   "nbconvert_exporter": "python",
   "pygments_lexer": "ipython3",
   "version": "3.10.4"
  },
  "vscode": {
   "interpreter": {
    "hash": "8202375682d73a89481dfa5a8a17ecb8611f14e3b3346f4ac74d3d09f0e43363"
   }
  }
 },
 "nbformat": 4,
 "nbformat_minor": 4
}
