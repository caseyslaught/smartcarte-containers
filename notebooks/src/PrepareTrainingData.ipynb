{
 "cells": [
  {
   "cell_type": "markdown",
   "id": "76dc1536-9f27-448f-9700-db7e0933b02b",
   "metadata": {},
   "source": [
    "### Download, process, and upload training data"
   ]
  },
  {
   "cell_type": "code",
   "execution_count": 3,
   "id": "fb4ff39e",
   "metadata": {},
   "outputs": [],
   "source": [
    "from datetime import datetime as dt\n",
    "\n",
    "\n",
    "S2_BANDS = ['SCL', 'B02', 'B03', 'B04', 'B08']\n",
    "\n",
    "BBOXES = {\n",
    "    'south':  [29.296298, -1.582263, 29.769293, -1.197520],\n",
    "    'central': [29.242740, -0.807347, 29.629208, -0.591585],\n",
    "    'testing': [29.479746, -0.724323, 29.624479, -0.559775]\n",
    "}\n",
    "\n",
    "DATES = [\n",
    "    (dt(2020, 1, 1),  dt(2020, 3, 1),  10),\n",
    "    (dt(2020, 4, 1),  dt(2020, 6, 1),  10),\n",
    "    (dt(2020, 7, 1),  dt(2020, 9, 1),  10),\n",
    "    (dt(2020, 10, 1), dt(2020, 12, 1), 10),\n",
    "\n",
    "    (dt(2021, 1, 1),  dt(2021, 3, 1),  10),\n",
    "    (dt(2021, 4, 1),  dt(2021, 6, 1),  10),\n",
    "    (dt(2021, 7, 1),  dt(2021, 9, 1),  10),\n",
    "    (dt(2021, 10, 1), dt(2021, 12, 1), 10),\n",
    "\n",
    "    (dt(2022, 1, 1),  dt(2022, 3, 1),  10),\n",
    "    (dt(2022, 4, 1),  dt(2022, 6, 1),  10),\n",
    "    (dt(2022, 7, 1),  dt(2022, 9, 1),  10),\n",
    "    (dt(2022, 10, 1), dt(2022, 12, 1), 10),\n",
    "]"
   ]
  },
  {
   "cell_type": "code",
   "execution_count": 6,
   "id": "26094f76",
   "metadata": {},
   "outputs": [
    {
     "name": "stdout",
     "output_type": "stream",
     "text": [
      "./data/testing/s2_collection.json: 2 items found\n",
      "./data/testing/s2_collection.json: 2 filtered items\n"
     ]
    }
   ],
   "source": [
    "%run _downloads.ipynb\n",
    "\n",
    "collection = get_collection(DATES[0][0], DATES[0][1], BBOXES['testing'], './data/testing/s2_collection.json', max_cloud_cover=20)"
   ]
  },
  {
   "cell_type": "code",
   "execution_count": null,
   "id": "39759d7a",
   "metadata": {},
   "outputs": [],
   "source": [
    "\n",
    "composites = get_masked_composites()"
   ]
  }
 ],
 "metadata": {
  "kernelspec": {
   "display_name": "Python 3 (ipykernel)",
   "language": "python",
   "name": "python3"
  },
  "language_info": {
   "codemirror_mode": {
    "name": "ipython",
    "version": 3
   },
   "file_extension": ".py",
   "mimetype": "text/x-python",
   "name": "python",
   "nbconvert_exporter": "python",
   "pygments_lexer": "ipython3",
   "version": "3.8.16"
  }
 },
 "nbformat": 4,
 "nbformat_minor": 5
}
