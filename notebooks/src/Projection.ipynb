{
 "cells": [
  {
   "cell_type": "markdown",
   "metadata": {},
   "source": [
    "### Functions for handling projections and cartographic stuff 🗺️"
   ]
  },
  {
   "cell_type": "code",
   "execution_count": 1,
   "metadata": {},
   "outputs": [],
   "source": [
    "from functools import partial\n",
    "import pyproj\n",
    "from shapely.geometry import box, shape\n",
    "from shapely.ops import transform\n",
    "\n",
    "\n",
    "def reproject_polygon(geojson, init_proj='epsg:4326', target_proj='epsg:3857'):\n",
    "    \"\"\"\n",
    "    EPSG: 4326, World Geodetic System 1984, degrees\n",
    "    EPSG: 3857, Pseudo-Mercator / Google Maps, meters\n",
    "    \"\"\"\n",
    "    \n",
    "    _shape = shape(geojson)    \n",
    "    reproject = partial(pyproj.transform, pyproj.Proj(init=init_proj),\n",
    "                        pyproj.Proj(init=target_proj))\n",
    "    \n",
    "    return transform(reproject, _shape)"
   ]
  },
  {
   "cell_type": "code",
   "execution_count": 2,
   "metadata": {},
   "outputs": [
    {
     "name": "stdout",
     "output_type": "stream",
     "text": [
      "542791675.9020383\n",
      "93653.64943294585\n",
      "(3265490.470726204, -168312.337578744, 3297717.4633108564, -146698.62549680023)\n"
     ]
    }
   ],
   "source": [
    "geojson = {\n",
    "    \"type\": \"Polygon\",\n",
    "    \"coordinates\": [[\n",
    "        (29.3688, -1.5118), \n",
    "        (29.3344, -1.4476), \n",
    "        (29.4516, -1.3251), \n",
    "        (29.6239, -1.3177), \n",
    "        (29.6114, -1.5008)\n",
    "    ]]\n",
    "}\n",
    "\n",
    "ea_polygon = reproject_polygon(geojson)\n",
    "print(ea_polygon.area)\n",
    "print(ea_polygon.length)\n",
    "print(ea_polygon.bounds)"
   ]
  }
 ],
 "metadata": {
  "kernelspec": {
   "display_name": "Python 3",
   "language": "python",
   "name": "python3"
  },
  "language_info": {
   "codemirror_mode": {
    "name": "ipython",
    "version": 3
   },
   "file_extension": ".py",
   "mimetype": "text/x-python",
   "name": "python",
   "nbconvert_exporter": "python",
   "pygments_lexer": "ipython3",
   "version": "3.7.3"
  }
 },
 "nbformat": 4,
 "nbformat_minor": 2
}
