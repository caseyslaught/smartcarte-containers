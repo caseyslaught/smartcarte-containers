{
 "cells": [
  {
   "cell_type": "markdown",
   "id": "a9004af8-e821-4f1a-a700-98298fc9e0b4",
   "metadata": {},
   "source": [
    "# S3 📂"
   ]
  },
  {
   "cell_type": "code",
   "execution_count": null,
   "id": "abd5a9d7-5990-4339-b991-54ddc2fe2508",
   "metadata": {
    "tags": []
   },
   "outputs": [],
   "source": []
  },
  {
   "cell_type": "code",
   "execution_count": 19,
   "id": "ecd04536-f92e-470d-ae4d-60936c232d29",
   "metadata": {
    "tags": []
   },
   "outputs": [],
   "source": [
    "%reload_ext autoreload\n",
    "%autoreload 2\n",
    "\n",
    "import common.constants as constants\n",
    "import common.aws.s3 as s3_utils\n",
    "\n",
    "\n",
    "\n",
    "def save_training_tif_to_s3(tif_path, suffix, job_name):\n",
    "    \n",
    "    file_name = f'{job_name}_{suffix}.tif'\n",
    "    object_key = f'training/{job_name}/{file_name}'\n",
    "    href = f'https://data.smartcarte.earth/{object_key}'\n",
    "    \n",
    "    print(f'uploading {tif_path} to s3://{constants.S3_DATA_BUCKET}/{object_key}')\n",
    "    s3_utils.put_item(tif_path, constants.S3_DATA_BUCKET, object_key)\n",
    "    \n",
    "    return href\n"
   ]
  },
  {
   "cell_type": "code",
   "execution_count": 13,
   "id": "58ec7af0-839b-4db2-a97e-d3aab842af21",
   "metadata": {
    "tags": []
   },
   "outputs": [
    {
     "name": "stdout",
     "output_type": "stream",
     "text": [
      "uploading ./data/20200701_20200901_central/all_uint16_cog.tif to s3://smartcarte-data/training/20200701_20200901_central/20200701_20200901_central_all_uint16_cog.tif\n",
      "uploading ./data/20200701_20200901_central/rgb_byte_cog.tif to s3://smartcarte-data/training/20200701_20200901_central/20200701_20200901_central_rgb_byte_cog.tif\n",
      "uploading ./data/20211001_20211201_south/all_uint16_cog.tif to s3://smartcarte-data/training/20211001_20211201_south/20211001_20211201_south_all_uint16_cog.tif\n",
      "uploading ./data/20211001_20211201_south/rgb_byte_cog.tif to s3://smartcarte-data/training/20211001_20211201_south/20211001_20211201_south_rgb_byte_cog.tif\n",
      "uploading ./data/20210101_20210301_south/all_uint16_cog.tif to s3://smartcarte-data/training/20210101_20210301_south/20210101_20210301_south_all_uint16_cog.tif\n",
      "uploading ./data/20210101_20210301_south/rgb_byte_cog.tif to s3://smartcarte-data/training/20210101_20210301_south/20210101_20210301_south_rgb_byte_cog.tif\n",
      "uploading ./data/20220101_20220301_central/all_uint16_cog.tif to s3://smartcarte-data/training/20220101_20220301_central/20220101_20220301_central_all_uint16_cog.tif\n",
      "uploading ./data/20220101_20220301_central/rgb_byte_cog.tif to s3://smartcarte-data/training/20220101_20220301_central/20220101_20220301_central_rgb_byte_cog.tif\n",
      "uploading ./data/20221001_20221201_central/all_uint16_cog.tif to s3://smartcarte-data/training/20221001_20221201_central/20221001_20221201_central_all_uint16_cog.tif\n",
      "uploading ./data/20221001_20221201_central/rgb_byte_cog.tif to s3://smartcarte-data/training/20221001_20221201_central/20221001_20221201_central_rgb_byte_cog.tif\n",
      "uploading ./data/20220401_20220601_south/all_uint16_cog.tif to s3://smartcarte-data/training/20220401_20220601_south/20220401_20220601_south_all_uint16_cog.tif\n",
      "uploading ./data/20220401_20220601_south/rgb_byte_cog.tif to s3://smartcarte-data/training/20220401_20220601_south/20220401_20220601_south_rgb_byte_cog.tif\n",
      "uploading ./data/20201001_20201201_central/all_uint16_cog.tif to s3://smartcarte-data/training/20201001_20201201_central/20201001_20201201_central_all_uint16_cog.tif\n",
      "uploading ./data/20201001_20201201_central/rgb_byte_cog.tif to s3://smartcarte-data/training/20201001_20201201_central/20201001_20201201_central_rgb_byte_cog.tif\n",
      "uploading ./data/20200101_20200301_central/all_uint16_cog.tif to s3://smartcarte-data/training/20200101_20200301_central/20200101_20200301_central_all_uint16_cog.tif\n",
      "uploading ./data/20200101_20200301_central/rgb_byte_cog.tif to s3://smartcarte-data/training/20200101_20200301_central/20200101_20200301_central_rgb_byte_cog.tif\n",
      "uploading ./data/20200401_20200601_south/all_uint16_cog.tif to s3://smartcarte-data/training/20200401_20200601_south/20200401_20200601_south_all_uint16_cog.tif\n",
      "uploading ./data/20200401_20200601_south/rgb_byte_cog.tif to s3://smartcarte-data/training/20200401_20200601_south/20200401_20200601_south_rgb_byte_cog.tif\n",
      "uploading ./data/20220701_20220901_central/all_uint16_cog.tif to s3://smartcarte-data/training/20220701_20220901_central/20220701_20220901_central_all_uint16_cog.tif\n",
      "uploading ./data/20220701_20220901_central/rgb_byte_cog.tif to s3://smartcarte-data/training/20220701_20220901_central/20220701_20220901_central_rgb_byte_cog.tif\n",
      "uploading ./data/20210401_20210601_central/all_uint16_cog.tif to s3://smartcarte-data/training/20210401_20210601_central/20210401_20210601_central_all_uint16_cog.tif\n",
      "uploading ./data/20210401_20210601_central/rgb_byte_cog.tif to s3://smartcarte-data/training/20210401_20210601_central/20210401_20210601_central_rgb_byte_cog.tif\n",
      "uploading ./data/20210701_20210901_south/all_uint16_cog.tif to s3://smartcarte-data/training/20210701_20210901_south/20210701_20210901_south_all_uint16_cog.tif\n",
      "uploading ./data/20210701_20210901_south/rgb_byte_cog.tif to s3://smartcarte-data/training/20210701_20210901_south/20210701_20210901_south_rgb_byte_cog.tif\n",
      "uploading ./data/20220101_20220301_south/all_uint16_cog.tif to s3://smartcarte-data/training/20220101_20220301_south/20220101_20220301_south_all_uint16_cog.tif\n",
      "uploading ./data/20220101_20220301_south/rgb_byte_cog.tif to s3://smartcarte-data/training/20220101_20220301_south/20220101_20220301_south_rgb_byte_cog.tif\n",
      "uploading ./data/20221001_20221201_south/all_uint16_cog.tif to s3://smartcarte-data/training/20221001_20221201_south/20221001_20221201_south_all_uint16_cog.tif\n",
      "uploading ./data/20221001_20221201_south/rgb_byte_cog.tif to s3://smartcarte-data/training/20221001_20221201_south/20221001_20221201_south_rgb_byte_cog.tif\n",
      "uploading ./data/20210701_20210901_central/all_uint16_cog.tif to s3://smartcarte-data/training/20210701_20210901_central/20210701_20210901_central_all_uint16_cog.tif\n",
      "uploading ./data/20210701_20210901_central/rgb_byte_cog.tif to s3://smartcarte-data/training/20210701_20210901_central/20210701_20210901_central_rgb_byte_cog.tif\n",
      "uploading ./data/20200701_20200901_south/all_uint16_cog.tif to s3://smartcarte-data/training/20200701_20200901_south/20200701_20200901_south_all_uint16_cog.tif\n",
      "uploading ./data/20200701_20200901_south/rgb_byte_cog.tif to s3://smartcarte-data/training/20200701_20200901_south/20200701_20200901_south_rgb_byte_cog.tif\n",
      "uploading ./data/20200401_20200601_central/all_uint16_cog.tif to s3://smartcarte-data/training/20200401_20200601_central/20200401_20200601_central_all_uint16_cog.tif\n",
      "uploading ./data/20200401_20200601_central/rgb_byte_cog.tif to s3://smartcarte-data/training/20200401_20200601_central/20200401_20200601_central_rgb_byte_cog.tif\n",
      "uploading ./data/20210401_20210601_south/all_uint16_cog.tif to s3://smartcarte-data/training/20210401_20210601_south/20210401_20210601_south_all_uint16_cog.tif\n",
      "uploading ./data/20210401_20210601_south/rgb_byte_cog.tif to s3://smartcarte-data/training/20210401_20210601_south/20210401_20210601_south_rgb_byte_cog.tif\n",
      "uploading ./data/20211001_20211201_central/all_uint16_cog.tif to s3://smartcarte-data/training/20211001_20211201_central/20211001_20211201_central_all_uint16_cog.tif\n",
      "uploading ./data/20211001_20211201_central/rgb_byte_cog.tif to s3://smartcarte-data/training/20211001_20211201_central/20211001_20211201_central_rgb_byte_cog.tif\n",
      "uploading ./data/20210101_20210301_central/all_uint16_cog.tif to s3://smartcarte-data/training/20210101_20210301_central/20210101_20210301_central_all_uint16_cog.tif\n",
      "uploading ./data/20210101_20210301_central/rgb_byte_cog.tif to s3://smartcarte-data/training/20210101_20210301_central/20210101_20210301_central_rgb_byte_cog.tif\n",
      "uploading ./data/20220701_20220901_south/all_uint16_cog.tif to s3://smartcarte-data/training/20220701_20220901_south/20220701_20220901_south_all_uint16_cog.tif\n",
      "uploading ./data/20220701_20220901_south/rgb_byte_cog.tif to s3://smartcarte-data/training/20220701_20220901_south/20220701_20220901_south_rgb_byte_cog.tif\n",
      "uploading ./data/20200101_20200301_south/all_uint16_cog.tif to s3://smartcarte-data/training/20200101_20200301_south/20200101_20200301_south_all_uint16_cog.tif\n",
      "uploading ./data/20200101_20200301_south/rgb_byte_cog.tif to s3://smartcarte-data/training/20200101_20200301_south/20200101_20200301_south_rgb_byte_cog.tif\n",
      "uploading ./data/20201001_20201201_south/all_uint16_cog.tif to s3://smartcarte-data/training/20201001_20201201_south/20201001_20201201_south_all_uint16_cog.tif\n",
      "uploading ./data/20201001_20201201_south/rgb_byte_cog.tif to s3://smartcarte-data/training/20201001_20201201_south/20201001_20201201_south_rgb_byte_cog.tif\n",
      "uploading ./data/20220401_20220601_central/all_uint16_cog.tif to s3://smartcarte-data/training/20220401_20220601_central/20220401_20220601_central_all_uint16_cog.tif\n",
      "uploading ./data/20220401_20220601_central/rgb_byte_cog.tif to s3://smartcarte-data/training/20220401_20220601_central/20220401_20220601_central_rgb_byte_cog.tif\n",
      "done uploading TIFs to S3...\n"
     ]
    }
   ],
   "source": [
    "import glob\n",
    "import os\n",
    "import shelve\n",
    "\n",
    "\n",
    "state_path = \"./data/trainingState\"\n",
    "with shelve.open(state_path) as state:\n",
    "    jobs_paths = glob.glob(\"./data/20*\")\n",
    "    for path in jobs_paths:\n",
    "        job_name = path.split('/')[-1]\n",
    "\n",
    "        all_tif_path = f'{path}/all_uint16_cog.tif'\n",
    "        rgb_tif_path = f'{path}/rgb_byte_cog.tif'\n",
    "\n",
    "        all_cog_href = save_training_tif_to_s3(all_tif_path, \"all_uint16_cog\", job_name)        \n",
    "        rgb_cog_href = save_training_tif_to_s3(rgb_tif_path, \"rgb_byte_cog\", job_name)\n",
    "        \n",
    "        state[job_name] = {\n",
    "            'all_cog_href': all_cog_href,\n",
    "            'rgb_cog_href': rgb_cog_href\n",
    "        }\n",
    "\n",
    "        \n",
    "        \n",
    "print(\"done uploading TIFs to S3...\")"
   ]
  },
  {
   "cell_type": "code",
   "execution_count": null,
   "id": "89b24fb3-83e8-4d8e-9c28-4be1a4ee0ef9",
   "metadata": {
    "tags": []
   },
   "outputs": [],
   "source": []
  },
  {
   "cell_type": "markdown",
   "id": "3f9397dc-3bc7-40d9-9674-ae843ece05f0",
   "metadata": {},
   "source": [
    "# Labelbox 📝"
   ]
  },
  {
   "cell_type": "code",
   "execution_count": 21,
   "id": "b21ceffe-b22c-4285-948c-d429073bfc01",
   "metadata": {
    "tags": []
   },
   "outputs": [],
   "source": [
    "%%capture\n",
    "%pip install labelbox\n",
    "\n",
    "from common.sagemaker_env import LABELBOX_API_KEY\n"
   ]
  },
  {
   "cell_type": "code",
   "execution_count": null,
   "id": "8d467859-3b7b-432c-ba80-019879d2889f",
   "metadata": {
    "tags": []
   },
   "outputs": [],
   "source": []
  },
  {
   "cell_type": "code",
   "execution_count": 43,
   "id": "ed55b2b0-97b7-4144-a3ef-378f4c5b461c",
   "metadata": {
    "tags": []
   },
   "outputs": [
    {
     "ename": "ValueError",
     "evalue": "central dataset already exists",
     "output_type": "error",
     "traceback": [
      "\u001b[0;31m---------------------------------------------------------------------------\u001b[0m",
      "\u001b[0;31mValueError\u001b[0m                                Traceback (most recent call last)",
      "\u001b[0;32m/tmp/ipykernel_34/675784764.py\u001b[0m in \u001b[0;36m<module>\u001b[0;34m\u001b[0m\n\u001b[1;32m     19\u001b[0m     \u001b[0mcentral_dataset\u001b[0m \u001b[0;34m=\u001b[0m \u001b[0mclient\u001b[0m\u001b[0;34m.\u001b[0m\u001b[0mcreate_dataset\u001b[0m\u001b[0;34m(\u001b[0m\u001b[0mname\u001b[0m\u001b[0;34m=\u001b[0m\u001b[0mcentral_dataset_name\u001b[0m\u001b[0;34m)\u001b[0m\u001b[0;34m\u001b[0m\u001b[0;34m\u001b[0m\u001b[0m\n\u001b[1;32m     20\u001b[0m \u001b[0;32melse\u001b[0m\u001b[0;34m:\u001b[0m\u001b[0;34m\u001b[0m\u001b[0;34m\u001b[0m\u001b[0m\n\u001b[0;32m---> 21\u001b[0;31m     \u001b[0;32mraise\u001b[0m \u001b[0mValueError\u001b[0m\u001b[0;34m(\u001b[0m\u001b[0;34m'central dataset already exists'\u001b[0m\u001b[0;34m)\u001b[0m\u001b[0;34m\u001b[0m\u001b[0;34m\u001b[0m\u001b[0m\n\u001b[0m\u001b[1;32m     22\u001b[0m \u001b[0;34m\u001b[0m\u001b[0m\n\u001b[1;32m     23\u001b[0m \u001b[0msouthern_dataset\u001b[0m \u001b[0;34m=\u001b[0m \u001b[0mclient\u001b[0m\u001b[0;34m.\u001b[0m\u001b[0mget_datasets\u001b[0m\u001b[0;34m(\u001b[0m\u001b[0mwhere\u001b[0m\u001b[0;34m=\u001b[0m\u001b[0;34m(\u001b[0m\u001b[0mDataset\u001b[0m\u001b[0;34m.\u001b[0m\u001b[0mname\u001b[0m\u001b[0;34m==\u001b[0m\u001b[0msouthern_dataset_name\u001b[0m\u001b[0;34m)\u001b[0m\u001b[0;34m)\u001b[0m\u001b[0;34m.\u001b[0m\u001b[0mget_one\u001b[0m\u001b[0;34m(\u001b[0m\u001b[0;34m)\u001b[0m\u001b[0;34m\u001b[0m\u001b[0;34m\u001b[0m\u001b[0m\n",
      "\u001b[0;31mValueError\u001b[0m: central dataset already exists"
     ]
    }
   ],
   "source": [
    "import datetime\n",
    "import json\n",
    "from labelbox import Client, Dataset, DataRow\n",
    "import os\n",
    "import shelve\n",
    "from uuid import uuid4\n",
    "\n",
    "\n",
    "client = Client(api_key=LABELBOX_API_KEY)\n",
    "project = client.get_project(\"clcrkcvn9281j07xybmww69pn\")\n",
    "\n",
    "today = datetime.datetime.today().strftime('%Y%m%d')\n",
    "\n",
    "central_dataset_name = f\"{today} Central Sector\"\n",
    "southern_dataset_name = f\"{today} Southern Sector\"\n",
    "\n",
    "central_dataset = client.get_datasets(where=(Dataset.name==central_dataset_name)).get_one()\n",
    "if central_dataset is None:\n",
    "    central_dataset = client.create_dataset(name=central_dataset_name)\n",
    "else:\n",
    "    raise ValueError('central dataset already exists')\n",
    "    \n",
    "southern_dataset = client.get_datasets(where=(Dataset.name==southern_dataset_name)).get_one()\n",
    "if southern_dataset is None:\n",
    "    southern_dataset = client.create_dataset(name=southern_dataset_name)\n",
    "else:\n",
    "    raise ValueError('southern dataset already exists')\n",
    "\n",
    "central_payload, southern_payload = [], []\n",
    "\n",
    "state_path = \"./data/trainingState\"\n",
    "with shelve.open(state_path) as state:\n",
    "\n",
    "    for job_name in state.keys():\n",
    "        sector = job_name.split('_')[-1]\n",
    "                \n",
    "        row =   {\n",
    "            \"min_zoom\": 10,\n",
    "            \"max_zoom\": 16,\n",
    "            \"tile_layer_url\": state[job_name][\"rgb_cog_href\"]\n",
    "        }\n",
    "        \n",
    "        if sector == \"central\":\n",
    "            central_payload.append(row)\n",
    "        elif sector == \"south\":\n",
    "            southern_payload.append(row)\n",
    "        else:\n",
    "            raise ValueError(\"Unknown sector: \" + sector)\n",
    "       \n",
    "\n",
    "central_payload = [{DataRow.row_data: row} for row in central_payload]\n",
    "southern_payload = [{DataRow.row_data: row} for row in southern_payload]\n",
    "\n",
    "central_task = central_dataset.create_data_rows(central_payload)\n",
    "central_task.wait_till_done()\n",
    "print('central done')\n",
    "\n",
    "southern_task = southern_dataset.create_data_rows(southern_payload)\n",
    "southern_task.wait_till_done()\n",
    "print('southern done')\n",
    "        "
   ]
  },
  {
   "cell_type": "code",
   "execution_count": null,
   "id": "3e1d5ba8-db4f-459f-9713-d7dbb67b2e6e",
   "metadata": {},
   "outputs": [],
   "source": []
  },
  {
   "cell_type": "code",
   "execution_count": null,
   "id": "767a3d43-1b6c-40e7-8c85-6784920e4be7",
   "metadata": {},
   "outputs": [],
   "source": []
  }
 ],
 "metadata": {
  "instance_type": "ml.m5.4xlarge",
  "kernelspec": {
   "display_name": "Python 3 (Geospatial 1.0)",
   "language": "python",
   "name": "python3__SAGEMAKER_INTERNAL__arn:aws:sagemaker:us-west-2:081189585635:image/sagemaker-geospatial-v1-0"
  },
  "language_info": {
   "codemirror_mode": {
    "name": "ipython",
    "version": 3
   },
   "file_extension": ".py",
   "mimetype": "text/x-python",
   "name": "python",
   "nbconvert_exporter": "python",
   "pygments_lexer": "ipython3",
   "version": "3.10.4"
  }
 },
 "nbformat": 4,
 "nbformat_minor": 5
}
