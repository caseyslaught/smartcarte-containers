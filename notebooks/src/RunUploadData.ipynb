{
 "cells": [
  {
   "cell_type": "markdown",
   "id": "a9004af8-e821-4f1a-a700-98298fc9e0b4",
   "metadata": {},
   "source": [
    "# S3 📂"
   ]
  },
  {
   "cell_type": "code",
   "execution_count": 2,
   "id": "abd5a9d7-5990-4339-b991-54ddc2fe2508",
   "metadata": {},
   "outputs": [],
   "source": [
    "import glob\n",
    "\n",
    "rgb_tif_paths = glob.glob(\"./data/20*/rgb_byte_cog.tif\")\n"
   ]
  },
  {
   "cell_type": "code",
   "execution_count": 6,
   "id": "ecd04536-f92e-470d-ae4d-60936c232d29",
   "metadata": {},
   "outputs": [],
   "source": [
    "%run _aws.ipynb\n",
    "%run _constants.ipynb\n",
    "\n",
    "\n",
    "def save_training_tif_to_s3(tif_path, job_name):\n",
    "    \n",
    "    file_name = f'{job_name}_rgb.tif'\n",
    "    object_key = f'training/{job_name}/{file_name}'\n",
    "    href = f'https://data.smartcarte.earth/{object_key}'\n",
    "    \n",
    "    print(f'uploading {tif_path} to s3://{S3_DATA_BUCKET}/{object_key}')\n",
    "    put_item(tif_path, S3_DATA_BUCKET, object_key)\n",
    "    \n",
    "    return href\n"
   ]
  },
  {
   "cell_type": "code",
   "execution_count": 22,
   "id": "89b24fb3-83e8-4d8e-9c28-4be1a4ee0ef9",
   "metadata": {},
   "outputs": [
    {
     "name": "stdout",
     "output_type": "stream",
     "text": [
      "done uploading TIFs to S3...\n"
     ]
    }
   ],
   "source": [
    "import glob\n",
    "import os\n",
    "import shelve\n",
    "\n",
    "\n",
    "rgb_tif_paths = glob.glob(\"./data/20*/rgb_byte_cog.tif\")\n",
    "\n",
    "state_path = \"./data/trainingState\"\n",
    "with shelve.open(state_path) as state:\n",
    "\n",
    "    for tif_path in rgb_tif_paths:\n",
    "                \n",
    "        parts = tif_path.split('/')\n",
    "        job_name = parts[2]\n",
    "        \n",
    "        if state.get(job_name, {}).get(\"rgb_cog_href\") is not None:\n",
    "            continue\n",
    "        \n",
    "        rgb_cog_href = save_training_tif_to_s3(tif_path, job_name)\n",
    "        state[job_name] = {\"rgb_cog_href\": rgb_cog_href}\n",
    "        \n",
    "print(\"done uploading TIFs to S3...\")\n",
    "   "
   ]
  },
  {
   "cell_type": "markdown",
   "id": "3f9397dc-3bc7-40d9-9674-ae843ece05f0",
   "metadata": {},
   "source": [
    "# Labelbox 📝"
   ]
  },
  {
   "cell_type": "code",
   "execution_count": 26,
   "id": "ed55b2b0-97b7-4144-a3ef-378f4c5b461c",
   "metadata": {},
   "outputs": [
    {
     "name": "stdout",
     "output_type": "stream",
     "text": [
      "https://data.smartcarte.earth/training/20210701_20210901_south/20210701_20210901_south_rgb.tif\n",
      "https://data.smartcarte.earth/training/20220701_20220901_central/20220701_20220901_central_rgb.tif\n",
      "https://data.smartcarte.earth/training/20201001_20201201_central/20201001_20201201_central_rgb.tif\n",
      "https://data.smartcarte.earth/training/20220701_20220901_south/20220701_20220901_south_rgb.tif\n",
      "https://data.smartcarte.earth/training/20210401_20210601_south/20210401_20210601_south_rgb.tif\n",
      "https://data.smartcarte.earth/training/20220401_20220601_central/20220401_20220601_central_rgb.tif\n",
      "https://data.smartcarte.earth/training/20220401_20220601_south/20220401_20220601_south_rgb.tif\n",
      "https://data.smartcarte.earth/training/20200401_20200601_central/20200401_20200601_central_rgb.tif\n",
      "https://data.smartcarte.earth/training/20200401_20200601_south/20200401_20200601_south_rgb.tif\n",
      "https://data.smartcarte.earth/training/20210401_20210601_central/20210401_20210601_central_rgb.tif\n",
      "https://data.smartcarte.earth/training/20200101_20200301_central/20200101_20200301_central_rgb.tif\n",
      "https://data.smartcarte.earth/training/20201001_20201201_south/20201001_20201201_south_rgb.tif\n",
      "https://data.smartcarte.earth/training/20211001_20211201_central/20211001_20211201_central_rgb.tif\n",
      "https://data.smartcarte.earth/training/20200101_20200301_south/20200101_20200301_south_rgb.tif\n",
      "https://data.smartcarte.earth/training/20210101_20210301_central/20210101_20210301_central_rgb.tif\n",
      "https://data.smartcarte.earth/training/20211001_20211201_south/20211001_20211201_south_rgb.tif\n",
      "https://data.smartcarte.earth/training/20221001_20221201_central/20221001_20221201_central_rgb.tif\n",
      "https://data.smartcarte.earth/training/20210101_20210301_south/20210101_20210301_south_rgb.tif\n",
      "https://data.smartcarte.earth/training/20220101_20220301_central/20220101_20220301_central_rgb.tif\n",
      "https://data.smartcarte.earth/training/20221001_20221201_south/20221001_20221201_south_rgb.tif\n",
      "https://data.smartcarte.earth/training/20200701_20200901_central/20200701_20200901_central_rgb.tif\n",
      "https://data.smartcarte.earth/training/20220101_20220301_south/20220101_20220301_south_rgb.tif\n",
      "https://data.smartcarte.earth/training/20200701_20200901_south/20200701_20200901_south_rgb.tif\n",
      "https://data.smartcarte.earth/training/20210701_20210901_central/20210701_20210901_central_rgb.tif\n"
     ]
    }
   ],
   "source": [
    "import datetime\n",
    "from labelbox import Client\n",
    "import os\n",
    "from uuid import uuid4\n",
    "\n",
    "\n",
    "client = Client(api_key=os.environ[\"LABELBOX_API_KEY\"])\n",
    "\n",
    "project = client.get_project(\"clcrkcvn9281j07xybmww69pn\")\n",
    "\n",
    "#dataset = cget_dataset(dataset_id)\n",
    "\n",
    "#dataset = client.create_dataset(name=\"My new dataset\")\n",
    "\n",
    "state_path = \"./data/trainingState\"\n",
    "with shelve.open(state_path) as state:\n",
    "\n",
    "    for job_name in state.keys():\n",
    "        rgb_cog_href = state[job_name][\"rgb_cog_href\"]\n",
    "        print(rgb_cog_href)"
   ]
  },
  {
   "cell_type": "code",
   "execution_count": null,
   "id": "3e1d5ba8-db4f-459f-9713-d7dbb67b2e6e",
   "metadata": {},
   "outputs": [],
   "source": []
  },
  {
   "cell_type": "code",
   "execution_count": null,
   "id": "767a3d43-1b6c-40e7-8c85-6784920e4be7",
   "metadata": {},
   "outputs": [],
   "source": []
  }
 ],
 "metadata": {
  "kernelspec": {
   "display_name": "Python 3 (ipykernel)",
   "language": "python",
   "name": "python3"
  },
  "language_info": {
   "codemirror_mode": {
    "name": "ipython",
    "version": 3
   },
   "file_extension": ".py",
   "mimetype": "text/x-python",
   "name": "python",
   "nbconvert_exporter": "python",
   "pygments_lexer": "ipython3",
   "version": "3.8.16"
  }
 },
 "nbformat": 4,
 "nbformat_minor": 5
}
